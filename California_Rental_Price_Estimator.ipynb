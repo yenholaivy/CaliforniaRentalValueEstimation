{
 "cells": [
  {
   "cell_type": "code",
   "execution_count": 6,
   "metadata": {},
   "outputs": [],
   "source": [
    "import pandas as pd\n",
    "import numpy as np\n",
    "import matplotlib.pyplot as plt\n",
    "import seaborn as sns\n",
    "\n",
    "from sklearn.linear_model import LinearRegression, Ridge, RidgeCV\n",
    "from sklearn.model_selection import train_test_split, KFold, GridSearchCV\n",
    "from sklearn.metrics import mean_squared_error\n",
    "from sklearn.preprocessing import StandardScaler\n",
    "from sklearn.tree import DecisionTreeRegressor\n",
    "from sklearn.ensemble import RandomForestRegressor\n",
    "from sklearn.ensemble import GradientBoostingRegressor\n",
    "\n",
    "import statsmodels.api as sm\n",
    "import statsmodels.formula.api as smf\n",
    "\n",
    "import warnings\n",
    "warnings.filterwarnings('ignore')\n",
    "\n",
    "plt.style.use('ggplot')"
   ]
  },
  {
   "cell_type": "code",
   "execution_count": 162,
   "metadata": {},
   "outputs": [],
   "source": [
    "def get_city_dummies(data, n_dummies):\n",
    "    city_dummies = pd.get_dummies(data['city'])\n",
    "    index = data['city'].value_counts().head(n_dummies).index\n",
    "    return pd.concat([data, city_dummies[index]], axis=1)"
   ]
  },
  {
   "cell_type": "markdown",
   "metadata": {},
   "source": [
    "#### Read all data to dataframe"
   ]
  },
  {
   "cell_type": "code",
   "execution_count": 17,
   "metadata": {},
   "outputs": [
    {
     "name": "stdout",
     "output_type": "stream",
     "text": [
      "<class 'pandas.core.frame.DataFrame'>\n",
      "RangeIndex: 15588 entries, 0 to 15587\n",
      "Data columns (total 20 columns):\n",
      " #   Column                      Non-Null Count  Dtype  \n",
      "---  ------                      --------------  -----  \n",
      " 0   Rental Price                15588 non-null  float64\n",
      " 1   Number of Beds              15588 non-null  int64  \n",
      " 2   Number of Baths             15588 non-null  float64\n",
      " 3   SQ-FT                       15588 non-null  float64\n",
      " 4   Walkscore                   15588 non-null  float64\n",
      " 5   Allow Pets                  15588 non-null  int64  \n",
      " 6   Minimum Lease Length        15588 non-null  int64  \n",
      " 7   Onsite Parking              15588 non-null  int64  \n",
      " 8   Pool                        15588 non-null  int64  \n",
      " 9   Fitness Center              15588 non-null  int64  \n",
      " 10  Elevator                    15588 non-null  int64  \n",
      " 11  Number of Kitchen Features  15588 non-null  int64  \n",
      " 12  Security System             15588 non-null  int64  \n",
      " 13  Washer/Dryer                15588 non-null  int64  \n",
      " 14  WiFi                        15588 non-null  int64  \n",
      " 15  Air Conditioning            15588 non-null  int64  \n",
      " 16  Furnished                   15588 non-null  int64  \n",
      " 17  Los Angeles                 15588 non-null  uint8  \n",
      " 18  San Diego                   15588 non-null  uint8  \n",
      " 19  San Francisco               15588 non-null  uint8  \n",
      "dtypes: float64(4), int64(13), uint8(3)\n",
      "memory usage: 2.1 MB\n"
     ]
    }
   ],
   "source": [
    "path = '/Users/ivylai/Desktop/Galvanize/clean_apt_data.csv'\n",
    "data = pd.read_csv(path)\n",
    "data.drop(columns = ['Unnamed: 0','url','property_name'], inplace = True)\n",
    "data = get_city_dummies(data, 3)\n",
    "data.rename(columns = {'rent_updated':'Rental Price','n_bed':'Number of Beds','n_bath':'Number of Baths',\n",
    "                        'sq_ft_updated':'SQ-FT','allow_pet':'Allow Pets','minimum_lease':'Minimum Lease Length',\n",
    "                        'onsite_parking':'Onsite Parking','pool':'Pool','fitness_center':'Fitness Center', \n",
    "                        'elevator':'Elevator', 'kitchen_features': 'Number of Kitchen Features', \n",
    "                        'security_system':'Security System','washer_dryer':'Washer/Dryer', 'internet':'WiFi', \n",
    "                        'air_conditioning':'Air Conditioning', 'furnished':'Furnished','walkscore':'Walkscore'},inplace=True)\n",
    "data.drop(columns = 'city', inplace=True)\n",
    "data.info()"
   ]
  },
  {
   "cell_type": "markdown",
   "metadata": {},
   "source": [
    "#### Read data with no range to dataframe"
   ]
  },
  {
   "cell_type": "code",
   "execution_count": 18,
   "metadata": {},
   "outputs": [
    {
     "name": "stdout",
     "output_type": "stream",
     "text": [
      "<class 'pandas.core.frame.DataFrame'>\n",
      "RangeIndex: 7122 entries, 0 to 7121\n",
      "Data columns (total 20 columns):\n",
      " #   Column                      Non-Null Count  Dtype  \n",
      "---  ------                      --------------  -----  \n",
      " 0   Rental Price                7122 non-null   float64\n",
      " 1   Number of Beds              7122 non-null   int64  \n",
      " 2   Number of Baths             7122 non-null   float64\n",
      " 3   SQ-FT                       7122 non-null   float64\n",
      " 4   Walkscore                   7122 non-null   float64\n",
      " 5   Allow Pets                  7122 non-null   int64  \n",
      " 6   Minimum Lease Length        7122 non-null   int64  \n",
      " 7   Onsite Parking              7122 non-null   int64  \n",
      " 8   Pool                        7122 non-null   int64  \n",
      " 9   Fitness Center              7122 non-null   int64  \n",
      " 10  Elevator                    7122 non-null   int64  \n",
      " 11  Number of Kitchen Features  7122 non-null   int64  \n",
      " 12  Security System             7122 non-null   int64  \n",
      " 13  Washer/Dryer                7122 non-null   int64  \n",
      " 14  WiFi                        7122 non-null   int64  \n",
      " 15  Air Conditioning            7122 non-null   int64  \n",
      " 16  Furnished                   7122 non-null   int64  \n",
      " 17  Los Angeles                 7122 non-null   uint8  \n",
      " 18  San Diego                   7122 non-null   uint8  \n",
      " 19  San Francisco               7122 non-null   uint8  \n",
      "dtypes: float64(4), int64(13), uint8(3)\n",
      "memory usage: 966.9 KB\n"
     ]
    }
   ],
   "source": [
    "path = '/Users/ivylai/Desktop/Galvanize/clean_apt_data_norange.csv'\n",
    "data_norange = pd.read_csv(path)\n",
    "data_norange.drop(columns = ['Unnamed: 0','url','property_name','rent_range','sq_ft_range'], inplace = True)\n",
    "data_norange = get_city_dummies(data_norange, 3)\n",
    "data_norange.rename(columns = {'rent_updated':'Rental Price','n_bed':'Number of Beds','n_bath':'Number of Baths',\n",
    "                        'sq_ft_updated':'SQ-FT','allow_pet':'Allow Pets','minimum_lease':'Minimum Lease Length',\n",
    "                        'onsite_parking':'Onsite Parking','pool':'Pool','fitness_center':'Fitness Center', \n",
    "                        'elevator':'Elevator', 'kitchen_features': 'Number of Kitchen Features', \n",
    "                        'security_system':'Security System','washer_dryer':'Washer/Dryer', 'internet':'WiFi', \n",
    "                        'air_conditioning':'Air Conditioning', 'furnished':'Furnished','walkscore':'Walkscore'},inplace=True)\n",
    "data_norange.drop(columns = 'city', inplace=True)\n",
    "data_norange.info()"
   ]
  },
  {
   "cell_type": "markdown",
   "metadata": {},
   "source": [
    "## Modeling"
   ]
  },
  {
   "cell_type": "code",
   "execution_count": 55,
   "metadata": {},
   "outputs": [],
   "source": [
    "def cross_val(X_train, y_train, k, regression = None):\n",
    "    kf = KFold(n_splits=k, shuffle=True)\n",
    "    scores = []\n",
    "    \n",
    "    if regression != None:\n",
    "        scaler = StandardScaler()\n",
    "        X_std = scaler.fit_transform(X_train)\n",
    "        model = regression\n",
    "        for train, test in kf.split(X_std):\n",
    "            model.fit(X_std[train], y_train.iloc[train])\n",
    "            y_pred = model.predict(X_std[test])\n",
    "            scores.append(mean_squared_error(y_train.iloc[test], y_pred))\n",
    "            \n",
    "    else:\n",
    "        for train, test in kf.split(X_train):\n",
    "            y_pred = np.full(y_train.iloc[test].shape, np.mean(y_train.iloc[train]))\n",
    "            scores.append(mean_squared_error(y_train.iloc[test], y_pred))\n",
    "    \n",
    "    average_score = round(np.sqrt(np.mean(scores)),2)\n",
    "        \n",
    "    return average_score"
   ]
  },
  {
   "cell_type": "code",
   "execution_count": 94,
   "metadata": {},
   "outputs": [],
   "source": [
    "#Baseline\n",
    "def baseline_train_validate(X_train, y_train, k):\n",
    "    baseline_train = cross_val(X_train, y_train, k, regression = None)\n",
    "    print(f\"Baseline RMSE: {baseline_train}\")"
   ]
  },
  {
   "cell_type": "code",
   "execution_count": 95,
   "metadata": {},
   "outputs": [],
   "source": [
    "# Linear Regression\n",
    "def lin_reg_train_validate(X_train, y_train, k):\n",
    "    lin_reg = LinearRegression()\n",
    "    lin_reg_train = cross_val(X_train, y_train, k, regression = lin_reg)\n",
    "    print(f\"Linear Regression RMSE: {lin_reg_train}\")\n",
    "    return lin_reg"
   ]
  },
  {
   "cell_type": "code",
   "execution_count": 96,
   "metadata": {},
   "outputs": [],
   "source": [
    "# Ridge Regression\n",
    "def ridge_ref_train_validate(alpha_lower, alpha_upper, X_train, y_train, k):\n",
    "    alphas = np.linspace(alpha_lower, alpha_upper, 1000)\n",
    "    scaler = StandardScaler()\n",
    "    X_std = scaler.fit_transform(X_train)\n",
    "    regr_cv = RidgeCV(alphas=alphas)\n",
    "    model_cv = regr_cv.fit(X_std, y_train)\n",
    "    best_alpha = round(model_cv.alpha_,1)\n",
    "    print(f\"Best alpha is: {best_alpha}\")\n",
    "    ridge_reg = Ridge(alpha = best_alpha)\n",
    "    ridge_reg_train = cross_val(X_train, y_train, k, regression = ridge_reg)\n",
    "    print(f\"Ridge Regression RMSE: {ridge_reg_train}\")\n",
    "    return ridge_reg"
   ]
  },
  {
   "cell_type": "code",
   "execution_count": 103,
   "metadata": {},
   "outputs": [],
   "source": [
    "# Decision Tree\n",
    "def decision_tree_train_validaion(dt_grid, X_train, y_train, k):\n",
    "    dt_gridsearch = GridSearchCV(DecisionTreeRegressor(),\n",
    "                                 dt_grid,\n",
    "                                 n_jobs=-1,\n",
    "                                 verbose=False,\n",
    "                                 scoring='neg_mean_squared_error')\n",
    "    dt_gridsearch.fit(X_train, y_train)\n",
    "    print(\"Best parameters:\", dt_gridsearch.best_params_)\n",
    "    dt_model = dt_gridsearch.best_estimator_\n",
    "    dt_train = cross_val(X_train, y_train, k, regression = dt_model)\n",
    "    print(f\"Decision Tree RMSE: {dt_train}\")\n",
    "    return dt_model"
   ]
  },
  {
   "cell_type": "code",
   "execution_count": 110,
   "metadata": {},
   "outputs": [],
   "source": [
    "# Random Forest\n",
    "def random_forest_train_validaion(rf_grid, X_train, y_train, k):\n",
    "    rf_gridsearch = GridSearchCV(RandomForestRegressor(),\n",
    "                                 rf_grid,\n",
    "                                 n_jobs=-1,\n",
    "                                 verbose=False,\n",
    "                                 scoring='neg_mean_squared_error')\n",
    "    rf_gridsearch.fit(X_train, y_train)\n",
    "    print(\"Best parameters:\", rf_gridsearch.best_params_)\n",
    "    rf_model = rf_gridsearch.best_estimator_\n",
    "    rf_train = cross_val(X_train, y_train, k, regression = rf_model)\n",
    "    print(f\"Random Forest RMSE: {rf_train}\")\n",
    "    return rf_model"
   ]
  },
  {
   "cell_type": "code",
   "execution_count": 112,
   "metadata": {},
   "outputs": [],
   "source": [
    "# Gradient Boosting\n",
    "def gradient_boosting_train_validaion(gb_grid, n_estimators, X_train, y_train, k):\n",
    "    gb_gridsearch = GridSearchCV(GradientBoostingRegressor(n_estimators=n_estimators),\n",
    "                                 gb_grid,\n",
    "                                 n_jobs=-1,\n",
    "                                 verbose=False,\n",
    "                                 scoring='neg_mean_squared_error')\n",
    "    gb_gridsearch.fit(X_train, y_train)\n",
    "    print(\"Best parameters:\", gb_gridsearch.best_params_)\n",
    "    gb_model = gb_gridsearch.best_estimator_\n",
    "    gb_train = cross_val(X_train, y_train, k, regression = gb_model)\n",
    "    print(f\"Random Forest RMSE: {gb_train}\")\n",
    "    return gb_model"
   ]
  },
  {
   "cell_type": "code",
   "execution_count": 117,
   "metadata": {},
   "outputs": [],
   "source": [
    "def final_testing(X_train, X_test, y_train, y_test, model):\n",
    "    model_name = type(model).__name__\n",
    "    model.fit(X_train, y_train)\n",
    "    y_pred = model.predict(X_test)\n",
    "    score = round(np.sqrt(mean_squared_error(y_test,y_pred)),2)\n",
    "    print(f'Final RMSE for {model_name}: {score}')\n",
    "    return score"
   ]
  },
  {
   "cell_type": "markdown",
   "metadata": {},
   "source": [
    "#### Train and Test on All Data"
   ]
  },
  {
   "cell_type": "code",
   "execution_count": 47,
   "metadata": {},
   "outputs": [],
   "source": [
    "X_all = data.drop(columns = 'Rental Price')\n",
    "y_all = data['Rental Price']\n",
    "X_all_train, X_all_test, y_all_train, y_all_test = train_test_split(X_all, y_all)"
   ]
  },
  {
   "cell_type": "code",
   "execution_count": 123,
   "metadata": {},
   "outputs": [
    {
     "name": "stdout",
     "output_type": "stream",
     "text": [
      "Baseline RMSE: 1871.82\n",
      "Linear Regression RMSE: 1428.83\n",
      "\n",
      "Best alpha is: 83.4\n",
      "Ridge Regression RMSE: 1428.67\n"
     ]
    }
   ],
   "source": [
    "baseline_train_validate(X_all_train, y_all_train, 10)\n",
    "lin_reg = lin_reg_train_validate(X_all_train, y_all_train, 10)\n",
    "print(\"\")\n",
    "ridge_reg = ridge_ref_train_validate(50, 250, X_all_train, y_all_train, 10)"
   ]
  },
  {
   "cell_type": "code",
   "execution_count": 104,
   "metadata": {},
   "outputs": [
    {
     "name": "stdout",
     "output_type": "stream",
     "text": [
      "Best parameters: {'max_depth': None, 'max_features': None, 'min_samples_leaf': 15, 'min_samples_split': 2, 'random_state': 1}\n",
      "Decision Tree RMSE: 1440.03\n"
     ]
    }
   ],
   "source": [
    "dt_grid = {'max_depth': [3, 5, None],\n",
    "            'max_features': ['sqrt', 'log2', None],\n",
    "            'min_samples_split': [1, 2, 4],\n",
    "            'min_samples_leaf': [10, 12, 15, 17, 20],\n",
    "            'random_state': [1, None]}\n",
    "\n",
    "dt_model = decision_tree_train_validaion(dt_grid, X_all_train, y_all_train, 10)"
   ]
  },
  {
   "cell_type": "code",
   "execution_count": 111,
   "metadata": {},
   "outputs": [
    {
     "name": "stdout",
     "output_type": "stream",
     "text": [
      "Best parameters: {'bootstrap': False, 'max_depth': None, 'max_features': 'sqrt', 'min_samples_leaf': 1, 'min_samples_split': 4, 'n_estimators': 100, 'random_state': None}\n",
      "Random Forest RMSE: 1096.57\n"
     ]
    }
   ],
   "source": [
    "rf_grid = {'max_depth': [3,5, None],\n",
    "            'max_features': ['sqrt', 'log2', None],\n",
    "            'min_samples_split': [2, 4, 6],\n",
    "            'min_samples_leaf': [1, 2, 4],\n",
    "            'bootstrap': [True, False],\n",
    "            'n_estimators': [80, 100, 120],\n",
    "            'random_state': [1, None]}\n",
    "\n",
    "rf_model = random_forest_train_validaion(rf_grid, X_all_train, y_all_train, 10)"
   ]
  },
  {
   "cell_type": "code",
   "execution_count": 119,
   "metadata": {},
   "outputs": [
    {
     "name": "stdout",
     "output_type": "stream",
     "text": [
      "Best parameters: {'learning_rate': 0.05, 'max_depth': None, 'max_features': 'sqrt', 'min_samples_leaf': 4, 'n_estimators': 80, 'random_state': None}\n",
      "Random Forest RMSE: 1116.33\n"
     ]
    }
   ],
   "source": [
    "gb_grid = {'learning_rate': [0.01, 0.05, 0.1, 0.5],\n",
    "              'max_depth': [3,5, None],\n",
    "              'max_features': ['sqrt', 'log2', None],\n",
    "              'min_samples_leaf': [ 2, 4,6],\n",
    "              'n_estimators': [20, 40, 80, 100],\n",
    "              'random_state': [1, None]}\n",
    "\n",
    "gb_model = gradient_boosting_train_validaion(gb_grid, 1000, X_all_train, y_all_train, 10)"
   ]
  },
  {
   "cell_type": "code",
   "execution_count": 124,
   "metadata": {},
   "outputs": [
    {
     "name": "stdout",
     "output_type": "stream",
     "text": [
      "Final RMSE for Baseline: 1785.9\n",
      "Final RMSE for LinearRegression: 1436.02\n",
      "Final RMSE for Ridge: 1436.27\n",
      "Final RMSE for DecisionTreeRegressor: 1381.05\n",
      "Final RMSE for RandomForestRegressor: 1016.21\n",
      "Final RMSE for GradientBoostingRegressor: 1016.91\n"
     ]
    }
   ],
   "source": [
    "y_mean_pred = np.full(y_all_test.shape, np.mean(y_all_train))\n",
    "baseline_score = round(np.sqrt(mean_squared_error(y_all_test,y_mean_pred)),2)\n",
    "print(f'Final RMSE for Baseline: {baseline_score}')\n",
    "lin_test_score = final_testing(X_all_train, X_all_test, y_all_train, y_all_test, lin_reg)\n",
    "ridge_test_score = final_testing(X_all_train, X_all_test, y_all_train, y_all_test, ridge_reg)\n",
    "dt_test_score = final_testing(X_all_train, X_all_test, y_all_train, y_all_test, dt_model)\n",
    "rf_test_score = final_testing(X_all_train, X_all_test, y_all_train, y_all_test, rf_model)\n",
    "gb_test_score = final_testing(X_all_train, X_all_test, y_all_train, y_all_test, gb_model)"
   ]
  },
  {
   "cell_type": "markdown",
   "metadata": {},
   "source": [
    "#### Train and Test on Data no range"
   ]
  },
  {
   "cell_type": "code",
   "execution_count": 152,
   "metadata": {},
   "outputs": [],
   "source": [
    "X_nr = data_norange.drop(columns = 'Rental Price')\n",
    "y_nr = data_norange['Rental Price']\n",
    "X_nr_train, X_nr_test, y_nr_train, y_nr_test = train_test_split(X_nr, y_nr)"
   ]
  },
  {
   "cell_type": "code",
   "execution_count": 153,
   "metadata": {},
   "outputs": [
    {
     "name": "stdout",
     "output_type": "stream",
     "text": [
      "Baseline RMSE: 2123.27\n",
      "Linear Regression RMSE: 1698.54\n",
      "\n",
      "Best alpha is: 211.0\n",
      "Ridge Regression RMSE: 1675.75\n"
     ]
    }
   ],
   "source": [
    "baseline_train_validate(X_nr_train, y_nr_train, 10)\n",
    "lin_reg_nr = lin_reg_train_validate(X_nr_train, y_nr_train, 10)\n",
    "print(\"\")\n",
    "ridge_reg_nr = ridge_ref_train_validate(50, 250, X_nr_train, y_nr_train, 10)"
   ]
  },
  {
   "cell_type": "code",
   "execution_count": 156,
   "metadata": {},
   "outputs": [
    {
     "name": "stdout",
     "output_type": "stream",
     "text": [
      "Best parameters: {'max_depth': None, 'max_features': None, 'min_samples_leaf': 17, 'min_samples_split': 2, 'random_state': 1}\n",
      "Decision Tree RMSE: 1654.28\n"
     ]
    }
   ],
   "source": [
    "dt_grid = {'max_depth': [3, 5, None],\n",
    "            'max_features': ['sqrt', 'log2', None],\n",
    "            'min_samples_split': [1, 2, 4],\n",
    "            'min_samples_leaf': [10, 12, 15, 17, 20],\n",
    "            'random_state': [1, None]}\n",
    "\n",
    "dt_model_nr = decision_tree_train_validaion(dt_grid, X_nr_train, y_nr_train, 10)"
   ]
  },
  {
   "cell_type": "code",
   "execution_count": 159,
   "metadata": {},
   "outputs": [
    {
     "name": "stdout",
     "output_type": "stream",
     "text": [
      "Best parameters: {'bootstrap': False, 'max_depth': None, 'max_features': 'sqrt', 'min_samples_leaf': 1, 'min_samples_split': 2, 'n_estimators': 80, 'random_state': None}\n",
      "Random Forest RMSE: 1450.66\n"
     ]
    }
   ],
   "source": [
    "rf_grid = {'max_depth': [3,5, None],\n",
    "            'max_features': ['sqrt', 'log2', None],\n",
    "            'min_samples_split': [2, 4, 6],\n",
    "            'min_samples_leaf': [1, 2, 4],\n",
    "            'bootstrap': [True, False],\n",
    "            'n_estimators': [80, 100, 120],\n",
    "            'random_state': [1, None]}\n",
    "\n",
    "rf_model_nr = random_forest_train_validaion(rf_grid, X_nr_train, y_nr_train, 10)"
   ]
  },
  {
   "cell_type": "code",
   "execution_count": 160,
   "metadata": {},
   "outputs": [
    {
     "name": "stdout",
     "output_type": "stream",
     "text": [
      "Best parameters: {'learning_rate': 0.05, 'max_depth': None, 'max_features': 'log2', 'min_samples_leaf': 2, 'n_estimators': 80, 'random_state': None}\n",
      "Random Forest RMSE: 1415.92\n"
     ]
    }
   ],
   "source": [
    "gb_grid = {'learning_rate': [0.01, 0.05, 0.1, 0.5],\n",
    "              'max_depth': [3,5, None],\n",
    "              'max_features': ['sqrt', 'log2', None],\n",
    "              'min_samples_leaf': [ 2, 4,6],\n",
    "              'n_estimators': [20, 40, 80, 100],\n",
    "              'random_state': [1, None]}\n",
    "\n",
    "gb_model_nr = gradient_boosting_train_validaion(gb_grid, 1000, X_nr_train, y_nr_train, 10)"
   ]
  },
  {
   "cell_type": "code",
   "execution_count": 161,
   "metadata": {},
   "outputs": [
    {
     "name": "stdout",
     "output_type": "stream",
     "text": [
      "Final RMSE for Baseline: 2104.05\n",
      "Final RMSE for LinearRegression: 1568.73\n",
      "Final RMSE for Ridge: 1569.71\n",
      "Final RMSE for DecisionTreeRegressor: 1529.51\n",
      "Final RMSE for RandomForestRegressor: 1214.71\n",
      "Final RMSE for GradientBoostingRegressor: 1251.35\n"
     ]
    }
   ],
   "source": [
    "y_mean_pred = np.full(y_nr_test.shape, np.mean(y_nr_train))\n",
    "baseline_score = round(np.sqrt(mean_squared_error(y_nr_test,y_mean_pred)),2)\n",
    "print(f'Final RMSE for Baseline: {baseline_score}')\n",
    "lin_test_score = final_testing(X_nr_train, X_nr_test, y_nr_train, y_nr_test, lin_reg_nr)\n",
    "ridge_test_score = final_testing(X_nr_train, X_nr_test, y_nr_train, y_nr_test, ridge_reg_nr)\n",
    "dt_test_score = final_testing(X_nr_train, X_nr_test, y_nr_train, y_nr_test, dt_model_nr)\n",
    "rf_test_score = final_testing(X_nr_train, X_nr_test, y_nr_train, y_nr_test, rf_model_nr)\n",
    "gb_test_score = final_testing(X_nr_train, X_nr_test, y_nr_train, y_nr_test, gb_model_nr)"
   ]
  },
  {
   "cell_type": "markdown",
   "metadata": {},
   "source": [
    "## Feature Importance"
   ]
  },
  {
   "cell_type": "code",
   "execution_count": null,
   "metadata": {},
   "outputs": [],
   "source": []
  }
 ],
 "metadata": {
  "kernelspec": {
   "display_name": "Python 3",
   "language": "python",
   "name": "python3"
  },
  "language_info": {
   "codemirror_mode": {
    "name": "ipython",
    "version": 3
   },
   "file_extension": ".py",
   "mimetype": "text/x-python",
   "name": "python",
   "nbconvert_exporter": "python",
   "pygments_lexer": "ipython3",
   "version": "3.8.5"
  }
 },
 "nbformat": 4,
 "nbformat_minor": 4
}
