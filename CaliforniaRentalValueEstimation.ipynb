{
 "cells": [
  {
   "cell_type": "code",
   "execution_count": 83,
   "metadata": {},
   "outputs": [],
   "source": [
    "import pandas as pd\n",
    "import numpy as np\n",
    "import matplotlib.pyplot as plt\n",
    "\n",
    "from bs4 import BeautifulSoup as soup\n",
    "import requests\n",
    "import pandas as pd\n",
    "import numpy as np\n",
    "import matplotlib.pyplot as plt\n",
    "import time\n",
    "import json\n",
    "import random\n",
    "import pprint\n",
    "import re"
   ]
  },
  {
   "cell_type": "code",
   "execution_count": 70,
   "metadata": {},
   "outputs": [],
   "source": [
    "filepath = '/Users/ivylai/Desktop/Galvanize/apt_scrapper/master_file0329.xlsx'\n",
    "\n",
    "data = pd.read_excel(filepath)"
   ]
  },
  {
   "cell_type": "code",
   "execution_count": 71,
   "metadata": {},
   "outputs": [
    {
     "name": "stdout",
     "output_type": "stream",
     "text": [
      "<class 'pandas.core.frame.DataFrame'>\n",
      "RangeIndex: 21001 entries, 0 to 21000\n",
      "Data columns (total 34 columns):\n",
      " #   Column                Non-Null Count  Dtype  \n",
      "---  ------                --------------  -----  \n",
      " 0   Unnamed: 0            21001 non-null  int64  \n",
      " 1   Unnamed: 0.1          20932 non-null  float64\n",
      " 2   Unnamed: 0.1.1        17980 non-null  float64\n",
      " 3   Unnamed: 0.1.1.1      17426 non-null  float64\n",
      " 4   url                   21001 non-null  object \n",
      " 5   property_name         21001 non-null  object \n",
      " 6   city                  21001 non-null  object \n",
      " 7   rent                  21001 non-null  object \n",
      " 8   bed                   21001 non-null  object \n",
      " 9   bath                  21001 non-null  object \n",
      " 10  sq_ft                 21001 non-null  object \n",
      " 11  walkscore             21001 non-null  object \n",
      " 12  Unique Features       18070 non-null  object \n",
      " 13  Pet Policy            19866 non-null  object \n",
      " 14  Parking               18452 non-null  object \n",
      " 15  Property Information  20004 non-null  object \n",
      " 16  Lease Length          17594 non-null  object \n",
      " 17  Services              17958 non-null  object \n",
      " 18  Interior              17047 non-null  object \n",
      " 19  Fitness & Recreation  18288 non-null  object \n",
      " 20  Features              20232 non-null  object \n",
      " 21  Kitchen               19323 non-null  object \n",
      " 22  Living Space          18030 non-null  object \n",
      " 23  Security              15498 non-null  object \n",
      " 24  Outdoor Space         18500 non-null  object \n",
      " 25  Student Features      3100 non-null   object \n",
      " 26  Cities                169 non-null    object \n",
      " 27  Neighborhoods         167 non-null    object \n",
      " 28  ZIP Codes             169 non-null    object \n",
      " 29  Beds                  169 non-null    object \n",
      " 30  Property Style        171 non-null    object \n",
      " 31  Amenity               167 non-null    object \n",
      " 32  Specialty             65 non-null     object \n",
      " 33  Price                 66 non-null     object \n",
      "dtypes: float64(3), int64(1), object(30)\n",
      "memory usage: 5.4+ MB\n"
     ]
    }
   ],
   "source": [
    "data.info()"
   ]
  },
  {
   "cell_type": "code",
   "execution_count": 72,
   "metadata": {},
   "outputs": [
    {
     "data": {
      "text/plain": [
       "Index(['Unnamed: 0', 'Unnamed: 0.1', 'Unnamed: 0.1.1', 'Unnamed: 0.1.1.1',\n",
       "       'url', 'property_name', 'city', 'rent', 'bed', 'bath', 'sq_ft',\n",
       "       'walkscore', 'Unique Features', 'Pet Policy', 'Parking',\n",
       "       'Property Information', 'Lease Length', 'Services', 'Interior',\n",
       "       'Fitness & Recreation', 'Features', 'Kitchen', 'Living Space',\n",
       "       'Security', 'Outdoor Space', 'Student Features', 'Cities',\n",
       "       'Neighborhoods', 'ZIP Codes', 'Beds', 'Property Style', 'Amenity',\n",
       "       'Specialty', 'Price'],\n",
       "      dtype='object')"
      ]
     },
     "execution_count": 72,
     "metadata": {},
     "output_type": "execute_result"
    }
   ],
   "source": [
    "data.columns"
   ]
  },
  {
   "cell_type": "code",
   "execution_count": 75,
   "metadata": {},
   "outputs": [],
   "source": [
    "data_1 = data.drop(columns = ['Unnamed: 0', 'Unnamed: 0.1', 'Unnamed: 0.1.1', 'Unnamed: 0.1.1.1', 'Student Features',\n",
    "       'Cities', 'Neighborhoods', 'ZIP Codes', 'Beds', 'Property Style',\n",
    "       'Amenity', 'Specialty', 'Price'])"
   ]
  },
  {
   "cell_type": "code",
   "execution_count": 76,
   "metadata": {},
   "outputs": [
    {
     "name": "stdout",
     "output_type": "stream",
     "text": [
      "<class 'pandas.core.frame.DataFrame'>\n",
      "RangeIndex: 21001 entries, 0 to 21000\n",
      "Data columns (total 21 columns):\n",
      " #   Column                Non-Null Count  Dtype \n",
      "---  ------                --------------  ----- \n",
      " 0   url                   21001 non-null  object\n",
      " 1   property_name         21001 non-null  object\n",
      " 2   city                  21001 non-null  object\n",
      " 3   rent                  21001 non-null  object\n",
      " 4   bed                   21001 non-null  object\n",
      " 5   bath                  21001 non-null  object\n",
      " 6   sq_ft                 21001 non-null  object\n",
      " 7   walkscore             21001 non-null  object\n",
      " 8   Unique Features       18070 non-null  object\n",
      " 9   Pet Policy            19866 non-null  object\n",
      " 10  Parking               18452 non-null  object\n",
      " 11  Property Information  20004 non-null  object\n",
      " 12  Lease Length          17594 non-null  object\n",
      " 13  Services              17958 non-null  object\n",
      " 14  Interior              17047 non-null  object\n",
      " 15  Fitness & Recreation  18288 non-null  object\n",
      " 16  Features              20232 non-null  object\n",
      " 17  Kitchen               19323 non-null  object\n",
      " 18  Living Space          18030 non-null  object\n",
      " 19  Security              15498 non-null  object\n",
      " 20  Outdoor Space         18500 non-null  object\n",
      "dtypes: object(21)\n",
      "memory usage: 3.4+ MB\n"
     ]
    }
   ],
   "source": [
    "data_1.info()"
   ]
  },
  {
   "cell_type": "code",
   "execution_count": 77,
   "metadata": {},
   "outputs": [
    {
     "data": {
      "text/plain": [
       "array(['Alameda', 'Albany', 'Anaheim', 'Antelope', 'Aptos', 'Arcata',\n",
       "       'Atascadero', 'Auburn', 'Bakersfield', 'Belmont', 'Berkeley',\n",
       "       'Beverly Hills', 'Bonita', 'Brea', 'Burbank', 'Burlingame',\n",
       "       'Cameron Park', 'Campbell', 'Canoga Park', 'Capitola', 'Carlsbad',\n",
       "       'Carmichael', 'Carpinteria', 'Cayucos', 'Chico', 'Chula Vista',\n",
       "       'Citrus Heights', 'Clovis', 'Colma', 'Corona', 'Coronado',\n",
       "       'Costa Mesa', 'Culver City', 'Cupertino', 'Daly City', 'Davis',\n",
       "       'Del Mar', 'East Palo Alto', 'El Cajon', 'El Cerrito',\n",
       "       'El Dorado Hills', 'El Segundo', 'Elk Grove', 'Emeryville',\n",
       "       'Encinitas', 'Escondido', 'Eureka', 'Fair Oaks', 'Fairfield',\n",
       "       'Felton', 'Folsom', 'Forest Ranch', 'Foster City', 'Fremont',\n",
       "       'Fresno', 'Gilroy', 'Gold River', 'Goleta', 'Grass Valley',\n",
       "       'Grover Beach', 'Harmony', 'Hollywood', 'Huntington Beach',\n",
       "       'Irvine', 'Isla Vista', 'La Jolla', 'La Mesa', 'La Palma',\n",
       "       'Lakeport', 'Lemon Grove', 'Lompoc', 'Long Beach', 'Los Altos',\n",
       "       'Los Altos Hills', 'Los Angeles', 'Los Gatos', 'Los Osos',\n",
       "       'Lucerne', 'Marina Del Rey', 'Marysville', 'Mckinleyville',\n",
       "       'Menlo Park', 'Mill Valley', 'Milpitas', 'Mission Viejo',\n",
       "       'Monte Sereno', 'Moreno Valley', 'Morgan Hill', 'Morro Bay',\n",
       "       'Mount Hermon', 'Mountain View', 'National City', 'Nevada City',\n",
       "       'Newark', 'Newport Beach', 'Nipomo', 'North Hollywood',\n",
       "       'Northridge', 'Oakland', 'Oceano', 'Oceanside', 'Orangevale',\n",
       "       'Oroville', 'Pacifica', 'Palo Alto', 'Paradise', 'Paramount',\n",
       "       'Pasadena', 'Paso Robles', 'Penn Valley', 'Pismo Beach',\n",
       "       'Playa Del Rey', 'Playa Vista', 'Porter Ranch', 'Poway',\n",
       "       'Rancho Cordova', 'Rancho Cucamonga', 'Red Bluff', 'Redding',\n",
       "       'Redlands', 'Redwood City', 'Riverside', 'Rocklin', 'Roseville',\n",
       "       'Sacramento', 'Salinas', 'San Bruno', 'San Carlos', 'San Clemente',\n",
       "       'San Diego', 'San Francisco', 'San Jose', 'San Leandro',\n",
       "       'San Luis Obispo', 'San Marcos', 'San Mateo', 'San Pedro',\n",
       "       'Santa Ana', 'Santa Barbara', 'Santa Clara', 'Santa Cruz',\n",
       "       'Santa Maria', 'Santa Monica', 'Santee', 'Sausalito',\n",
       "       'Scotts Valley', 'Solana Beach', 'Soquel', 'South Gate',\n",
       "       'South San Francisco', 'Spring Valley', 'Suisun City', 'Sunnyvale',\n",
       "       'Templeton', 'Tiburon', 'Torrance', 'Ukiah', 'Union City',\n",
       "       'Vacaville', 'Van Nuys', 'Venice', 'Ventura', 'Vista',\n",
       "       'West Covina', 'West Hollywood', 'West Sacramento', 'Woodland',\n",
       "       'Woodland Hills', 'Yuba City'], dtype=object)"
      ]
     },
     "execution_count": 77,
     "metadata": {},
     "output_type": "execute_result"
    }
   ],
   "source": [
    "data_1['city'] = data_1['city'].str.title()\n",
    "data_1['city'].sort_values().unique()"
   ]
  },
  {
   "cell_type": "code",
   "execution_count": 78,
   "metadata": {},
   "outputs": [
    {
     "data": {
      "text/plain": [
       "169"
      ]
     },
     "execution_count": 78,
     "metadata": {},
     "output_type": "execute_result"
    }
   ],
   "source": [
    "data_1['city'].sort_values().nunique()"
   ]
  },
  {
   "cell_type": "code",
   "execution_count": 124,
   "metadata": {},
   "outputs": [
    {
     "data": {
      "text/plain": [
       "Text(0.5, 0, 'Number of Listings')"
      ]
     },
     "execution_count": 124,
     "metadata": {},
     "output_type": "execute_result"
    },
    {
     "data": {
      "image/png": "[encoded data removed]",
      "text/plain": [
       "<Figure size 576x360 with 1 Axes>"
      ]
     },
     "metadata": {
      "needs_background": "light"
     },
     "output_type": "display_data"
    }
   ],
   "source": [
    "city_lst = []\n",
    "cities, count = np.unique(data_1['city'].to_numpy(), return_counts = True)\n",
    "for city, n in zip(cities, count):\n",
    "    city_lst.append((city, n))\n",
    "    \n",
    "sorted_city = sorted(city_lst,key=lambda x: x[1], reverse=True)\n",
    "top10_cities = [x[0] for x in sorted_city[:5]]\n",
    "top10_n = [x[1] for x in sorted_city[:5]]\n",
    "\n",
    "fig, ax = plt.subplots(figsize = (8,5))\n",
    "ax.bar(top10_cities, top10_n)\n",
    "ax.set_xlabel('Number of Listings')"
   ]
  },
  {
   "cell_type": "code",
   "execution_count": 82,
   "metadata": {},
   "outputs": [
    {
     "data": {
      "text/plain": [
       "43       Call for Rent\n",
       "44       Call for Rent\n",
       "57       Call for Rent\n",
       "61       Call for Rent\n",
       "63       Call for Rent\n",
       "             ...      \n",
       "20821    Call for Rent\n",
       "20822    Call for Rent\n",
       "20823    Call for Rent\n",
       "20824    Call for Rent\n",
       "20825    Call for Rent\n",
       "Name: rent, Length: 5207, dtype: object"
      ]
     },
     "execution_count": 82,
     "metadata": {},
     "output_type": "execute_result"
    }
   ],
   "source": [
    "data_1['rent'][data_1['rent'].str.contains('Call for Rent')]"
   ]
  },
  {
   "cell_type": "code",
   "execution_count": 110,
   "metadata": {},
   "outputs": [],
   "source": [
    "data_2 = data_1.drop(index = data_1[data_1['rent'].str.contains('Call for Rent')].index)"
   ]
  },
  {
   "cell_type": "code",
   "execution_count": 113,
   "metadata": {},
   "outputs": [
    {
     "name": "stdout",
     "output_type": "stream",
     "text": [
      "<class 'pandas.core.frame.DataFrame'>\n",
      "Int64Index: 15794 entries, 0 to 21000\n",
      "Data columns (total 21 columns):\n",
      " #   Column                Non-Null Count  Dtype \n",
      "---  ------                --------------  ----- \n",
      " 0   url                   15794 non-null  object\n",
      " 1   property_name         15794 non-null  object\n",
      " 2   city                  15794 non-null  object\n",
      " 3   rent                  15794 non-null  object\n",
      " 4   bed                   15794 non-null  object\n",
      " 5   bath                  15794 non-null  object\n",
      " 6   sq_ft                 15794 non-null  object\n",
      " 7   walkscore             15794 non-null  object\n",
      " 8   Unique Features       13157 non-null  object\n",
      " 9   Pet Policy            14763 non-null  object\n",
      " 10  Parking               13677 non-null  object\n",
      " 11  Property Information  14798 non-null  object\n",
      " 12  Lease Length          12852 non-null  object\n",
      " 13  Services              13213 non-null  object\n",
      " 14  Interior              12238 non-null  object\n",
      " 15  Fitness & Recreation  13366 non-null  object\n",
      " 16  Features              15061 non-null  object\n",
      " 17  Kitchen               14294 non-null  object\n",
      " 18  Living Space          13333 non-null  object\n",
      " 19  Security              11236 non-null  object\n",
      " 20  Outdoor Space         13592 non-null  object\n",
      "dtypes: object(21)\n",
      "memory usage: 2.7+ MB\n"
     ]
    }
   ],
   "source": [
    "data_2.info()"
   ]
  },
  {
   "cell_type": "code",
   "execution_count": 116,
   "metadata": {},
   "outputs": [],
   "source": [
    "data_2['rent'][data_2['rent'].str.contains('Person')]\n",
    "data_3 = data_2.drop(index = data_2[data_2['rent'].str.contains('Person')].index)"
   ]
  },
  {
   "cell_type": "code",
   "execution_count": 117,
   "metadata": {},
   "outputs": [
    {
     "name": "stdout",
     "output_type": "stream",
     "text": [
      "<class 'pandas.core.frame.DataFrame'>\n",
      "Int64Index: 15595 entries, 0 to 21000\n",
      "Data columns (total 21 columns):\n",
      " #   Column                Non-Null Count  Dtype \n",
      "---  ------                --------------  ----- \n",
      " 0   url                   15595 non-null  object\n",
      " 1   property_name         15595 non-null  object\n",
      " 2   city                  15595 non-null  object\n",
      " 3   rent                  15595 non-null  object\n",
      " 4   bed                   15595 non-null  object\n",
      " 5   bath                  15595 non-null  object\n",
      " 6   sq_ft                 15595 non-null  object\n",
      " 7   walkscore             15595 non-null  object\n",
      " 8   Unique Features       12986 non-null  object\n",
      " 9   Pet Policy            14621 non-null  object\n",
      " 10  Parking               13543 non-null  object\n",
      " 11  Property Information  14599 non-null  object\n",
      " 12  Lease Length          12686 non-null  object\n",
      " 13  Services              13017 non-null  object\n",
      " 14  Interior              12057 non-null  object\n",
      " 15  Fitness & Recreation  13216 non-null  object\n",
      " 16  Features              14871 non-null  object\n",
      " 17  Kitchen               14105 non-null  object\n",
      " 18  Living Space          13144 non-null  object\n",
      " 19  Security              11065 non-null  object\n",
      " 20  Outdoor Space         13415 non-null  object\n",
      "dtypes: object(21)\n",
      "memory usage: 2.6+ MB\n"
     ]
    }
   ],
   "source": [
    "data_3.info()"
   ]
  },
  {
   "cell_type": "code",
   "execution_count": 121,
   "metadata": {},
   "outputs": [
    {
     "data": {
      "text/plain": [
       "Text(0.5, 0, 'Number of Listings')"
      ]
     },
     "execution_count": 121,
     "metadata": {},
     "output_type": "execute_result"
    },
    {
     "data": {
      "image/png": "[encoded data removed]",
      "text/plain": [
       "<Figure size 576x360 with 1 Axes>"
      ]
     },
     "metadata": {
      "needs_background": "light"
     },
     "output_type": "display_data"
    }
   ],
   "source": [
    "city_lst = []\n",
    "cities, count = np.unique(data_3['city'].to_numpy(), return_counts = True)\n",
    "for city, n in zip(cities, count):\n",
    "    city_lst.append((city, n))\n",
    "    \n",
    "sorted_city = sorted(city_lst,key=lambda x: x[1], reverse=True)\n",
    "top10_cities = [x[0] for x in sorted_city[:5]]\n",
    "top10_n = [x[1] for x in sorted_city[:5]]\n",
    "\n",
    "fig, ax = plt.subplots(figsize = (8,5))\n",
    "ax.bar(top10_cities, top10_n)\n",
    "ax.set_xlabel('Number of Listings')"
   ]
  },
  {
   "cell_type": "code",
   "execution_count": 125,
   "metadata": {},
   "outputs": [],
   "source": [
    "# Manually get the top 5 average\n",
    "\n",
    "header = {\"User-Agent\": \"Mozilla/5.0 (X11; CrOS x86_64 12871.102.0) AppleWebKit/537.36 (KHTML, like Gecko) Chrome/81.0.4044.141 Safari/537.36\"}\n",
    "city_page_url = 'https://www.apartments.com/oakland-ca/'\n",
    "\n",
    "r = requests.get(city_page_url, timeout = 30, headers = header)\n",
    "if r.status_code == 200:\n",
    "    page_soup = soup(r.content, 'html.parser')\n",
    "    script = page_soup.find('script',type='application/ld+json')\n",
    "        \n",
    "    script_json = json.loads(str(script)[41:-11])\n",
    "\n",
    "# script_json"
   ]
  },
  {
   "cell_type": "code",
   "execution_count": 122,
   "metadata": {},
   "outputs": [],
   "source": [
    "sf_avg_rent = {'Studio': '$2,660', '1 Bedroom': '$2,626', '2 Bedroom': '$3,743', '3 Bedroom': '$3,948'}\n",
    "la_avg_rent = {'Studio': '$1,183', '1 Bedroom': '$1,891', '2 Bedroom': '$2,427', '3 Bedroom': '$3,988'}\n",
    "sd_avg_rent = {'Studio': '$1,585', '1 Bedroom': '$1,340', '2 Bedroom': '$1,707', '3 Bedroom': '$3,112'}\n",
    "sj_avg_rent = {'Studio': '$1,889', '1 Bedroom': '$2,156', '2 Bedroom': '$2,885', '3 Bedroom': '$4,032'}\n",
    "okl_avg_rent = {'Studio': '$1,408', '1 Bedroom': '$1,559', '2 Bedroom': '$1,835', '3 Bedroom': '$2,479'}\n",
    "\n",
    "sf = pd.DataFrame([sf_avg_rent], index = ['San Francisco'])\n",
    "la = pd.DataFrame([la_avg_rent], index = ['Los Angeles'])\n",
    "sd = pd.DataFrame([sd_avg_rent], index = ['San Diego'])\n",
    "sj = pd.DataFrame([sj_avg_rent], index = ['San Jose'])\n",
    "oak = pd.DataFrame([okl_avg_rent], index = ['Oakland'])\n",
    "\n",
    "top5_avg = pd.concat([la,sd,sf,sj,oak])"
   ]
  },
  {
   "cell_type": "code",
   "execution_count": 123,
   "metadata": {},
   "outputs": [
    {
     "data": {
      "text/html": [
       "<div>\n",
       "<style scoped>\n",
       "    .dataframe tbody tr th:only-of-type {\n",
       "        vertical-align: middle;\n",
       "    }\n",
       "\n",
       "    .dataframe tbody tr th {\n",
       "        vertical-align: top;\n",
       "    }\n",
       "\n",
       "    .dataframe thead th {\n",
       "        text-align: right;\n",
       "    }\n",
       "</style>\n",
       "<table border=\"1\" class=\"dataframe\">\n",
       "  <thead>\n",
       "    <tr style=\"text-align: right;\">\n",
       "      <th></th>\n",
       "      <th>Studio</th>\n",
       "      <th>1 Bedroom</th>\n",
       "      <th>2 Bedroom</th>\n",
       "      <th>3 Bedroom</th>\n",
       "    </tr>\n",
       "  </thead>\n",
       "  <tbody>\n",
       "    <tr>\n",
       "      <th>Los Angeles</th>\n",
       "      <td>$1,183</td>\n",
       "      <td>$1,891</td>\n",
       "      <td>$2,427</td>\n",
       "      <td>$3,988</td>\n",
       "    </tr>\n",
       "    <tr>\n",
       "      <th>San Diego</th>\n",
       "      <td>$1,585</td>\n",
       "      <td>$1,340</td>\n",
       "      <td>$1,707</td>\n",
       "      <td>$3,112</td>\n",
       "    </tr>\n",
       "    <tr>\n",
       "      <th>San Francisco</th>\n",
       "      <td>$2,660</td>\n",
       "      <td>$2,626</td>\n",
       "      <td>$3,743</td>\n",
       "      <td>$3,948</td>\n",
       "    </tr>\n",
       "    <tr>\n",
       "      <th>San Jose</th>\n",
       "      <td>$1,889</td>\n",
       "      <td>$2,156</td>\n",
       "      <td>$2,885</td>\n",
       "      <td>$4,032</td>\n",
       "    </tr>\n",
       "    <tr>\n",
       "      <th>Oakland</th>\n",
       "      <td>$1,408</td>\n",
       "      <td>$1,559</td>\n",
       "      <td>$1,835</td>\n",
       "      <td>$2,479</td>\n",
       "    </tr>\n",
       "  </tbody>\n",
       "</table>\n",
       "</div>"
      ],
      "text/plain": [
       "               Studio 1 Bedroom 2 Bedroom 3 Bedroom\n",
       "Los Angeles    $1,183    $1,891    $2,427    $3,988\n",
       "San Diego      $1,585    $1,340    $1,707    $3,112\n",
       "San Francisco  $2,660    $2,626    $3,743    $3,948\n",
       "San Jose       $1,889    $2,156    $2,885    $4,032\n",
       "Oakland        $1,408    $1,559    $1,835    $2,479"
      ]
     },
     "execution_count": 123,
     "metadata": {},
     "output_type": "execute_result"
    }
   ],
   "source": [
    "top5_avg"
   ]
  },
  {
   "cell_type": "code",
   "execution_count": null,
   "metadata": {},
   "outputs": [],
   "source": []
  }
 ],
 "metadata": {
  "kernelspec": {
   "display_name": "Python 3",
   "language": "python",
   "name": "python3"
  },
  "language_info": {
   "codemirror_mode": {
    "name": "ipython",
    "version": 3
   },
   "file_extension": ".py",
   "mimetype": "text/x-python",
   "name": "python",
   "nbconvert_exporter": "python",
   "pygments_lexer": "ipython3",
   "version": "3.8.5"
  }
 },
 "nbformat": 4,
 "nbformat_minor": 4
}
