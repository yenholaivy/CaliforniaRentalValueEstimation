{
 "cells": [
  {
   "cell_type": "code",
   "execution_count": 83,
   "metadata": {},
   "outputs": [],
   "source": [
    "import pandas as pd\n",
    "import numpy as np\n",
    "import matplotlib.pyplot as plt\n",
    "\n",
    "from bs4 import BeautifulSoup as soup\n",
    "import requests\n",
    "import pandas as pd\n",
    "import numpy as np\n",
    "import matplotlib.pyplot as plt\n",
    "import time\n",
    "import json\n",
    "import random\n",
    "import pprint\n",
    "import re\n",
    "\n",
    "import warnings\n",
    "warnings.filterwarnings('ignore')\n",
    "\n",
    "plt.style.use('bmh')"
   ]
  },
  {
   "cell_type": "code",
   "execution_count": 84,
   "metadata": {},
   "outputs": [],
   "source": [
    "filepath = '/Users/ivylai/Desktop/Galvanize/apt_scraper/master_file0329.xlsx'\n",
    "\n",
    "data = pd.read_excel(filepath)"
   ]
  },
  {
   "cell_type": "code",
   "execution_count": 85,
   "metadata": {},
   "outputs": [
    {
     "name": "stdout",
     "output_type": "stream",
     "text": [
      "<class 'pandas.core.frame.DataFrame'>\n",
      "RangeIndex: 21001 entries, 0 to 21000\n",
      "Data columns (total 34 columns):\n",
      " #   Column                Non-Null Count  Dtype  \n",
      "---  ------                --------------  -----  \n",
      " 0   Unnamed: 0            21001 non-null  int64  \n",
      " 1   Unnamed: 0.1          20932 non-null  float64\n",
      " 2   Unnamed: 0.1.1        17980 non-null  float64\n",
      " 3   Unnamed: 0.1.1.1      17426 non-null  float64\n",
      " 4   url                   21001 non-null  object \n",
      " 5   property_name         21001 non-null  object \n",
      " 6   city                  21001 non-null  object \n",
      " 7   rent                  21001 non-null  object \n",
      " 8   bed                   21001 non-null  object \n",
      " 9   bath                  21001 non-null  object \n",
      " 10  sq_ft                 21001 non-null  object \n",
      " 11  walkscore             21001 non-null  object \n",
      " 12  Unique Features       18070 non-null  object \n",
      " 13  Pet Policy            19866 non-null  object \n",
      " 14  Parking               18452 non-null  object \n",
      " 15  Property Information  20004 non-null  object \n",
      " 16  Lease Length          17594 non-null  object \n",
      " 17  Services              17958 non-null  object \n",
      " 18  Interior              17047 non-null  object \n",
      " 19  Fitness & Recreation  18288 non-null  object \n",
      " 20  Features              20232 non-null  object \n",
      " 21  Kitchen               19323 non-null  object \n",
      " 22  Living Space          18030 non-null  object \n",
      " 23  Security              15498 non-null  object \n",
      " 24  Outdoor Space         18500 non-null  object \n",
      " 25  Student Features      3100 non-null   object \n",
      " 26  Cities                169 non-null    object \n",
      " 27  Neighborhoods         167 non-null    object \n",
      " 28  ZIP Codes             169 non-null    object \n",
      " 29  Beds                  169 non-null    object \n",
      " 30  Property Style        171 non-null    object \n",
      " 31  Amenity               167 non-null    object \n",
      " 32  Specialty             65 non-null     object \n",
      " 33  Price                 66 non-null     object \n",
      "dtypes: float64(3), int64(1), object(30)\n",
      "memory usage: 5.4+ MB\n"
     ]
    }
   ],
   "source": [
    "data.info()"
   ]
  },
  {
   "cell_type": "code",
   "execution_count": 86,
   "metadata": {},
   "outputs": [
    {
     "data": {
      "text/plain": [
       "Index(['Unnamed: 0', 'Unnamed: 0.1', 'Unnamed: 0.1.1', 'Unnamed: 0.1.1.1',\n",
       "       'url', 'property_name', 'city', 'rent', 'bed', 'bath', 'sq_ft',\n",
       "       'walkscore', 'Unique Features', 'Pet Policy', 'Parking',\n",
       "       'Property Information', 'Lease Length', 'Services', 'Interior',\n",
       "       'Fitness & Recreation', 'Features', 'Kitchen', 'Living Space',\n",
       "       'Security', 'Outdoor Space', 'Student Features', 'Cities',\n",
       "       'Neighborhoods', 'ZIP Codes', 'Beds', 'Property Style', 'Amenity',\n",
       "       'Specialty', 'Price'],\n",
       "      dtype='object')"
      ]
     },
     "execution_count": 86,
     "metadata": {},
     "output_type": "execute_result"
    }
   ],
   "source": [
    "data.columns"
   ]
  },
  {
   "cell_type": "code",
   "execution_count": 87,
   "metadata": {},
   "outputs": [],
   "source": [
    "# Drop the unneeded features\n",
    "data_1 = data.drop(columns = ['Unnamed: 0', 'Unnamed: 0.1', 'Unnamed: 0.1.1', 'Unnamed: 0.1.1.1', 'Student Features',\n",
    "       'Cities', 'Neighborhoods', 'ZIP Codes', 'Beds', 'Property Style',\n",
    "       'Amenity', 'Specialty', 'Price'])"
   ]
  },
  {
   "cell_type": "code",
   "execution_count": 88,
   "metadata": {},
   "outputs": [
    {
     "name": "stdout",
     "output_type": "stream",
     "text": [
      "<class 'pandas.core.frame.DataFrame'>\n",
      "RangeIndex: 21001 entries, 0 to 21000\n",
      "Data columns (total 21 columns):\n",
      " #   Column                Non-Null Count  Dtype \n",
      "---  ------                --------------  ----- \n",
      " 0   url                   21001 non-null  object\n",
      " 1   property_name         21001 non-null  object\n",
      " 2   city                  21001 non-null  object\n",
      " 3   rent                  21001 non-null  object\n",
      " 4   bed                   21001 non-null  object\n",
      " 5   bath                  21001 non-null  object\n",
      " 6   sq_ft                 21001 non-null  object\n",
      " 7   walkscore             21001 non-null  object\n",
      " 8   Unique Features       18070 non-null  object\n",
      " 9   Pet Policy            19866 non-null  object\n",
      " 10  Parking               18452 non-null  object\n",
      " 11  Property Information  20004 non-null  object\n",
      " 12  Lease Length          17594 non-null  object\n",
      " 13  Services              17958 non-null  object\n",
      " 14  Interior              17047 non-null  object\n",
      " 15  Fitness & Recreation  18288 non-null  object\n",
      " 16  Features              20232 non-null  object\n",
      " 17  Kitchen               19323 non-null  object\n",
      " 18  Living Space          18030 non-null  object\n",
      " 19  Security              15498 non-null  object\n",
      " 20  Outdoor Space         18500 non-null  object\n",
      "dtypes: object(21)\n",
      "memory usage: 3.4+ MB\n"
     ]
    }
   ],
   "source": [
    "data_1.info()"
   ]
  },
  {
   "cell_type": "code",
   "execution_count": 89,
   "metadata": {},
   "outputs": [
    {
     "data": {
      "text/plain": [
       "array(['Alameda', 'Albany', 'Anaheim', 'Antelope', 'Aptos', 'Arcata',\n",
       "       'Atascadero', 'Auburn', 'Bakersfield', 'Belmont', 'Berkeley',\n",
       "       'Beverly Hills', 'Bonita', 'Brea', 'Burbank', 'Burlingame',\n",
       "       'Cameron Park', 'Campbell', 'Canoga Park', 'Capitola', 'Carlsbad',\n",
       "       'Carmichael', 'Carpinteria', 'Cayucos', 'Chico', 'Chula Vista',\n",
       "       'Citrus Heights', 'Clovis', 'Colma', 'Corona', 'Coronado',\n",
       "       'Costa Mesa', 'Culver City', 'Cupertino', 'Daly City', 'Davis',\n",
       "       'Del Mar', 'East Palo Alto', 'El Cajon', 'El Cerrito',\n",
       "       'El Dorado Hills', 'El Segundo', 'Elk Grove', 'Emeryville',\n",
       "       'Encinitas', 'Escondido', 'Eureka', 'Fair Oaks', 'Fairfield',\n",
       "       'Felton', 'Folsom', 'Forest Ranch', 'Foster City', 'Fremont',\n",
       "       'Fresno', 'Gilroy', 'Gold River', 'Goleta', 'Grass Valley',\n",
       "       'Grover Beach', 'Harmony', 'Hollywood', 'Huntington Beach',\n",
       "       'Irvine', 'Isla Vista', 'La Jolla', 'La Mesa', 'La Palma',\n",
       "       'Lakeport', 'Lemon Grove', 'Lompoc', 'Long Beach', 'Los Altos',\n",
       "       'Los Altos Hills', 'Los Angeles', 'Los Gatos', 'Los Osos',\n",
       "       'Lucerne', 'Marina Del Rey', 'Marysville', 'Mckinleyville',\n",
       "       'Menlo Park', 'Mill Valley', 'Milpitas', 'Mission Viejo',\n",
       "       'Monte Sereno', 'Moreno Valley', 'Morgan Hill', 'Morro Bay',\n",
       "       'Mount Hermon', 'Mountain View', 'National City', 'Nevada City',\n",
       "       'Newark', 'Newport Beach', 'Nipomo', 'North Hollywood',\n",
       "       'Northridge', 'Oakland', 'Oceano', 'Oceanside', 'Orangevale',\n",
       "       'Oroville', 'Pacifica', 'Palo Alto', 'Paradise', 'Paramount',\n",
       "       'Pasadena', 'Paso Robles', 'Penn Valley', 'Pismo Beach',\n",
       "       'Playa Del Rey', 'Playa Vista', 'Porter Ranch', 'Poway',\n",
       "       'Rancho Cordova', 'Rancho Cucamonga', 'Red Bluff', 'Redding',\n",
       "       'Redlands', 'Redwood City', 'Riverside', 'Rocklin', 'Roseville',\n",
       "       'Sacramento', 'Salinas', 'San Bruno', 'San Carlos', 'San Clemente',\n",
       "       'San Diego', 'San Francisco', 'San Jose', 'San Leandro',\n",
       "       'San Luis Obispo', 'San Marcos', 'San Mateo', 'San Pedro',\n",
       "       'Santa Ana', 'Santa Barbara', 'Santa Clara', 'Santa Cruz',\n",
       "       'Santa Maria', 'Santa Monica', 'Santee', 'Sausalito',\n",
       "       'Scotts Valley', 'Solana Beach', 'Soquel', 'South Gate',\n",
       "       'South San Francisco', 'Spring Valley', 'Suisun City', 'Sunnyvale',\n",
       "       'Templeton', 'Tiburon', 'Torrance', 'Ukiah', 'Union City',\n",
       "       'Vacaville', 'Van Nuys', 'Venice', 'Ventura', 'Vista',\n",
       "       'West Covina', 'West Hollywood', 'West Sacramento', 'Woodland',\n",
       "       'Woodland Hills', 'Yuba City'], dtype=object)"
      ]
     },
     "execution_count": 89,
     "metadata": {},
     "output_type": "execute_result"
    }
   ],
   "source": [
    "# Ensure city names are standardized \n",
    "data_1['city'] = data_1['city'].str.title()\n",
    "data_1['city'].sort_values().unique()"
   ]
  },
  {
   "cell_type": "code",
   "execution_count": 90,
   "metadata": {},
   "outputs": [
    {
     "data": {
      "text/plain": [
       "169"
      ]
     },
     "execution_count": 90,
     "metadata": {},
     "output_type": "execute_result"
    }
   ],
   "source": [
    "data_1['city'].sort_values().nunique()"
   ]
  },
  {
   "cell_type": "markdown",
   "metadata": {},
   "source": [
    "#### Find the top 5 cities with the most listings and the average rental value for each city. "
   ]
  },
  {
   "cell_type": "code",
   "execution_count": 91,
   "metadata": {},
   "outputs": [
    {
     "data": {
      "text/plain": [
       "43       Call for Rent\n",
       "44       Call for Rent\n",
       "57       Call for Rent\n",
       "61       Call for Rent\n",
       "63       Call for Rent\n",
       "             ...      \n",
       "20821    Call for Rent\n",
       "20822    Call for Rent\n",
       "20823    Call for Rent\n",
       "20824    Call for Rent\n",
       "20825    Call for Rent\n",
       "Name: rent, Length: 5207, dtype: object"
      ]
     },
     "execution_count": 91,
     "metadata": {},
     "output_type": "execute_result"
    }
   ],
   "source": [
    "data_1['rent'][data_1['rent'].str.contains('Call for Rent')]"
   ]
  },
  {
   "cell_type": "code",
   "execution_count": 92,
   "metadata": {},
   "outputs": [],
   "source": [
    "data_2 = data_1.drop(index = data_1[data_1['rent'].str.contains('Call for Rent')].index)"
   ]
  },
  {
   "cell_type": "code",
   "execution_count": 93,
   "metadata": {},
   "outputs": [
    {
     "name": "stdout",
     "output_type": "stream",
     "text": [
      "<class 'pandas.core.frame.DataFrame'>\n",
      "Int64Index: 15794 entries, 0 to 21000\n",
      "Data columns (total 21 columns):\n",
      " #   Column                Non-Null Count  Dtype \n",
      "---  ------                --------------  ----- \n",
      " 0   url                   15794 non-null  object\n",
      " 1   property_name         15794 non-null  object\n",
      " 2   city                  15794 non-null  object\n",
      " 3   rent                  15794 non-null  object\n",
      " 4   bed                   15794 non-null  object\n",
      " 5   bath                  15794 non-null  object\n",
      " 6   sq_ft                 15794 non-null  object\n",
      " 7   walkscore             15794 non-null  object\n",
      " 8   Unique Features       13157 non-null  object\n",
      " 9   Pet Policy            14763 non-null  object\n",
      " 10  Parking               13677 non-null  object\n",
      " 11  Property Information  14798 non-null  object\n",
      " 12  Lease Length          12852 non-null  object\n",
      " 13  Services              13213 non-null  object\n",
      " 14  Interior              12238 non-null  object\n",
      " 15  Fitness & Recreation  13366 non-null  object\n",
      " 16  Features              15061 non-null  object\n",
      " 17  Kitchen               14294 non-null  object\n",
      " 18  Living Space          13333 non-null  object\n",
      " 19  Security              11236 non-null  object\n",
      " 20  Outdoor Space         13592 non-null  object\n",
      "dtypes: object(21)\n",
      "memory usage: 2.7+ MB\n"
     ]
    }
   ],
   "source": [
    "data_2.info()"
   ]
  },
  {
   "cell_type": "code",
   "execution_count": 94,
   "metadata": {},
   "outputs": [],
   "source": [
    "data_2['rent'][data_2['rent'].str.contains('Person')]\n",
    "data_3 = data_2.drop(index = data_2[data_2['rent'].str.contains('Person')].index)"
   ]
  },
  {
   "cell_type": "code",
   "execution_count": 95,
   "metadata": {},
   "outputs": [
    {
     "name": "stdout",
     "output_type": "stream",
     "text": [
      "<class 'pandas.core.frame.DataFrame'>\n",
      "Int64Index: 15595 entries, 0 to 21000\n",
      "Data columns (total 21 columns):\n",
      " #   Column                Non-Null Count  Dtype \n",
      "---  ------                --------------  ----- \n",
      " 0   url                   15595 non-null  object\n",
      " 1   property_name         15595 non-null  object\n",
      " 2   city                  15595 non-null  object\n",
      " 3   rent                  15595 non-null  object\n",
      " 4   bed                   15595 non-null  object\n",
      " 5   bath                  15595 non-null  object\n",
      " 6   sq_ft                 15595 non-null  object\n",
      " 7   walkscore             15595 non-null  object\n",
      " 8   Unique Features       12986 non-null  object\n",
      " 9   Pet Policy            14621 non-null  object\n",
      " 10  Parking               13543 non-null  object\n",
      " 11  Property Information  14599 non-null  object\n",
      " 12  Lease Length          12686 non-null  object\n",
      " 13  Services              13017 non-null  object\n",
      " 14  Interior              12057 non-null  object\n",
      " 15  Fitness & Recreation  13216 non-null  object\n",
      " 16  Features              14871 non-null  object\n",
      " 17  Kitchen               14105 non-null  object\n",
      " 18  Living Space          13144 non-null  object\n",
      " 19  Security              11065 non-null  object\n",
      " 20  Outdoor Space         13415 non-null  object\n",
      "dtypes: object(21)\n",
      "memory usage: 2.6+ MB\n"
     ]
    }
   ],
   "source": [
    "data_3.info()"
   ]
  },
  {
   "cell_type": "markdown",
   "metadata": {},
   "source": [
    "#### EDA around sq-ft"
   ]
  },
  {
   "cell_type": "code",
   "execution_count": 96,
   "metadata": {},
   "outputs": [
    {
     "data": {
      "text/plain": [
       "array(['1 sq ft', '1,000 sq ft', '1,000 – 1,014 sq ft', ...,\n",
       "       '998 – 1,346 sq ft', '999 sq ft', '999 – 1,023 sq ft'],\n",
       "      dtype=object)"
      ]
     },
     "execution_count": 96,
     "metadata": {},
     "output_type": "execute_result"
    }
   ],
   "source": [
    "data_3.sq_ft.sort_values().unique()"
   ]
  },
  {
   "cell_type": "code",
   "execution_count": 121,
   "metadata": {},
   "outputs": [],
   "source": [
    "data_3['sq_ft_range'] = 0\n",
    "data_3['sq_ft_range'][data_3['sq_ft'].str.contains(' – ')] = 1"
   ]
  },
  {
   "cell_type": "code",
   "execution_count": 122,
   "metadata": {},
   "outputs": [
    {
     "data": {
      "text/html": [
       "<div>\n",
       "<style scoped>\n",
       "    .dataframe tbody tr th:only-of-type {\n",
       "        vertical-align: middle;\n",
       "    }\n",
       "\n",
       "    .dataframe tbody tr th {\n",
       "        vertical-align: top;\n",
       "    }\n",
       "\n",
       "    .dataframe thead th {\n",
       "        text-align: right;\n",
       "    }\n",
       "</style>\n",
       "<table border=\"1\" class=\"dataframe\">\n",
       "  <thead>\n",
       "    <tr style=\"text-align: right;\">\n",
       "      <th></th>\n",
       "      <th>url</th>\n",
       "      <th>property_name</th>\n",
       "      <th>city</th>\n",
       "      <th>rent</th>\n",
       "      <th>bed</th>\n",
       "      <th>bath</th>\n",
       "      <th>sq_ft</th>\n",
       "      <th>walkscore</th>\n",
       "      <th>Unique Features</th>\n",
       "      <th>Pet Policy</th>\n",
       "      <th>...</th>\n",
       "      <th>Features</th>\n",
       "      <th>Kitchen</th>\n",
       "      <th>Living Space</th>\n",
       "      <th>Security</th>\n",
       "      <th>Outdoor Space</th>\n",
       "      <th>sq_ft_range</th>\n",
       "      <th>rent_range</th>\n",
       "      <th>min_sq_ft</th>\n",
       "      <th>max_sq_ft</th>\n",
       "      <th>sq_ft_updated</th>\n",
       "    </tr>\n",
       "  </thead>\n",
       "  <tbody>\n",
       "    <tr>\n",
       "      <th>0</th>\n",
       "      <td>https://www.apartments.com/aya-fremont-ca/wxez...</td>\n",
       "      <td>AYA</td>\n",
       "      <td>Fremont</td>\n",
       "      <td>$2,545</td>\n",
       "      <td>Studio</td>\n",
       "      <td>1 bath</td>\n",
       "      <td>576</td>\n",
       "      <td>22</td>\n",
       "      <td>•BBQ Grills\\n•Ceramic Kitchen Tile Surround\\n•...</td>\n",
       "      <td>Dogs and Cats Allowed:\\n•Restrictions: We welc...</td>\n",
       "      <td>...</td>\n",
       "      <td>•High Speed Internet Access\\n•Wi-Fi\\n•Washer/D...</td>\n",
       "      <td>•Dishwasher\\n•Disposal\\n•Ice Maker\\n•Stainless...</td>\n",
       "      <td>•Den\\n•Views\\n•Walk-In Closets</td>\n",
       "      <td>•Controlled Access\\n•Property Manager on Site</td>\n",
       "      <td>NaN</td>\n",
       "      <td>0</td>\n",
       "      <td>0</td>\n",
       "      <td>576</td>\n",
       "      <td>576</td>\n",
       "      <td>576.0</td>\n",
       "    </tr>\n",
       "    <tr>\n",
       "      <th>1</th>\n",
       "      <td>https://www.apartments.com/aya-fremont-ca/wxez...</td>\n",
       "      <td>AYA</td>\n",
       "      <td>Fremont</td>\n",
       "      <td>$2,611 – $2,686</td>\n",
       "      <td>1 bed</td>\n",
       "      <td>1 bath</td>\n",
       "      <td>655</td>\n",
       "      <td>22</td>\n",
       "      <td>•BBQ Grills\\n•Ceramic Kitchen Tile Surround\\n•...</td>\n",
       "      <td>Dogs and Cats Allowed:\\n•Restrictions: We welc...</td>\n",
       "      <td>...</td>\n",
       "      <td>•High Speed Internet Access\\n•Wi-Fi\\n•Washer/D...</td>\n",
       "      <td>•Dishwasher\\n•Disposal\\n•Ice Maker\\n•Stainless...</td>\n",
       "      <td>•Den\\n•Views\\n•Walk-In Closets</td>\n",
       "      <td>•Controlled Access\\n•Property Manager on Site</td>\n",
       "      <td>NaN</td>\n",
       "      <td>0</td>\n",
       "      <td>1</td>\n",
       "      <td>655</td>\n",
       "      <td>655</td>\n",
       "      <td>655.0</td>\n",
       "    </tr>\n",
       "    <tr>\n",
       "      <th>2</th>\n",
       "      <td>https://www.apartments.com/aya-fremont-ca/wxez...</td>\n",
       "      <td>AYA</td>\n",
       "      <td>Fremont</td>\n",
       "      <td>$2,619 – $2,669</td>\n",
       "      <td>1 bed</td>\n",
       "      <td>1 bath</td>\n",
       "      <td>721</td>\n",
       "      <td>22</td>\n",
       "      <td>•BBQ Grills\\n•Ceramic Kitchen Tile Surround\\n•...</td>\n",
       "      <td>Dogs and Cats Allowed:\\n•Restrictions: We welc...</td>\n",
       "      <td>...</td>\n",
       "      <td>•High Speed Internet Access\\n•Wi-Fi\\n•Washer/D...</td>\n",
       "      <td>•Dishwasher\\n•Disposal\\n•Ice Maker\\n•Stainless...</td>\n",
       "      <td>•Den\\n•Views\\n•Walk-In Closets</td>\n",
       "      <td>•Controlled Access\\n•Property Manager on Site</td>\n",
       "      <td>NaN</td>\n",
       "      <td>0</td>\n",
       "      <td>1</td>\n",
       "      <td>721</td>\n",
       "      <td>721</td>\n",
       "      <td>721.0</td>\n",
       "    </tr>\n",
       "    <tr>\n",
       "      <th>3</th>\n",
       "      <td>https://www.apartments.com/aya-fremont-ca/wxez...</td>\n",
       "      <td>AYA</td>\n",
       "      <td>Fremont</td>\n",
       "      <td>$2,674 – $2,799</td>\n",
       "      <td>1 bed</td>\n",
       "      <td>1 bath</td>\n",
       "      <td>696 – 724</td>\n",
       "      <td>22</td>\n",
       "      <td>•BBQ Grills\\n•Ceramic Kitchen Tile Surround\\n•...</td>\n",
       "      <td>Dogs and Cats Allowed:\\n•Restrictions: We welc...</td>\n",
       "      <td>...</td>\n",
       "      <td>•High Speed Internet Access\\n•Wi-Fi\\n•Washer/D...</td>\n",
       "      <td>•Dishwasher\\n•Disposal\\n•Ice Maker\\n•Stainless...</td>\n",
       "      <td>•Den\\n•Views\\n•Walk-In Closets</td>\n",
       "      <td>•Controlled Access\\n•Property Manager on Site</td>\n",
       "      <td>NaN</td>\n",
       "      <td>1</td>\n",
       "      <td>1</td>\n",
       "      <td>696</td>\n",
       "      <td>724</td>\n",
       "      <td>710.0</td>\n",
       "    </tr>\n",
       "    <tr>\n",
       "      <th>4</th>\n",
       "      <td>https://www.apartments.com/aya-fremont-ca/wxez...</td>\n",
       "      <td>AYA</td>\n",
       "      <td>Fremont</td>\n",
       "      <td>$2,700 – $2,775</td>\n",
       "      <td>1 bed</td>\n",
       "      <td>1 bath</td>\n",
       "      <td>691</td>\n",
       "      <td>22</td>\n",
       "      <td>•BBQ Grills\\n•Ceramic Kitchen Tile Surround\\n•...</td>\n",
       "      <td>Dogs and Cats Allowed:\\n•Restrictions: We welc...</td>\n",
       "      <td>...</td>\n",
       "      <td>•High Speed Internet Access\\n•Wi-Fi\\n•Washer/D...</td>\n",
       "      <td>•Dishwasher\\n•Disposal\\n•Ice Maker\\n•Stainless...</td>\n",
       "      <td>•Den\\n•Views\\n•Walk-In Closets</td>\n",
       "      <td>•Controlled Access\\n•Property Manager on Site</td>\n",
       "      <td>NaN</td>\n",
       "      <td>0</td>\n",
       "      <td>1</td>\n",
       "      <td>691</td>\n",
       "      <td>691</td>\n",
       "      <td>691.0</td>\n",
       "    </tr>\n",
       "    <tr>\n",
       "      <th>5</th>\n",
       "      <td>https://www.apartments.com/aya-fremont-ca/wxez...</td>\n",
       "      <td>AYA</td>\n",
       "      <td>Fremont</td>\n",
       "      <td>$2,733 – $2,783</td>\n",
       "      <td>1 bed</td>\n",
       "      <td>1 bath</td>\n",
       "      <td>735</td>\n",
       "      <td>22</td>\n",
       "      <td>•BBQ Grills\\n•Ceramic Kitchen Tile Surround\\n•...</td>\n",
       "      <td>Dogs and Cats Allowed:\\n•Restrictions: We welc...</td>\n",
       "      <td>...</td>\n",
       "      <td>•High Speed Internet Access\\n•Wi-Fi\\n•Washer/D...</td>\n",
       "      <td>•Dishwasher\\n•Disposal\\n•Ice Maker\\n•Stainless...</td>\n",
       "      <td>•Den\\n•Views\\n•Walk-In Closets</td>\n",
       "      <td>•Controlled Access\\n•Property Manager on Site</td>\n",
       "      <td>NaN</td>\n",
       "      <td>0</td>\n",
       "      <td>1</td>\n",
       "      <td>735</td>\n",
       "      <td>735</td>\n",
       "      <td>735.0</td>\n",
       "    </tr>\n",
       "    <tr>\n",
       "      <th>6</th>\n",
       "      <td>https://www.apartments.com/aya-fremont-ca/wxez...</td>\n",
       "      <td>AYA</td>\n",
       "      <td>Fremont</td>\n",
       "      <td>$2,905 – $3,080</td>\n",
       "      <td>1 bed</td>\n",
       "      <td>1 bath</td>\n",
       "      <td>821 – 849</td>\n",
       "      <td>22</td>\n",
       "      <td>•BBQ Grills\\n•Ceramic Kitchen Tile Surround\\n•...</td>\n",
       "      <td>Dogs and Cats Allowed:\\n•Restrictions: We welc...</td>\n",
       "      <td>...</td>\n",
       "      <td>•High Speed Internet Access\\n•Wi-Fi\\n•Washer/D...</td>\n",
       "      <td>•Dishwasher\\n•Disposal\\n•Ice Maker\\n•Stainless...</td>\n",
       "      <td>•Den\\n•Views\\n•Walk-In Closets</td>\n",
       "      <td>•Controlled Access\\n•Property Manager on Site</td>\n",
       "      <td>NaN</td>\n",
       "      <td>1</td>\n",
       "      <td>1</td>\n",
       "      <td>821</td>\n",
       "      <td>849</td>\n",
       "      <td>835.0</td>\n",
       "    </tr>\n",
       "    <tr>\n",
       "      <th>7</th>\n",
       "      <td>https://www.apartments.com/aya-fremont-ca/wxez...</td>\n",
       "      <td>AYA</td>\n",
       "      <td>Fremont</td>\n",
       "      <td>$3,070</td>\n",
       "      <td>1 bed</td>\n",
       "      <td>1 bath</td>\n",
       "      <td>881</td>\n",
       "      <td>22</td>\n",
       "      <td>•BBQ Grills\\n•Ceramic Kitchen Tile Surround\\n•...</td>\n",
       "      <td>Dogs and Cats Allowed:\\n•Restrictions: We welc...</td>\n",
       "      <td>...</td>\n",
       "      <td>•High Speed Internet Access\\n•Wi-Fi\\n•Washer/D...</td>\n",
       "      <td>•Dishwasher\\n•Disposal\\n•Ice Maker\\n•Stainless...</td>\n",
       "      <td>•Den\\n•Views\\n•Walk-In Closets</td>\n",
       "      <td>•Controlled Access\\n•Property Manager on Site</td>\n",
       "      <td>NaN</td>\n",
       "      <td>0</td>\n",
       "      <td>0</td>\n",
       "      <td>881</td>\n",
       "      <td>881</td>\n",
       "      <td>881.0</td>\n",
       "    </tr>\n",
       "    <tr>\n",
       "      <th>8</th>\n",
       "      <td>https://www.apartments.com/aya-fremont-ca/wxez...</td>\n",
       "      <td>AYA</td>\n",
       "      <td>Fremont</td>\n",
       "      <td>$2,576 – $2,751</td>\n",
       "      <td>1 bed</td>\n",
       "      <td>1 bath</td>\n",
       "      <td>636</td>\n",
       "      <td>22</td>\n",
       "      <td>•BBQ Grills\\n•Ceramic Kitchen Tile Surround\\n•...</td>\n",
       "      <td>Dogs and Cats Allowed:\\n•Restrictions: We welc...</td>\n",
       "      <td>...</td>\n",
       "      <td>•High Speed Internet Access\\n•Wi-Fi\\n•Washer/D...</td>\n",
       "      <td>•Dishwasher\\n•Disposal\\n•Ice Maker\\n•Stainless...</td>\n",
       "      <td>•Den\\n•Views\\n•Walk-In Closets</td>\n",
       "      <td>•Controlled Access\\n•Property Manager on Site</td>\n",
       "      <td>NaN</td>\n",
       "      <td>0</td>\n",
       "      <td>1</td>\n",
       "      <td>636</td>\n",
       "      <td>636</td>\n",
       "      <td>636.0</td>\n",
       "    </tr>\n",
       "    <tr>\n",
       "      <th>9</th>\n",
       "      <td>https://www.apartments.com/aya-fremont-ca/wxez...</td>\n",
       "      <td>AYA</td>\n",
       "      <td>Fremont</td>\n",
       "      <td>$3,229</td>\n",
       "      <td>1 bed</td>\n",
       "      <td>1 bath</td>\n",
       "      <td>922</td>\n",
       "      <td>22</td>\n",
       "      <td>•BBQ Grills\\n•Ceramic Kitchen Tile Surround\\n•...</td>\n",
       "      <td>Dogs and Cats Allowed:\\n•Restrictions: We welc...</td>\n",
       "      <td>...</td>\n",
       "      <td>•High Speed Internet Access\\n•Wi-Fi\\n•Washer/D...</td>\n",
       "      <td>•Dishwasher\\n•Disposal\\n•Ice Maker\\n•Stainless...</td>\n",
       "      <td>•Den\\n•Views\\n•Walk-In Closets</td>\n",
       "      <td>•Controlled Access\\n•Property Manager on Site</td>\n",
       "      <td>NaN</td>\n",
       "      <td>0</td>\n",
       "      <td>0</td>\n",
       "      <td>922</td>\n",
       "      <td>922</td>\n",
       "      <td>922.0</td>\n",
       "    </tr>\n",
       "  </tbody>\n",
       "</table>\n",
       "<p>10 rows × 26 columns</p>\n",
       "</div>"
      ],
      "text/plain": [
       "                                                 url property_name     city  \\\n",
       "0  https://www.apartments.com/aya-fremont-ca/wxez...           AYA  Fremont   \n",
       "1  https://www.apartments.com/aya-fremont-ca/wxez...           AYA  Fremont   \n",
       "2  https://www.apartments.com/aya-fremont-ca/wxez...           AYA  Fremont   \n",
       "3  https://www.apartments.com/aya-fremont-ca/wxez...           AYA  Fremont   \n",
       "4  https://www.apartments.com/aya-fremont-ca/wxez...           AYA  Fremont   \n",
       "5  https://www.apartments.com/aya-fremont-ca/wxez...           AYA  Fremont   \n",
       "6  https://www.apartments.com/aya-fremont-ca/wxez...           AYA  Fremont   \n",
       "7  https://www.apartments.com/aya-fremont-ca/wxez...           AYA  Fremont   \n",
       "8  https://www.apartments.com/aya-fremont-ca/wxez...           AYA  Fremont   \n",
       "9  https://www.apartments.com/aya-fremont-ca/wxez...           AYA  Fremont   \n",
       "\n",
       "              rent     bed    bath      sq_ft walkscore  \\\n",
       "0           $2,545  Studio  1 bath        576        22   \n",
       "1  $2,611 – $2,686   1 bed  1 bath        655        22   \n",
       "2  $2,619 – $2,669   1 bed  1 bath        721        22   \n",
       "3  $2,674 – $2,799   1 bed  1 bath  696 – 724        22   \n",
       "4  $2,700 – $2,775   1 bed  1 bath        691        22   \n",
       "5  $2,733 – $2,783   1 bed  1 bath        735        22   \n",
       "6  $2,905 – $3,080   1 bed  1 bath  821 – 849        22   \n",
       "7           $3,070   1 bed  1 bath        881        22   \n",
       "8  $2,576 – $2,751   1 bed  1 bath        636        22   \n",
       "9           $3,229   1 bed  1 bath        922        22   \n",
       "\n",
       "                                     Unique Features  \\\n",
       "0  •BBQ Grills\\n•Ceramic Kitchen Tile Surround\\n•...   \n",
       "1  •BBQ Grills\\n•Ceramic Kitchen Tile Surround\\n•...   \n",
       "2  •BBQ Grills\\n•Ceramic Kitchen Tile Surround\\n•...   \n",
       "3  •BBQ Grills\\n•Ceramic Kitchen Tile Surround\\n•...   \n",
       "4  •BBQ Grills\\n•Ceramic Kitchen Tile Surround\\n•...   \n",
       "5  •BBQ Grills\\n•Ceramic Kitchen Tile Surround\\n•...   \n",
       "6  •BBQ Grills\\n•Ceramic Kitchen Tile Surround\\n•...   \n",
       "7  •BBQ Grills\\n•Ceramic Kitchen Tile Surround\\n•...   \n",
       "8  •BBQ Grills\\n•Ceramic Kitchen Tile Surround\\n•...   \n",
       "9  •BBQ Grills\\n•Ceramic Kitchen Tile Surround\\n•...   \n",
       "\n",
       "                                          Pet Policy  ...  \\\n",
       "0  Dogs and Cats Allowed:\\n•Restrictions: We welc...  ...   \n",
       "1  Dogs and Cats Allowed:\\n•Restrictions: We welc...  ...   \n",
       "2  Dogs and Cats Allowed:\\n•Restrictions: We welc...  ...   \n",
       "3  Dogs and Cats Allowed:\\n•Restrictions: We welc...  ...   \n",
       "4  Dogs and Cats Allowed:\\n•Restrictions: We welc...  ...   \n",
       "5  Dogs and Cats Allowed:\\n•Restrictions: We welc...  ...   \n",
       "6  Dogs and Cats Allowed:\\n•Restrictions: We welc...  ...   \n",
       "7  Dogs and Cats Allowed:\\n•Restrictions: We welc...  ...   \n",
       "8  Dogs and Cats Allowed:\\n•Restrictions: We welc...  ...   \n",
       "9  Dogs and Cats Allowed:\\n•Restrictions: We welc...  ...   \n",
       "\n",
       "                                            Features  \\\n",
       "0  •High Speed Internet Access\\n•Wi-Fi\\n•Washer/D...   \n",
       "1  •High Speed Internet Access\\n•Wi-Fi\\n•Washer/D...   \n",
       "2  •High Speed Internet Access\\n•Wi-Fi\\n•Washer/D...   \n",
       "3  •High Speed Internet Access\\n•Wi-Fi\\n•Washer/D...   \n",
       "4  •High Speed Internet Access\\n•Wi-Fi\\n•Washer/D...   \n",
       "5  •High Speed Internet Access\\n•Wi-Fi\\n•Washer/D...   \n",
       "6  •High Speed Internet Access\\n•Wi-Fi\\n•Washer/D...   \n",
       "7  •High Speed Internet Access\\n•Wi-Fi\\n•Washer/D...   \n",
       "8  •High Speed Internet Access\\n•Wi-Fi\\n•Washer/D...   \n",
       "9  •High Speed Internet Access\\n•Wi-Fi\\n•Washer/D...   \n",
       "\n",
       "                                             Kitchen  \\\n",
       "0  •Dishwasher\\n•Disposal\\n•Ice Maker\\n•Stainless...   \n",
       "1  •Dishwasher\\n•Disposal\\n•Ice Maker\\n•Stainless...   \n",
       "2  •Dishwasher\\n•Disposal\\n•Ice Maker\\n•Stainless...   \n",
       "3  •Dishwasher\\n•Disposal\\n•Ice Maker\\n•Stainless...   \n",
       "4  •Dishwasher\\n•Disposal\\n•Ice Maker\\n•Stainless...   \n",
       "5  •Dishwasher\\n•Disposal\\n•Ice Maker\\n•Stainless...   \n",
       "6  •Dishwasher\\n•Disposal\\n•Ice Maker\\n•Stainless...   \n",
       "7  •Dishwasher\\n•Disposal\\n•Ice Maker\\n•Stainless...   \n",
       "8  •Dishwasher\\n•Disposal\\n•Ice Maker\\n•Stainless...   \n",
       "9  •Dishwasher\\n•Disposal\\n•Ice Maker\\n•Stainless...   \n",
       "\n",
       "                     Living Space  \\\n",
       "0  •Den\\n•Views\\n•Walk-In Closets   \n",
       "1  •Den\\n•Views\\n•Walk-In Closets   \n",
       "2  •Den\\n•Views\\n•Walk-In Closets   \n",
       "3  •Den\\n•Views\\n•Walk-In Closets   \n",
       "4  •Den\\n•Views\\n•Walk-In Closets   \n",
       "5  •Den\\n•Views\\n•Walk-In Closets   \n",
       "6  •Den\\n•Views\\n•Walk-In Closets   \n",
       "7  •Den\\n•Views\\n•Walk-In Closets   \n",
       "8  •Den\\n•Views\\n•Walk-In Closets   \n",
       "9  •Den\\n•Views\\n•Walk-In Closets   \n",
       "\n",
       "                                        Security Outdoor Space sq_ft_range  \\\n",
       "0  •Controlled Access\\n•Property Manager on Site           NaN           0   \n",
       "1  •Controlled Access\\n•Property Manager on Site           NaN           0   \n",
       "2  •Controlled Access\\n•Property Manager on Site           NaN           0   \n",
       "3  •Controlled Access\\n•Property Manager on Site           NaN           1   \n",
       "4  •Controlled Access\\n•Property Manager on Site           NaN           0   \n",
       "5  •Controlled Access\\n•Property Manager on Site           NaN           0   \n",
       "6  •Controlled Access\\n•Property Manager on Site           NaN           1   \n",
       "7  •Controlled Access\\n•Property Manager on Site           NaN           0   \n",
       "8  •Controlled Access\\n•Property Manager on Site           NaN           0   \n",
       "9  •Controlled Access\\n•Property Manager on Site           NaN           0   \n",
       "\n",
       "  rent_range min_sq_ft max_sq_ft sq_ft_updated  \n",
       "0          0       576       576         576.0  \n",
       "1          1       655       655         655.0  \n",
       "2          1       721       721         721.0  \n",
       "3          1       696       724         710.0  \n",
       "4          1       691       691         691.0  \n",
       "5          1       735       735         735.0  \n",
       "6          1       821       849         835.0  \n",
       "7          0       881       881         881.0  \n",
       "8          1       636       636         636.0  \n",
       "9          0       922       922         922.0  \n",
       "\n",
       "[10 rows x 26 columns]"
      ]
     },
     "execution_count": 122,
     "metadata": {},
     "output_type": "execute_result"
    }
   ],
   "source": [
    "data_3.head(10)"
   ]
  },
  {
   "cell_type": "code",
   "execution_count": 123,
   "metadata": {},
   "outputs": [
    {
     "data": {
      "text/plain": [
       "0              576\n",
       "1              655\n",
       "2              721\n",
       "3        696 – 724\n",
       "4              691\n",
       "           ...    \n",
       "20996          350\n",
       "20997          754\n",
       "20998          470\n",
       "20999          580\n",
       "21000          580\n",
       "Name: sq_ft, Length: 15595, dtype: object"
      ]
     },
     "execution_count": 123,
     "metadata": {},
     "output_type": "execute_result"
    }
   ],
   "source": [
    "data_3['sq_ft'] = data_3['sq_ft'].replace(' sq ft',\"\", regex = True)\n",
    "data_3['sq_ft']"
   ]
  },
  {
   "cell_type": "code",
   "execution_count": 124,
   "metadata": {},
   "outputs": [
    {
     "data": {
      "text/html": [
       "<div>\n",
       "<style scoped>\n",
       "    .dataframe tbody tr th:only-of-type {\n",
       "        vertical-align: middle;\n",
       "    }\n",
       "\n",
       "    .dataframe tbody tr th {\n",
       "        vertical-align: top;\n",
       "    }\n",
       "\n",
       "    .dataframe thead th {\n",
       "        text-align: right;\n",
       "    }\n",
       "</style>\n",
       "<table border=\"1\" class=\"dataframe\">\n",
       "  <thead>\n",
       "    <tr style=\"text-align: right;\">\n",
       "      <th></th>\n",
       "      <th>sq_ft</th>\n",
       "      <th>min_sq_ft</th>\n",
       "      <th>max_sq_ft</th>\n",
       "    </tr>\n",
       "  </thead>\n",
       "  <tbody>\n",
       "    <tr>\n",
       "      <th>3</th>\n",
       "      <td>696 – 724</td>\n",
       "      <td>696</td>\n",
       "      <td>724</td>\n",
       "    </tr>\n",
       "    <tr>\n",
       "      <th>6</th>\n",
       "      <td>821 – 849</td>\n",
       "      <td>821</td>\n",
       "      <td>849</td>\n",
       "    </tr>\n",
       "    <tr>\n",
       "      <th>10</th>\n",
       "      <td>1,000 – 1,052</td>\n",
       "      <td>1000</td>\n",
       "      <td>1052</td>\n",
       "    </tr>\n",
       "    <tr>\n",
       "      <th>11</th>\n",
       "      <td>952 – 1,000</td>\n",
       "      <td>952</td>\n",
       "      <td>1000</td>\n",
       "    </tr>\n",
       "    <tr>\n",
       "      <th>13</th>\n",
       "      <td>1,201 – 1,204</td>\n",
       "      <td>1201</td>\n",
       "      <td>1204</td>\n",
       "    </tr>\n",
       "    <tr>\n",
       "      <th>...</th>\n",
       "      <td>...</td>\n",
       "      <td>...</td>\n",
       "      <td>...</td>\n",
       "    </tr>\n",
       "    <tr>\n",
       "      <th>20648</th>\n",
       "      <td>895 – 1,050</td>\n",
       "      <td>895</td>\n",
       "      <td>1050</td>\n",
       "    </tr>\n",
       "    <tr>\n",
       "      <th>20779</th>\n",
       "      <td>340 – 390</td>\n",
       "      <td>340</td>\n",
       "      <td>390</td>\n",
       "    </tr>\n",
       "    <tr>\n",
       "      <th>20781</th>\n",
       "      <td>602 – 660</td>\n",
       "      <td>602</td>\n",
       "      <td>660</td>\n",
       "    </tr>\n",
       "    <tr>\n",
       "      <th>20842</th>\n",
       "      <td>230 – 300</td>\n",
       "      <td>230</td>\n",
       "      <td>300</td>\n",
       "    </tr>\n",
       "    <tr>\n",
       "      <th>20934</th>\n",
       "      <td>215 – 240</td>\n",
       "      <td>215</td>\n",
       "      <td>240</td>\n",
       "    </tr>\n",
       "  </tbody>\n",
       "</table>\n",
       "<p>1640 rows × 3 columns</p>\n",
       "</div>"
      ],
      "text/plain": [
       "               sq_ft  min_sq_ft  max_sq_ft\n",
       "3          696 – 724        696        724\n",
       "6          821 – 849        821        849\n",
       "10     1,000 – 1,052       1000       1052\n",
       "11       952 – 1,000        952       1000\n",
       "13     1,201 – 1,204       1201       1204\n",
       "...              ...        ...        ...\n",
       "20648    895 – 1,050        895       1050\n",
       "20779      340 – 390        340        390\n",
       "20781      602 – 660        602        660\n",
       "20842      230 – 300        230        300\n",
       "20934      215 – 240        215        240\n",
       "\n",
       "[1640 rows x 3 columns]"
      ]
     },
     "execution_count": 124,
     "metadata": {},
     "output_type": "execute_result"
    }
   ],
   "source": [
    "data_3['min_sq_ft'] = data_3['sq_ft']\n",
    "data_3['max_sq_ft'] = data_3['sq_ft']\n",
    "\n",
    "data_3['min_sq_ft'] = data_3['min_sq_ft'].transform(lambda x: re.search('(.+?) – ', x).group(1) if re.search('(.+?) – ', x) else x)\n",
    "data_3['max_sq_ft'] = data_3['max_sq_ft'].transform(lambda x: re.split(r\" – \", x)[1] if re.search('(.+?) – ', x) else x)\n",
    "\n",
    "data_3['min_sq_ft'] = data_3['min_sq_ft'].replace('[\\,]',\"\",regex=True).astype(int)\n",
    "data_3['max_sq_ft'] = data_3['max_sq_ft'].replace('[\\,]',\"\",regex=True).astype(int)\n",
    "\n",
    "data_3[['sq_ft','min_sq_ft','max_sq_ft']][data_3['sq_ft'].str.contains(' – ')]"
   ]
  },
  {
   "cell_type": "code",
   "execution_count": 125,
   "metadata": {},
   "outputs": [
    {
     "data": {
      "text/html": [
       "<div>\n",
       "<style scoped>\n",
       "    .dataframe tbody tr th:only-of-type {\n",
       "        vertical-align: middle;\n",
       "    }\n",
       "\n",
       "    .dataframe tbody tr th {\n",
       "        vertical-align: top;\n",
       "    }\n",
       "\n",
       "    .dataframe thead th {\n",
       "        text-align: right;\n",
       "    }\n",
       "</style>\n",
       "<table border=\"1\" class=\"dataframe\">\n",
       "  <thead>\n",
       "    <tr style=\"text-align: right;\">\n",
       "      <th></th>\n",
       "      <th>sq_ft</th>\n",
       "      <th>min_sq_ft</th>\n",
       "      <th>max_sq_ft</th>\n",
       "      <th>sq_ft_updated</th>\n",
       "    </tr>\n",
       "  </thead>\n",
       "  <tbody>\n",
       "    <tr>\n",
       "      <th>0</th>\n",
       "      <td>576</td>\n",
       "      <td>576</td>\n",
       "      <td>576</td>\n",
       "      <td>576.0</td>\n",
       "    </tr>\n",
       "    <tr>\n",
       "      <th>1</th>\n",
       "      <td>655</td>\n",
       "      <td>655</td>\n",
       "      <td>655</td>\n",
       "      <td>655.0</td>\n",
       "    </tr>\n",
       "    <tr>\n",
       "      <th>2</th>\n",
       "      <td>721</td>\n",
       "      <td>721</td>\n",
       "      <td>721</td>\n",
       "      <td>721.0</td>\n",
       "    </tr>\n",
       "    <tr>\n",
       "      <th>3</th>\n",
       "      <td>696 – 724</td>\n",
       "      <td>696</td>\n",
       "      <td>724</td>\n",
       "      <td>710.0</td>\n",
       "    </tr>\n",
       "    <tr>\n",
       "      <th>4</th>\n",
       "      <td>691</td>\n",
       "      <td>691</td>\n",
       "      <td>691</td>\n",
       "      <td>691.0</td>\n",
       "    </tr>\n",
       "    <tr>\n",
       "      <th>...</th>\n",
       "      <td>...</td>\n",
       "      <td>...</td>\n",
       "      <td>...</td>\n",
       "      <td>...</td>\n",
       "    </tr>\n",
       "    <tr>\n",
       "      <th>20996</th>\n",
       "      <td>350</td>\n",
       "      <td>350</td>\n",
       "      <td>350</td>\n",
       "      <td>350.0</td>\n",
       "    </tr>\n",
       "    <tr>\n",
       "      <th>20997</th>\n",
       "      <td>754</td>\n",
       "      <td>754</td>\n",
       "      <td>754</td>\n",
       "      <td>754.0</td>\n",
       "    </tr>\n",
       "    <tr>\n",
       "      <th>20998</th>\n",
       "      <td>470</td>\n",
       "      <td>470</td>\n",
       "      <td>470</td>\n",
       "      <td>470.0</td>\n",
       "    </tr>\n",
       "    <tr>\n",
       "      <th>20999</th>\n",
       "      <td>580</td>\n",
       "      <td>580</td>\n",
       "      <td>580</td>\n",
       "      <td>580.0</td>\n",
       "    </tr>\n",
       "    <tr>\n",
       "      <th>21000</th>\n",
       "      <td>580</td>\n",
       "      <td>580</td>\n",
       "      <td>580</td>\n",
       "      <td>580.0</td>\n",
       "    </tr>\n",
       "  </tbody>\n",
       "</table>\n",
       "<p>15595 rows × 4 columns</p>\n",
       "</div>"
      ],
      "text/plain": [
       "           sq_ft  min_sq_ft  max_sq_ft  sq_ft_updated\n",
       "0            576        576        576          576.0\n",
       "1            655        655        655          655.0\n",
       "2            721        721        721          721.0\n",
       "3      696 – 724        696        724          710.0\n",
       "4            691        691        691          691.0\n",
       "...          ...        ...        ...            ...\n",
       "20996        350        350        350          350.0\n",
       "20997        754        754        754          754.0\n",
       "20998        470        470        470          470.0\n",
       "20999        580        580        580          580.0\n",
       "21000        580        580        580          580.0\n",
       "\n",
       "[15595 rows x 4 columns]"
      ]
     },
     "execution_count": 125,
     "metadata": {},
     "output_type": "execute_result"
    }
   ],
   "source": [
    "data_3['sq_ft_updated'] = data_3.loc[: , \"min_sq_ft\":\"max_sq_ft\"].mean(axis=1)\n",
    "\n",
    "data_3[['sq_ft','min_sq_ft','max_sq_ft', 'sq_ft_updated']]"
   ]
  },
  {
   "cell_type": "code",
   "execution_count": 126,
   "metadata": {},
   "outputs": [
    {
     "data": {
      "text/plain": [
       "count    15595.000000\n",
       "mean       948.615582\n",
       "std        428.054995\n",
       "min          1.000000\n",
       "25%        700.000000\n",
       "50%        884.000000\n",
       "75%       1113.000000\n",
       "max      12293.000000\n",
       "Name: sq_ft_updated, dtype: float64"
      ]
     },
     "execution_count": 126,
     "metadata": {},
     "output_type": "execute_result"
    }
   ],
   "source": [
    "data_3.sq_ft_updated.describe()"
   ]
  },
  {
   "cell_type": "code",
   "execution_count": 127,
   "metadata": {},
   "outputs": [
    {
     "data": {
      "text/plain": [
       "20491      1.0\n",
       "11893    100.0\n",
       "11846    100.0\n",
       "11847    100.0\n",
       "3702     100.0\n",
       "11849    100.0\n",
       "11850    100.0\n",
       "11851    100.0\n",
       "11852    100.0\n",
       "11853    100.0\n",
       "Name: sq_ft_updated, dtype: float64"
      ]
     },
     "execution_count": 127,
     "metadata": {},
     "output_type": "execute_result"
    }
   ],
   "source": [
    "data_3.sq_ft_updated.sort_values().head(10)"
   ]
  },
  {
   "cell_type": "code",
   "execution_count": 128,
   "metadata": {},
   "outputs": [
    {
     "data": {
      "text/plain": [
       "3435     12293.0\n",
       "17217     9999.0\n",
       "17216     9999.0\n",
       "12594     6888.0\n",
       "4229      6580.0\n",
       "20971     6040.0\n",
       "4252      5787.0\n",
       "20968     5700.0\n",
       "4847      5700.0\n",
       "4243      5671.0\n",
       "Name: sq_ft_updated, dtype: float64"
      ]
     },
     "execution_count": 128,
     "metadata": {},
     "output_type": "execute_result"
    }
   ],
   "source": [
    "data_3.sq_ft_updated.sort_values(ascending = False).head(10)"
   ]
  },
  {
   "cell_type": "code",
   "execution_count": 129,
   "metadata": {},
   "outputs": [
    {
     "data": {
      "text/html": [
       "<div>\n",
       "<style scoped>\n",
       "    .dataframe tbody tr th:only-of-type {\n",
       "        vertical-align: middle;\n",
       "    }\n",
       "\n",
       "    .dataframe tbody tr th {\n",
       "        vertical-align: top;\n",
       "    }\n",
       "\n",
       "    .dataframe thead th {\n",
       "        text-align: right;\n",
       "    }\n",
       "</style>\n",
       "<table border=\"1\" class=\"dataframe\">\n",
       "  <thead>\n",
       "    <tr style=\"text-align: right;\">\n",
       "      <th></th>\n",
       "      <th>url</th>\n",
       "      <th>property_name</th>\n",
       "      <th>city</th>\n",
       "      <th>rent</th>\n",
       "      <th>bed</th>\n",
       "      <th>bath</th>\n",
       "      <th>sq_ft</th>\n",
       "      <th>walkscore</th>\n",
       "      <th>Unique Features</th>\n",
       "      <th>Pet Policy</th>\n",
       "      <th>...</th>\n",
       "      <th>Features</th>\n",
       "      <th>Kitchen</th>\n",
       "      <th>Living Space</th>\n",
       "      <th>Security</th>\n",
       "      <th>Outdoor Space</th>\n",
       "      <th>sq_ft_range</th>\n",
       "      <th>rent_range</th>\n",
       "      <th>min_sq_ft</th>\n",
       "      <th>max_sq_ft</th>\n",
       "      <th>sq_ft_updated</th>\n",
       "    </tr>\n",
       "  </thead>\n",
       "  <tbody>\n",
       "    <tr>\n",
       "      <th>3435</th>\n",
       "      <td>https://www.apartments.com/1044-calma-dr-chula...</td>\n",
       "      <td>1044 Calma Dr</td>\n",
       "      <td>Chula Vista</td>\n",
       "      <td>$4,000</td>\n",
       "      <td>4 beds</td>\n",
       "      <td>3 baths</td>\n",
       "      <td>12,293</td>\n",
       "      <td>44</td>\n",
       "      <td>NaN</td>\n",
       "      <td>NaN</td>\n",
       "      <td>...</td>\n",
       "      <td>NaN</td>\n",
       "      <td>NaN</td>\n",
       "      <td>NaN</td>\n",
       "      <td>NaN</td>\n",
       "      <td>NaN</td>\n",
       "      <td>0</td>\n",
       "      <td>0</td>\n",
       "      <td>12293</td>\n",
       "      <td>12293</td>\n",
       "      <td>12293.0</td>\n",
       "    </tr>\n",
       "    <tr>\n",
       "      <th>4229</th>\n",
       "      <td>https://www.apartments.com/2605-calle-del-oro-...</td>\n",
       "      <td>2605 Calle Del Oro</td>\n",
       "      <td>San Diego</td>\n",
       "      <td>$65,000</td>\n",
       "      <td>4 beds</td>\n",
       "      <td>5 baths</td>\n",
       "      <td>6,580</td>\n",
       "      <td>51</td>\n",
       "      <td>NaN</td>\n",
       "      <td>No Pets Allowed</td>\n",
       "      <td>...</td>\n",
       "      <td>•Smoke Free\\n•Fireplace</td>\n",
       "      <td>•Breakfast Nook</td>\n",
       "      <td>•Office\\n•Views\\n•Furnished</td>\n",
       "      <td>NaN</td>\n",
       "      <td>NaN</td>\n",
       "      <td>0</td>\n",
       "      <td>0</td>\n",
       "      <td>6580</td>\n",
       "      <td>6580</td>\n",
       "      <td>6580.0</td>\n",
       "    </tr>\n",
       "    <tr>\n",
       "      <th>4243</th>\n",
       "      <td>https://www.apartments.com/5802-corral-way-san...</td>\n",
       "      <td>5802 Corral Way</td>\n",
       "      <td>San Diego</td>\n",
       "      <td>$26,500</td>\n",
       "      <td>4 beds</td>\n",
       "      <td>3.5 baths</td>\n",
       "      <td>5,671</td>\n",
       "      <td>5</td>\n",
       "      <td>NaN</td>\n",
       "      <td>No Pets Allowed</td>\n",
       "      <td>...</td>\n",
       "      <td>•Washer/Dryer - In Unit\\n•Air Conditioning\\n•H...</td>\n",
       "      <td>•Dishwasher\\n•Disposal\\n•Microwave\\n•Oven\\n•Ra...</td>\n",
       "      <td>•Carpet\\n•Tile Floors\\n•Dining Room\\n•Family R...</td>\n",
       "      <td>NaN</td>\n",
       "      <td>•Balcony</td>\n",
       "      <td>0</td>\n",
       "      <td>0</td>\n",
       "      <td>5671</td>\n",
       "      <td>5671</td>\n",
       "      <td>5671.0</td>\n",
       "    </tr>\n",
       "    <tr>\n",
       "      <th>4252</th>\n",
       "      <td>https://www.apartments.com/838-forward-st-san-...</td>\n",
       "      <td>838 Forward St</td>\n",
       "      <td>San Diego</td>\n",
       "      <td>$18,000</td>\n",
       "      <td>6 beds</td>\n",
       "      <td>4 baths</td>\n",
       "      <td>5,787</td>\n",
       "      <td>64</td>\n",
       "      <td>NaN</td>\n",
       "      <td>No Pets Allowed</td>\n",
       "      <td>...</td>\n",
       "      <td>•Washer/Dryer - In Unit\\n•Air Conditioning\\n•H...</td>\n",
       "      <td>•Dishwasher\\n•Disposal\\n•Refrigerator</td>\n",
       "      <td>•Furnished</td>\n",
       "      <td>NaN</td>\n",
       "      <td>•Grill</td>\n",
       "      <td>0</td>\n",
       "      <td>0</td>\n",
       "      <td>5787</td>\n",
       "      <td>5787</td>\n",
       "      <td>5787.0</td>\n",
       "    </tr>\n",
       "    <tr>\n",
       "      <th>4847</th>\n",
       "      <td>https://www.apartments.com/5802-corral-way-san...</td>\n",
       "      <td>5802 Corral Way</td>\n",
       "      <td>San Diego</td>\n",
       "      <td>$26,500</td>\n",
       "      <td>4 beds</td>\n",
       "      <td>3.5 baths</td>\n",
       "      <td>5,700</td>\n",
       "      <td>5</td>\n",
       "      <td>NaN</td>\n",
       "      <td>NaN</td>\n",
       "      <td>...</td>\n",
       "      <td>•Washer/Dryer Hookup\\n•Air Conditioning\\n•Cabl...</td>\n",
       "      <td>•Dishwasher\\n•Microwave\\n•Range\\n•Refrigerator</td>\n",
       "      <td>NaN</td>\n",
       "      <td>NaN</td>\n",
       "      <td>•Yard</td>\n",
       "      <td>0</td>\n",
       "      <td>0</td>\n",
       "      <td>5700</td>\n",
       "      <td>5700</td>\n",
       "      <td>5700.0</td>\n",
       "    </tr>\n",
       "    <tr>\n",
       "      <th>6303</th>\n",
       "      <td>https://www.apartments.com/1696-gil-way-vista-...</td>\n",
       "      <td>1696 Gil Way</td>\n",
       "      <td>Vista</td>\n",
       "      <td>$15,000</td>\n",
       "      <td>6 beds</td>\n",
       "      <td>5.5 baths</td>\n",
       "      <td>5,120</td>\n",
       "      <td>-</td>\n",
       "      <td>NaN</td>\n",
       "      <td>Dogs and Cats Allowed</td>\n",
       "      <td>...</td>\n",
       "      <td>•Washer/Dryer - In Unit\\n•Air Conditioning\\n•H...</td>\n",
       "      <td>•Dishwasher\\n•Microwave\\n•Refrigerator</td>\n",
       "      <td>•Vinyl Flooring\\n•Views\\n•Furnished</td>\n",
       "      <td>NaN</td>\n",
       "      <td>•Balcony</td>\n",
       "      <td>0</td>\n",
       "      <td>0</td>\n",
       "      <td>5120</td>\n",
       "      <td>5120</td>\n",
       "      <td>5120.0</td>\n",
       "    </tr>\n",
       "    <tr>\n",
       "      <th>6308</th>\n",
       "      <td>https://www.apartments.com/1055-colucci-dr-vis...</td>\n",
       "      <td>1055 Colucci Dr</td>\n",
       "      <td>Vista</td>\n",
       "      <td>$5,500</td>\n",
       "      <td>5 beds</td>\n",
       "      <td>4.5 baths</td>\n",
       "      <td>5,300</td>\n",
       "      <td>37</td>\n",
       "      <td>NaN</td>\n",
       "      <td>Dogs and Cats Allowed</td>\n",
       "      <td>...</td>\n",
       "      <td>•Washer/Dryer - In Unit\\n•Washer/Dryer Hookup\\...</td>\n",
       "      <td>•Dishwasher\\n•Disposal\\n•Granite Countertops\\n...</td>\n",
       "      <td>•Tile Floors\\n•Dining Room\\n•Sunroom\\n•Views\\n...</td>\n",
       "      <td>•Security System</td>\n",
       "      <td>•Gated\\n•Patio\\n•Yard</td>\n",
       "      <td>0</td>\n",
       "      <td>0</td>\n",
       "      <td>5300</td>\n",
       "      <td>5300</td>\n",
       "      <td>5300.0</td>\n",
       "    </tr>\n",
       "    <tr>\n",
       "      <th>6322</th>\n",
       "      <td>https://www.apartments.com/5-br-45-bath-house-...</td>\n",
       "      <td>5 br, 4.5 bath House - 1055 Colucci Drive</td>\n",
       "      <td>Vista</td>\n",
       "      <td>$5,500</td>\n",
       "      <td>5 beds</td>\n",
       "      <td>4.5 baths</td>\n",
       "      <td>5,300</td>\n",
       "      <td>37</td>\n",
       "      <td>•Amenities - Cooling System: Central, Amenitie...</td>\n",
       "      <td>Dogs and Cats Allowed</td>\n",
       "      <td>...</td>\n",
       "      <td>•Washer/Dryer - In Unit</td>\n",
       "      <td>•Dishwasher</td>\n",
       "      <td>NaN</td>\n",
       "      <td>NaN</td>\n",
       "      <td>NaN</td>\n",
       "      <td>0</td>\n",
       "      <td>0</td>\n",
       "      <td>5300</td>\n",
       "      <td>5300</td>\n",
       "      <td>5300.0</td>\n",
       "    </tr>\n",
       "    <tr>\n",
       "      <th>12594</th>\n",
       "      <td>https://www.apartments.com/1423-martin-luther-...</td>\n",
       "      <td>1423 Martin Luther King Jr Way Unit A2</td>\n",
       "      <td>Berkeley</td>\n",
       "      <td>$1,775</td>\n",
       "      <td>1 bed</td>\n",
       "      <td>1 bath</td>\n",
       "      <td>6,888</td>\n",
       "      <td>92</td>\n",
       "      <td>NaN</td>\n",
       "      <td>NaN</td>\n",
       "      <td>...</td>\n",
       "      <td>NaN</td>\n",
       "      <td>NaN</td>\n",
       "      <td>NaN</td>\n",
       "      <td>NaN</td>\n",
       "      <td>NaN</td>\n",
       "      <td>0</td>\n",
       "      <td>0</td>\n",
       "      <td>6888</td>\n",
       "      <td>6888</td>\n",
       "      <td>6888.0</td>\n",
       "    </tr>\n",
       "    <tr>\n",
       "      <th>17216</th>\n",
       "      <td>https://www.apartments.com/1285-oak-grove-ave-...</td>\n",
       "      <td>1285 Oak Grove Ave</td>\n",
       "      <td>Burlingame</td>\n",
       "      <td>$1,875</td>\n",
       "      <td>Studio</td>\n",
       "      <td>1 bath</td>\n",
       "      <td>9,999</td>\n",
       "      <td>90</td>\n",
       "      <td>NaN</td>\n",
       "      <td>Cats Allowed</td>\n",
       "      <td>...</td>\n",
       "      <td>•Washer/Dryer - In Unit\\n•Heating\\n•Smoke Free...</td>\n",
       "      <td>•Dishwasher\\n•Kitchen\\n•Refrigerator</td>\n",
       "      <td>•Hardwood Floors\\n•Crown Molding</td>\n",
       "      <td>NaN</td>\n",
       "      <td>NaN</td>\n",
       "      <td>0</td>\n",
       "      <td>0</td>\n",
       "      <td>9999</td>\n",
       "      <td>9999</td>\n",
       "      <td>9999.0</td>\n",
       "    </tr>\n",
       "    <tr>\n",
       "      <th>17217</th>\n",
       "      <td>https://www.apartments.com/1285-oak-grove-ave-...</td>\n",
       "      <td>1285 Oak Grove Ave</td>\n",
       "      <td>Burlingame</td>\n",
       "      <td>$2,375</td>\n",
       "      <td>1 bed</td>\n",
       "      <td>1 bath</td>\n",
       "      <td>9,999</td>\n",
       "      <td>90</td>\n",
       "      <td>NaN</td>\n",
       "      <td>Cats Allowed</td>\n",
       "      <td>...</td>\n",
       "      <td>•Washer/Dryer - In Unit\\n•Heating\\n•Smoke Free...</td>\n",
       "      <td>•Dishwasher\\n•Kitchen\\n•Refrigerator</td>\n",
       "      <td>•Hardwood Floors\\n•Crown Molding</td>\n",
       "      <td>NaN</td>\n",
       "      <td>NaN</td>\n",
       "      <td>0</td>\n",
       "      <td>0</td>\n",
       "      <td>9999</td>\n",
       "      <td>9999</td>\n",
       "      <td>9999.0</td>\n",
       "    </tr>\n",
       "    <tr>\n",
       "      <th>20968</th>\n",
       "      <td>https://www.apartments.com/740-san-jose-avenue...</td>\n",
       "      <td>740 San Jose Avenue</td>\n",
       "      <td>San Francisco</td>\n",
       "      <td>$1,995</td>\n",
       "      <td>1 bed</td>\n",
       "      <td>1 bath</td>\n",
       "      <td>5,700</td>\n",
       "      <td>98</td>\n",
       "      <td>NaN</td>\n",
       "      <td>NaN</td>\n",
       "      <td>...</td>\n",
       "      <td>•Air Conditioning\\n•Tub/Shower\\n•Sprinkler System</td>\n",
       "      <td>•Oven\\n•Range\\n•Breakfast Nook</td>\n",
       "      <td>•Hardwood Floors\\n•Carpet</td>\n",
       "      <td>NaN</td>\n",
       "      <td>•Patio</td>\n",
       "      <td>0</td>\n",
       "      <td>0</td>\n",
       "      <td>5700</td>\n",
       "      <td>5700</td>\n",
       "      <td>5700.0</td>\n",
       "    </tr>\n",
       "    <tr>\n",
       "      <th>20971</th>\n",
       "      <td>https://www.apartments.com/4074-24th-st-san-fr...</td>\n",
       "      <td>4074 24th St</td>\n",
       "      <td>San Francisco</td>\n",
       "      <td>$2,000</td>\n",
       "      <td>Studio</td>\n",
       "      <td>1 bath</td>\n",
       "      <td>6,040</td>\n",
       "      <td>97</td>\n",
       "      <td>NaN</td>\n",
       "      <td>NaN</td>\n",
       "      <td>...</td>\n",
       "      <td>•Air Conditioning\\n•Tub/Shower\\n•Sprinkler System</td>\n",
       "      <td>•Oven\\n•Range\\n•Breakfast Nook</td>\n",
       "      <td>•Hardwood Floors\\n•Carpet</td>\n",
       "      <td>NaN</td>\n",
       "      <td>•Patio</td>\n",
       "      <td>0</td>\n",
       "      <td>0</td>\n",
       "      <td>6040</td>\n",
       "      <td>6040</td>\n",
       "      <td>6040.0</td>\n",
       "    </tr>\n",
       "  </tbody>\n",
       "</table>\n",
       "<p>13 rows × 26 columns</p>\n",
       "</div>"
      ],
      "text/plain": [
       "                                                     url  \\\n",
       "3435   https://www.apartments.com/1044-calma-dr-chula...   \n",
       "4229   https://www.apartments.com/2605-calle-del-oro-...   \n",
       "4243   https://www.apartments.com/5802-corral-way-san...   \n",
       "4252   https://www.apartments.com/838-forward-st-san-...   \n",
       "4847   https://www.apartments.com/5802-corral-way-san...   \n",
       "6303   https://www.apartments.com/1696-gil-way-vista-...   \n",
       "6308   https://www.apartments.com/1055-colucci-dr-vis...   \n",
       "6322   https://www.apartments.com/5-br-45-bath-house-...   \n",
       "12594  https://www.apartments.com/1423-martin-luther-...   \n",
       "17216  https://www.apartments.com/1285-oak-grove-ave-...   \n",
       "17217  https://www.apartments.com/1285-oak-grove-ave-...   \n",
       "20968  https://www.apartments.com/740-san-jose-avenue...   \n",
       "20971  https://www.apartments.com/4074-24th-st-san-fr...   \n",
       "\n",
       "                                   property_name           city     rent  \\\n",
       "3435                               1044 Calma Dr    Chula Vista   $4,000   \n",
       "4229                          2605 Calle Del Oro      San Diego  $65,000   \n",
       "4243                             5802 Corral Way      San Diego  $26,500   \n",
       "4252                              838 Forward St      San Diego  $18,000   \n",
       "4847                             5802 Corral Way      San Diego  $26,500   \n",
       "6303                                1696 Gil Way          Vista  $15,000   \n",
       "6308                             1055 Colucci Dr          Vista   $5,500   \n",
       "6322   5 br, 4.5 bath House - 1055 Colucci Drive          Vista   $5,500   \n",
       "12594     1423 Martin Luther King Jr Way Unit A2       Berkeley   $1,775   \n",
       "17216                         1285 Oak Grove Ave     Burlingame   $1,875   \n",
       "17217                         1285 Oak Grove Ave     Burlingame   $2,375   \n",
       "20968                        740 San Jose Avenue  San Francisco   $1,995   \n",
       "20971                               4074 24th St  San Francisco   $2,000   \n",
       "\n",
       "          bed       bath   sq_ft walkscore  \\\n",
       "3435   4 beds    3 baths  12,293        44   \n",
       "4229   4 beds    5 baths   6,580        51   \n",
       "4243   4 beds  3.5 baths   5,671         5   \n",
       "4252   6 beds    4 baths   5,787        64   \n",
       "4847   4 beds  3.5 baths   5,700         5   \n",
       "6303   6 beds  5.5 baths   5,120         -   \n",
       "6308   5 beds  4.5 baths   5,300        37   \n",
       "6322   5 beds  4.5 baths   5,300        37   \n",
       "12594   1 bed     1 bath   6,888        92   \n",
       "17216  Studio     1 bath   9,999        90   \n",
       "17217   1 bed     1 bath   9,999        90   \n",
       "20968   1 bed     1 bath   5,700        98   \n",
       "20971  Studio     1 bath   6,040        97   \n",
       "\n",
       "                                         Unique Features  \\\n",
       "3435                                                 NaN   \n",
       "4229                                                 NaN   \n",
       "4243                                                 NaN   \n",
       "4252                                                 NaN   \n",
       "4847                                                 NaN   \n",
       "6303                                                 NaN   \n",
       "6308                                                 NaN   \n",
       "6322   •Amenities - Cooling System: Central, Amenitie...   \n",
       "12594                                                NaN   \n",
       "17216                                                NaN   \n",
       "17217                                                NaN   \n",
       "20968                                                NaN   \n",
       "20971                                                NaN   \n",
       "\n",
       "                  Pet Policy  ...  \\\n",
       "3435                     NaN  ...   \n",
       "4229         No Pets Allowed  ...   \n",
       "4243         No Pets Allowed  ...   \n",
       "4252         No Pets Allowed  ...   \n",
       "4847                     NaN  ...   \n",
       "6303   Dogs and Cats Allowed  ...   \n",
       "6308   Dogs and Cats Allowed  ...   \n",
       "6322   Dogs and Cats Allowed  ...   \n",
       "12594                    NaN  ...   \n",
       "17216           Cats Allowed  ...   \n",
       "17217           Cats Allowed  ...   \n",
       "20968                    NaN  ...   \n",
       "20971                    NaN  ...   \n",
       "\n",
       "                                                Features  \\\n",
       "3435                                                 NaN   \n",
       "4229                             •Smoke Free\\n•Fireplace   \n",
       "4243   •Washer/Dryer - In Unit\\n•Air Conditioning\\n•H...   \n",
       "4252   •Washer/Dryer - In Unit\\n•Air Conditioning\\n•H...   \n",
       "4847   •Washer/Dryer Hookup\\n•Air Conditioning\\n•Cabl...   \n",
       "6303   •Washer/Dryer - In Unit\\n•Air Conditioning\\n•H...   \n",
       "6308   •Washer/Dryer - In Unit\\n•Washer/Dryer Hookup\\...   \n",
       "6322                             •Washer/Dryer - In Unit   \n",
       "12594                                                NaN   \n",
       "17216  •Washer/Dryer - In Unit\\n•Heating\\n•Smoke Free...   \n",
       "17217  •Washer/Dryer - In Unit\\n•Heating\\n•Smoke Free...   \n",
       "20968  •Air Conditioning\\n•Tub/Shower\\n•Sprinkler System   \n",
       "20971  •Air Conditioning\\n•Tub/Shower\\n•Sprinkler System   \n",
       "\n",
       "                                                 Kitchen  \\\n",
       "3435                                                 NaN   \n",
       "4229                                     •Breakfast Nook   \n",
       "4243   •Dishwasher\\n•Disposal\\n•Microwave\\n•Oven\\n•Ra...   \n",
       "4252               •Dishwasher\\n•Disposal\\n•Refrigerator   \n",
       "4847      •Dishwasher\\n•Microwave\\n•Range\\n•Refrigerator   \n",
       "6303              •Dishwasher\\n•Microwave\\n•Refrigerator   \n",
       "6308   •Dishwasher\\n•Disposal\\n•Granite Countertops\\n...   \n",
       "6322                                         •Dishwasher   \n",
       "12594                                                NaN   \n",
       "17216               •Dishwasher\\n•Kitchen\\n•Refrigerator   \n",
       "17217               •Dishwasher\\n•Kitchen\\n•Refrigerator   \n",
       "20968                     •Oven\\n•Range\\n•Breakfast Nook   \n",
       "20971                     •Oven\\n•Range\\n•Breakfast Nook   \n",
       "\n",
       "                                            Living Space          Security  \\\n",
       "3435                                                 NaN               NaN   \n",
       "4229                         •Office\\n•Views\\n•Furnished               NaN   \n",
       "4243   •Carpet\\n•Tile Floors\\n•Dining Room\\n•Family R...               NaN   \n",
       "4252                                          •Furnished               NaN   \n",
       "4847                                                 NaN               NaN   \n",
       "6303                 •Vinyl Flooring\\n•Views\\n•Furnished               NaN   \n",
       "6308   •Tile Floors\\n•Dining Room\\n•Sunroom\\n•Views\\n...  •Security System   \n",
       "6322                                                 NaN               NaN   \n",
       "12594                                                NaN               NaN   \n",
       "17216                   •Hardwood Floors\\n•Crown Molding               NaN   \n",
       "17217                   •Hardwood Floors\\n•Crown Molding               NaN   \n",
       "20968                          •Hardwood Floors\\n•Carpet               NaN   \n",
       "20971                          •Hardwood Floors\\n•Carpet               NaN   \n",
       "\n",
       "               Outdoor Space sq_ft_range rent_range min_sq_ft max_sq_ft  \\\n",
       "3435                     NaN           0          0     12293     12293   \n",
       "4229                     NaN           0          0      6580      6580   \n",
       "4243                •Balcony           0          0      5671      5671   \n",
       "4252                  •Grill           0          0      5787      5787   \n",
       "4847                   •Yard           0          0      5700      5700   \n",
       "6303                •Balcony           0          0      5120      5120   \n",
       "6308   •Gated\\n•Patio\\n•Yard           0          0      5300      5300   \n",
       "6322                     NaN           0          0      5300      5300   \n",
       "12594                    NaN           0          0      6888      6888   \n",
       "17216                    NaN           0          0      9999      9999   \n",
       "17217                    NaN           0          0      9999      9999   \n",
       "20968                 •Patio           0          0      5700      5700   \n",
       "20971                 •Patio           0          0      6040      6040   \n",
       "\n",
       "      sq_ft_updated  \n",
       "3435        12293.0  \n",
       "4229         6580.0  \n",
       "4243         5671.0  \n",
       "4252         5787.0  \n",
       "4847         5700.0  \n",
       "6303         5120.0  \n",
       "6308         5300.0  \n",
       "6322         5300.0  \n",
       "12594        6888.0  \n",
       "17216        9999.0  \n",
       "17217        9999.0  \n",
       "20968        5700.0  \n",
       "20971        6040.0  \n",
       "\n",
       "[13 rows x 26 columns]"
      ]
     },
     "execution_count": 129,
     "metadata": {},
     "output_type": "execute_result"
    }
   ],
   "source": [
    "data_3[data_3.sq_ft_updated > 5000]"
   ]
  },
  {
   "cell_type": "code",
   "execution_count": 130,
   "metadata": {},
   "outputs": [
    {
     "data": {
      "text/plain": [
       "1 bed     24\n",
       "2 beds    15\n",
       "Studio    13\n",
       "3 beds     2\n",
       "Name: bed, dtype: int64"
      ]
     },
     "execution_count": 130,
     "metadata": {},
     "output_type": "execute_result"
    }
   ],
   "source": [
    "data_3[data_3.sq_ft_updated < 200]['bed'].value_counts()"
   ]
  },
  {
   "cell_type": "code",
   "execution_count": 131,
   "metadata": {},
   "outputs": [
    {
     "data": {
      "text/plain": [
       "4 beds    4\n",
       "1 bed     3\n",
       "6 beds    2\n",
       "Studio    2\n",
       "5 beds    2\n",
       "Name: bed, dtype: int64"
      ]
     },
     "execution_count": 131,
     "metadata": {},
     "output_type": "execute_result"
    }
   ],
   "source": [
    "data_3[data_3.sq_ft_updated > 5000]['bed'].value_counts()"
   ]
  },
  {
   "cell_type": "code",
   "execution_count": 132,
   "metadata": {},
   "outputs": [
    {
     "data": {
      "text/plain": [
       "Index(['url', 'property_name', 'city', 'rent', 'bed', 'bath', 'sq_ft',\n",
       "       'walkscore', 'Unique Features', 'Pet Policy', 'Parking',\n",
       "       'Property Information', 'Lease Length', 'Services', 'Interior',\n",
       "       'Fitness & Recreation', 'Features', 'Kitchen', 'Living Space',\n",
       "       'Security', 'Outdoor Space', 'sq_ft_range', 'rent_range', 'min_sq_ft',\n",
       "       'max_sq_ft', 'sq_ft_updated'],\n",
       "      dtype='object')"
      ]
     },
     "execution_count": 132,
     "metadata": {},
     "output_type": "execute_result"
    }
   ],
   "source": [
    "data_3.columns"
   ]
  },
  {
   "cell_type": "code",
   "execution_count": 133,
   "metadata": {},
   "outputs": [
    {
     "data": {
      "text/html": [
       "<div>\n",
       "<style scoped>\n",
       "    .dataframe tbody tr th:only-of-type {\n",
       "        vertical-align: middle;\n",
       "    }\n",
       "\n",
       "    .dataframe tbody tr th {\n",
       "        vertical-align: top;\n",
       "    }\n",
       "\n",
       "    .dataframe thead th {\n",
       "        text-align: right;\n",
       "    }\n",
       "</style>\n",
       "<table border=\"1\" class=\"dataframe\">\n",
       "  <thead>\n",
       "    <tr style=\"text-align: right;\">\n",
       "      <th></th>\n",
       "      <th>url</th>\n",
       "      <th>property_name</th>\n",
       "      <th>city</th>\n",
       "      <th>rent</th>\n",
       "      <th>bed</th>\n",
       "      <th>bath</th>\n",
       "      <th>sq_ft_updated</th>\n",
       "      <th>walkscore</th>\n",
       "      <th>Unique Features</th>\n",
       "      <th>Pet Policy</th>\n",
       "      <th>...</th>\n",
       "      <th>Lease Length</th>\n",
       "      <th>Services</th>\n",
       "      <th>Interior</th>\n",
       "      <th>Fitness &amp; Recreation</th>\n",
       "      <th>Features</th>\n",
       "      <th>Kitchen</th>\n",
       "      <th>Living Space</th>\n",
       "      <th>Security</th>\n",
       "      <th>Outdoor Space</th>\n",
       "      <th>sq_ft_range</th>\n",
       "    </tr>\n",
       "  </thead>\n",
       "  <tbody>\n",
       "    <tr>\n",
       "      <th>0</th>\n",
       "      <td>https://www.apartments.com/aya-fremont-ca/wxez...</td>\n",
       "      <td>AYA</td>\n",
       "      <td>Fremont</td>\n",
       "      <td>$2,545</td>\n",
       "      <td>Studio</td>\n",
       "      <td>1 bath</td>\n",
       "      <td>576.0</td>\n",
       "      <td>22</td>\n",
       "      <td>•BBQ Grills\\n•Ceramic Kitchen Tile Surround\\n•...</td>\n",
       "      <td>Dogs and Cats Allowed:\\n•Restrictions: We welc...</td>\n",
       "      <td>...</td>\n",
       "      <td>Available months 12,13,14,15</td>\n",
       "      <td>•24 Hour Availability\\n•Pet Washing Station\\n•...</td>\n",
       "      <td>•Elevator\\n•Business Center\\n•Lounge\\n•Multi U...</td>\n",
       "      <td>•Fitness Center\\n•Pool\\n•Bike Storage</td>\n",
       "      <td>•High Speed Internet Access\\n•Wi-Fi\\n•Washer/D...</td>\n",
       "      <td>•Dishwasher\\n•Disposal\\n•Ice Maker\\n•Stainless...</td>\n",
       "      <td>•Den\\n•Views\\n•Walk-In Closets</td>\n",
       "      <td>•Controlled Access\\n•Property Manager on Site</td>\n",
       "      <td>NaN</td>\n",
       "      <td>0</td>\n",
       "    </tr>\n",
       "  </tbody>\n",
       "</table>\n",
       "<p>1 rows × 22 columns</p>\n",
       "</div>"
      ],
      "text/plain": [
       "                                                 url property_name     city  \\\n",
       "0  https://www.apartments.com/aya-fremont-ca/wxez...           AYA  Fremont   \n",
       "\n",
       "     rent     bed    bath  sq_ft_updated walkscore  \\\n",
       "0  $2,545  Studio  1 bath          576.0        22   \n",
       "\n",
       "                                     Unique Features  \\\n",
       "0  •BBQ Grills\\n•Ceramic Kitchen Tile Surround\\n•...   \n",
       "\n",
       "                                          Pet Policy  ...  \\\n",
       "0  Dogs and Cats Allowed:\\n•Restrictions: We welc...  ...   \n",
       "\n",
       "                   Lease Length  \\\n",
       "0  Available months 12,13,14,15   \n",
       "\n",
       "                                            Services  \\\n",
       "0  •24 Hour Availability\\n•Pet Washing Station\\n•...   \n",
       "\n",
       "                                            Interior  \\\n",
       "0  •Elevator\\n•Business Center\\n•Lounge\\n•Multi U...   \n",
       "\n",
       "                    Fitness & Recreation  \\\n",
       "0  •Fitness Center\\n•Pool\\n•Bike Storage   \n",
       "\n",
       "                                            Features  \\\n",
       "0  •High Speed Internet Access\\n•Wi-Fi\\n•Washer/D...   \n",
       "\n",
       "                                             Kitchen  \\\n",
       "0  •Dishwasher\\n•Disposal\\n•Ice Maker\\n•Stainless...   \n",
       "\n",
       "                     Living Space  \\\n",
       "0  •Den\\n•Views\\n•Walk-In Closets   \n",
       "\n",
       "                                        Security Outdoor Space sq_ft_range  \n",
       "0  •Controlled Access\\n•Property Manager on Site           NaN           0  \n",
       "\n",
       "[1 rows x 22 columns]"
      ]
     },
     "execution_count": 133,
     "metadata": {},
     "output_type": "execute_result"
    }
   ],
   "source": [
    "data_4 = data_3[(1 < data_3.sq_ft_updated) & (data_3.sq_ft_updated < 9000)][['url', 'property_name', 'city', 'rent', 'bed', 'bath', 'sq_ft_updated',\n",
    "       'walkscore', 'Unique Features', 'Pet Policy', 'Parking',\n",
    "       'Property Information', 'Lease Length', 'Services', 'Interior',\n",
    "       'Fitness & Recreation', 'Features', 'Kitchen', 'Living Space',\n",
    "       'Security', 'Outdoor Space',  'sq_ft_range']]\n",
    "data_4.head(1)"
   ]
  },
  {
   "cell_type": "code",
   "execution_count": 134,
   "metadata": {},
   "outputs": [
    {
     "data": {
      "text/plain": [
       "11893     100.0\n",
       "11844     100.0\n",
       "11845     100.0\n",
       "3702      100.0\n",
       "11847     100.0\n",
       "          ...  \n",
       "20968    5700.0\n",
       "4252     5787.0\n",
       "20971    6040.0\n",
       "4229     6580.0\n",
       "12594    6888.0\n",
       "Name: sq_ft_updated, Length: 15591, dtype: float64"
      ]
     },
     "execution_count": 134,
     "metadata": {},
     "output_type": "execute_result"
    }
   ],
   "source": [
    "data_4.sq_ft_updated.sort_values()"
   ]
  },
  {
   "cell_type": "markdown",
   "metadata": {},
   "source": [
    "There is a small portion of the listings with unusual sq-ft (e.g. a studio that is over 5,000 sq-ft). After evaluating the data, I decided to drop only the minimum (1 sq-ft) and 2 highest values (9,999 sq-ft and 12,293 sq-ft)."
   ]
  },
  {
   "cell_type": "markdown",
   "metadata": {},
   "source": [
    "#### Rental Price "
   ]
  },
  {
   "cell_type": "code",
   "execution_count": 135,
   "metadata": {},
   "outputs": [],
   "source": [
    "data_4['rent_range'] = 0\n",
    "data_4['rent_range'][data_4['rent'].str.contains(' – ')] = 1"
   ]
  },
  {
   "cell_type": "code",
   "execution_count": 117,
   "metadata": {},
   "outputs": [
    {
     "data": {
      "text/plain": [
       "0.5253030594573792"
      ]
     },
     "execution_count": 117,
     "metadata": {},
     "output_type": "execute_result"
    }
   ],
   "source": [
    "8190 / len(data_4)"
   ]
  },
  {
   "cell_type": "code",
   "execution_count": 136,
   "metadata": {},
   "outputs": [
    {
     "data": {
      "text/html": [
       "<div>\n",
       "<style scoped>\n",
       "    .dataframe tbody tr th:only-of-type {\n",
       "        vertical-align: middle;\n",
       "    }\n",
       "\n",
       "    .dataframe tbody tr th {\n",
       "        vertical-align: top;\n",
       "    }\n",
       "\n",
       "    .dataframe thead th {\n",
       "        text-align: right;\n",
       "    }\n",
       "</style>\n",
       "<table border=\"1\" class=\"dataframe\">\n",
       "  <thead>\n",
       "    <tr style=\"text-align: right;\">\n",
       "      <th></th>\n",
       "      <th>rent</th>\n",
       "      <th>min_rent</th>\n",
       "      <th>max_rent</th>\n",
       "      <th>rent_updated</th>\n",
       "    </tr>\n",
       "  </thead>\n",
       "  <tbody>\n",
       "    <tr>\n",
       "      <th>0</th>\n",
       "      <td>$2,545</td>\n",
       "      <td>2545</td>\n",
       "      <td>2545</td>\n",
       "      <td>2545.0</td>\n",
       "    </tr>\n",
       "    <tr>\n",
       "      <th>1</th>\n",
       "      <td>$2,611 – $2,686</td>\n",
       "      <td>2611</td>\n",
       "      <td>2686</td>\n",
       "      <td>2648.5</td>\n",
       "    </tr>\n",
       "    <tr>\n",
       "      <th>2</th>\n",
       "      <td>$2,619 – $2,669</td>\n",
       "      <td>2619</td>\n",
       "      <td>2669</td>\n",
       "      <td>2644.0</td>\n",
       "    </tr>\n",
       "    <tr>\n",
       "      <th>3</th>\n",
       "      <td>$2,674 – $2,799</td>\n",
       "      <td>2674</td>\n",
       "      <td>2799</td>\n",
       "      <td>2736.5</td>\n",
       "    </tr>\n",
       "    <tr>\n",
       "      <th>4</th>\n",
       "      <td>$2,700 – $2,775</td>\n",
       "      <td>2700</td>\n",
       "      <td>2775</td>\n",
       "      <td>2737.5</td>\n",
       "    </tr>\n",
       "    <tr>\n",
       "      <th>...</th>\n",
       "      <td>...</td>\n",
       "      <td>...</td>\n",
       "      <td>...</td>\n",
       "      <td>...</td>\n",
       "    </tr>\n",
       "    <tr>\n",
       "      <th>20996</th>\n",
       "      <td>$1,900</td>\n",
       "      <td>1900</td>\n",
       "      <td>1900</td>\n",
       "      <td>1900.0</td>\n",
       "    </tr>\n",
       "    <tr>\n",
       "      <th>20997</th>\n",
       "      <td>$3,400</td>\n",
       "      <td>3400</td>\n",
       "      <td>3400</td>\n",
       "      <td>3400.0</td>\n",
       "    </tr>\n",
       "    <tr>\n",
       "      <th>20998</th>\n",
       "      <td>$1,890</td>\n",
       "      <td>1890</td>\n",
       "      <td>1890</td>\n",
       "      <td>1890.0</td>\n",
       "    </tr>\n",
       "    <tr>\n",
       "      <th>20999</th>\n",
       "      <td>$1,980</td>\n",
       "      <td>1980</td>\n",
       "      <td>1980</td>\n",
       "      <td>1980.0</td>\n",
       "    </tr>\n",
       "    <tr>\n",
       "      <th>21000</th>\n",
       "      <td>$2,200</td>\n",
       "      <td>2200</td>\n",
       "      <td>2200</td>\n",
       "      <td>2200.0</td>\n",
       "    </tr>\n",
       "  </tbody>\n",
       "</table>\n",
       "<p>15591 rows × 4 columns</p>\n",
       "</div>"
      ],
      "text/plain": [
       "                  rent  min_rent  max_rent  rent_updated\n",
       "0               $2,545      2545      2545        2545.0\n",
       "1      $2,611 – $2,686      2611      2686        2648.5\n",
       "2      $2,619 – $2,669      2619      2669        2644.0\n",
       "3      $2,674 – $2,799      2674      2799        2736.5\n",
       "4      $2,700 – $2,775      2700      2775        2737.5\n",
       "...                ...       ...       ...           ...\n",
       "20996           $1,900      1900      1900        1900.0\n",
       "20997           $3,400      3400      3400        3400.0\n",
       "20998           $1,890      1890      1890        1890.0\n",
       "20999           $1,980      1980      1980        1980.0\n",
       "21000           $2,200      2200      2200        2200.0\n",
       "\n",
       "[15591 rows x 4 columns]"
      ]
     },
     "execution_count": 136,
     "metadata": {},
     "output_type": "execute_result"
    }
   ],
   "source": [
    "data_4['min_rent'] = data_4['rent']\n",
    "data_4['max_rent'] = data_4['rent']\n",
    "\n",
    "data_4['min_rent'] = data_4['min_rent'].transform(lambda x: re.search('(.+?) – ', x).group(1) if re.search('(.+?) – ', x) else x)\n",
    "data_4['max_rent'] = data_4['max_rent'].transform(lambda x: re.split(r\" – \", x)[1] if re.search('(.+?) – ', x) else x)\n",
    "\n",
    "data_4['min_rent'] = data_4['min_rent'].replace('[\\$\\,\\.]',\"\",regex=True).astype(int)\n",
    "data_4['max_rent'] = data_4['max_rent'].replace('[\\$\\,\\.]',\"\",regex=True).astype(int)\n",
    "\n",
    "data_4['rent_updated'] = data_4.loc[: , \"min_rent\":\"max_rent\"].mean(axis=1)\n",
    "\n",
    "data_4[['rent','min_rent','max_rent', 'rent_updated']]\n"
   ]
  },
  {
   "cell_type": "code",
   "execution_count": 137,
   "metadata": {},
   "outputs": [
    {
     "data": {
      "text/html": [
       "<div>\n",
       "<style scoped>\n",
       "    .dataframe tbody tr th:only-of-type {\n",
       "        vertical-align: middle;\n",
       "    }\n",
       "\n",
       "    .dataframe tbody tr th {\n",
       "        vertical-align: top;\n",
       "    }\n",
       "\n",
       "    .dataframe thead th {\n",
       "        text-align: right;\n",
       "    }\n",
       "</style>\n",
       "<table border=\"1\" class=\"dataframe\">\n",
       "  <thead>\n",
       "    <tr style=\"text-align: right;\">\n",
       "      <th></th>\n",
       "      <th></th>\n",
       "      <th>rent_updated</th>\n",
       "    </tr>\n",
       "    <tr>\n",
       "      <th>city</th>\n",
       "      <th>bed</th>\n",
       "      <th></th>\n",
       "    </tr>\n",
       "  </thead>\n",
       "  <tbody>\n",
       "    <tr>\n",
       "      <th>Aptos</th>\n",
       "      <th>4 beds</th>\n",
       "      <td>29990.000000</td>\n",
       "    </tr>\n",
       "    <tr>\n",
       "      <th>Beverly Hills</th>\n",
       "      <th>4 beds</th>\n",
       "      <td>9999.000000</td>\n",
       "    </tr>\n",
       "    <tr>\n",
       "      <th>Carpinteria</th>\n",
       "      <th>3 beds</th>\n",
       "      <td>39500.000000</td>\n",
       "    </tr>\n",
       "    <tr>\n",
       "      <th>Del Mar</th>\n",
       "      <th>2 beds</th>\n",
       "      <td>19000.000000</td>\n",
       "    </tr>\n",
       "    <tr>\n",
       "      <th>Encinitas</th>\n",
       "      <th>5 beds</th>\n",
       "      <td>40000.000000</td>\n",
       "    </tr>\n",
       "    <tr>\n",
       "      <th>Harmony</th>\n",
       "      <th>4 beds</th>\n",
       "      <td>15000.000000</td>\n",
       "    </tr>\n",
       "    <tr>\n",
       "      <th>Los Altos</th>\n",
       "      <th>5 beds</th>\n",
       "      <td>8922.000000</td>\n",
       "    </tr>\n",
       "    <tr>\n",
       "      <th>Los Altos Hills</th>\n",
       "      <th>4 beds</th>\n",
       "      <td>9000.000000</td>\n",
       "    </tr>\n",
       "    <tr>\n",
       "      <th>Los Gatos</th>\n",
       "      <th>5 beds</th>\n",
       "      <td>8395.000000</td>\n",
       "    </tr>\n",
       "    <tr>\n",
       "      <th>Menlo Park</th>\n",
       "      <th>4 beds</th>\n",
       "      <td>9115.000000</td>\n",
       "    </tr>\n",
       "    <tr>\n",
       "      <th rowspan=\"2\" valign=\"top\">San Diego</th>\n",
       "      <th>4 beds</th>\n",
       "      <td>11133.466667</td>\n",
       "    </tr>\n",
       "    <tr>\n",
       "      <th>5 beds</th>\n",
       "      <td>14720.666667</td>\n",
       "    </tr>\n",
       "    <tr>\n",
       "      <th>Tiburon</th>\n",
       "      <th>3 beds</th>\n",
       "      <td>8600.000000</td>\n",
       "    </tr>\n",
       "    <tr>\n",
       "      <th rowspan=\"2\" valign=\"top\">Vista</th>\n",
       "      <th>6 beds</th>\n",
       "      <td>15000.000000</td>\n",
       "    </tr>\n",
       "    <tr>\n",
       "      <th>7 beds</th>\n",
       "      <td>11500.000000</td>\n",
       "    </tr>\n",
       "  </tbody>\n",
       "</table>\n",
       "</div>"
      ],
      "text/plain": [
       "                        rent_updated\n",
       "city            bed                 \n",
       "Aptos           4 beds  29990.000000\n",
       "Beverly Hills   4 beds   9999.000000\n",
       "Carpinteria     3 beds  39500.000000\n",
       "Del Mar         2 beds  19000.000000\n",
       "Encinitas       5 beds  40000.000000\n",
       "Harmony         4 beds  15000.000000\n",
       "Los Altos       5 beds   8922.000000\n",
       "Los Altos Hills 4 beds   9000.000000\n",
       "Los Gatos       5 beds   8395.000000\n",
       "Menlo Park      4 beds   9115.000000\n",
       "San Diego       4 beds  11133.466667\n",
       "                5 beds  14720.666667\n",
       "Tiburon         3 beds   8600.000000\n",
       "Vista           6 beds  15000.000000\n",
       "                7 beds  11500.000000"
      ]
     },
     "execution_count": 137,
     "metadata": {},
     "output_type": "execute_result"
    }
   ],
   "source": [
    "pt = pd.pivot_table(data_4,values = 'rent_updated', columns = ['city','bed']).T\n",
    "pt[pt['rent_updated'] > 8000]"
   ]
  },
  {
   "cell_type": "code",
   "execution_count": 138,
   "metadata": {},
   "outputs": [
    {
     "data": {
      "text/html": [
       "<div>\n",
       "<style scoped>\n",
       "    .dataframe tbody tr th:only-of-type {\n",
       "        vertical-align: middle;\n",
       "    }\n",
       "\n",
       "    .dataframe tbody tr th {\n",
       "        vertical-align: top;\n",
       "    }\n",
       "\n",
       "    .dataframe thead th {\n",
       "        text-align: right;\n",
       "    }\n",
       "</style>\n",
       "<table border=\"1\" class=\"dataframe\">\n",
       "  <thead>\n",
       "    <tr style=\"text-align: right;\">\n",
       "      <th></th>\n",
       "      <th>url</th>\n",
       "      <th>property_name</th>\n",
       "      <th>city</th>\n",
       "      <th>rent</th>\n",
       "      <th>bed</th>\n",
       "      <th>bath</th>\n",
       "      <th>sq_ft_updated</th>\n",
       "      <th>walkscore</th>\n",
       "      <th>Unique Features</th>\n",
       "      <th>Pet Policy</th>\n",
       "      <th>...</th>\n",
       "      <th>Features</th>\n",
       "      <th>Kitchen</th>\n",
       "      <th>Living Space</th>\n",
       "      <th>Security</th>\n",
       "      <th>Outdoor Space</th>\n",
       "      <th>sq_ft_range</th>\n",
       "      <th>rent_range</th>\n",
       "      <th>min_rent</th>\n",
       "      <th>max_rent</th>\n",
       "      <th>rent_updated</th>\n",
       "    </tr>\n",
       "  </thead>\n",
       "  <tbody>\n",
       "    <tr>\n",
       "      <th>3014</th>\n",
       "      <td>https://www.apartments.com/1470-neptune-ave-en...</td>\n",
       "      <td>1470 Neptune Ave</td>\n",
       "      <td>Encinitas</td>\n",
       "      <td>$40,000</td>\n",
       "      <td>5 beds</td>\n",
       "      <td>4.5 baths</td>\n",
       "      <td>3500.0</td>\n",
       "      <td>51</td>\n",
       "      <td>NaN</td>\n",
       "      <td>No Pets Allowed</td>\n",
       "      <td>...</td>\n",
       "      <td>•Washer/Dryer - In Unit\\n•Air Conditioning\\n•H...</td>\n",
       "      <td>•Dishwasher\\n•Oven\\n•Range\\n•Refrigerator</td>\n",
       "      <td>•Furnished</td>\n",
       "      <td>•Concierge</td>\n",
       "      <td>•Grill</td>\n",
       "      <td>0</td>\n",
       "      <td>0</td>\n",
       "      <td>40000</td>\n",
       "      <td>40000</td>\n",
       "      <td>40000.0</td>\n",
       "    </tr>\n",
       "  </tbody>\n",
       "</table>\n",
       "<p>1 rows × 26 columns</p>\n",
       "</div>"
      ],
      "text/plain": [
       "                                                    url     property_name  \\\n",
       "3014  https://www.apartments.com/1470-neptune-ave-en...  1470 Neptune Ave   \n",
       "\n",
       "           city     rent     bed       bath  sq_ft_updated walkscore  \\\n",
       "3014  Encinitas  $40,000  5 beds  4.5 baths         3500.0        51   \n",
       "\n",
       "     Unique Features       Pet Policy  ...  \\\n",
       "3014             NaN  No Pets Allowed  ...   \n",
       "\n",
       "                                               Features  \\\n",
       "3014  •Washer/Dryer - In Unit\\n•Air Conditioning\\n•H...   \n",
       "\n",
       "                                        Kitchen Living Space    Security  \\\n",
       "3014  •Dishwasher\\n•Oven\\n•Range\\n•Refrigerator   •Furnished  •Concierge   \n",
       "\n",
       "     Outdoor Space sq_ft_range rent_range min_rent max_rent rent_updated  \n",
       "3014        •Grill           0          0    40000    40000      40000.0  \n",
       "\n",
       "[1 rows x 26 columns]"
      ]
     },
     "metadata": {},
     "output_type": "display_data"
    }
   ],
   "source": [
    "display(data_4[(data_4['city'] == 'Encinitas') & (data_4['bed'] == '5 beds')])\n",
    "index_1 = data_4[(data_4['city'] == 'Encinitas') & (data_4['bed'] == '5 beds')].index"
   ]
  },
  {
   "cell_type": "code",
   "execution_count": 139,
   "metadata": {},
   "outputs": [
    {
     "data": {
      "text/html": [
       "<div>\n",
       "<style scoped>\n",
       "    .dataframe tbody tr th:only-of-type {\n",
       "        vertical-align: middle;\n",
       "    }\n",
       "\n",
       "    .dataframe tbody tr th {\n",
       "        vertical-align: top;\n",
       "    }\n",
       "\n",
       "    .dataframe thead th {\n",
       "        text-align: right;\n",
       "    }\n",
       "</style>\n",
       "<table border=\"1\" class=\"dataframe\">\n",
       "  <thead>\n",
       "    <tr style=\"text-align: right;\">\n",
       "      <th></th>\n",
       "      <th>url</th>\n",
       "      <th>property_name</th>\n",
       "      <th>city</th>\n",
       "      <th>rent</th>\n",
       "      <th>bed</th>\n",
       "      <th>bath</th>\n",
       "      <th>sq_ft_updated</th>\n",
       "      <th>walkscore</th>\n",
       "      <th>Unique Features</th>\n",
       "      <th>Pet Policy</th>\n",
       "      <th>...</th>\n",
       "      <th>Features</th>\n",
       "      <th>Kitchen</th>\n",
       "      <th>Living Space</th>\n",
       "      <th>Security</th>\n",
       "      <th>Outdoor Space</th>\n",
       "      <th>sq_ft_range</th>\n",
       "      <th>rent_range</th>\n",
       "      <th>min_rent</th>\n",
       "      <th>max_rent</th>\n",
       "      <th>rent_updated</th>\n",
       "    </tr>\n",
       "  </thead>\n",
       "  <tbody>\n",
       "    <tr>\n",
       "      <th>18785</th>\n",
       "      <td>https://www.apartments.com/2937-padaro-ln-carp...</td>\n",
       "      <td>2937 Padaro Ln</td>\n",
       "      <td>Carpinteria</td>\n",
       "      <td>$39,500</td>\n",
       "      <td>3 beds</td>\n",
       "      <td>4 baths</td>\n",
       "      <td>2514.0</td>\n",
       "      <td>1</td>\n",
       "      <td>NaN</td>\n",
       "      <td>Dogs Allowed</td>\n",
       "      <td>...</td>\n",
       "      <td>•Washer/Dryer - In Unit\\n•Washer/Dryer Hookup\\...</td>\n",
       "      <td>NaN</td>\n",
       "      <td>•Views\\n•Furnished</td>\n",
       "      <td>NaN</td>\n",
       "      <td>NaN</td>\n",
       "      <td>0</td>\n",
       "      <td>0</td>\n",
       "      <td>39500</td>\n",
       "      <td>39500</td>\n",
       "      <td>39500.0</td>\n",
       "    </tr>\n",
       "  </tbody>\n",
       "</table>\n",
       "<p>1 rows × 26 columns</p>\n",
       "</div>"
      ],
      "text/plain": [
       "                                                     url   property_name  \\\n",
       "18785  https://www.apartments.com/2937-padaro-ln-carp...  2937 Padaro Ln   \n",
       "\n",
       "              city     rent     bed     bath  sq_ft_updated walkscore  \\\n",
       "18785  Carpinteria  $39,500  3 beds  4 baths         2514.0         1   \n",
       "\n",
       "      Unique Features    Pet Policy  ...  \\\n",
       "18785             NaN  Dogs Allowed  ...   \n",
       "\n",
       "                                                Features Kitchen  \\\n",
       "18785  •Washer/Dryer - In Unit\\n•Washer/Dryer Hookup\\...     NaN   \n",
       "\n",
       "             Living Space Security Outdoor Space sq_ft_range rent_range  \\\n",
       "18785  •Views\\n•Furnished      NaN           NaN           0          0   \n",
       "\n",
       "      min_rent max_rent rent_updated  \n",
       "18785    39500    39500      39500.0  \n",
       "\n",
       "[1 rows x 26 columns]"
      ]
     },
     "metadata": {},
     "output_type": "display_data"
    }
   ],
   "source": [
    "display(data_4[(data_4['city'] == 'Carpinteria') & (data_4['bed'] == '3 beds')])\n",
    "index_2 = data_4[(data_4['city'] == 'Carpinteria') & (data_4['bed'] == '3 beds')].index"
   ]
  },
  {
   "cell_type": "code",
   "execution_count": 140,
   "metadata": {},
   "outputs": [
    {
     "data": {
      "text/html": [
       "<div>\n",
       "<style scoped>\n",
       "    .dataframe tbody tr th:only-of-type {\n",
       "        vertical-align: middle;\n",
       "    }\n",
       "\n",
       "    .dataframe tbody tr th {\n",
       "        vertical-align: top;\n",
       "    }\n",
       "\n",
       "    .dataframe thead th {\n",
       "        text-align: right;\n",
       "    }\n",
       "</style>\n",
       "<table border=\"1\" class=\"dataframe\">\n",
       "  <thead>\n",
       "    <tr style=\"text-align: right;\">\n",
       "      <th></th>\n",
       "      <th>url</th>\n",
       "      <th>property_name</th>\n",
       "      <th>city</th>\n",
       "      <th>rent</th>\n",
       "      <th>bed</th>\n",
       "      <th>bath</th>\n",
       "      <th>sq_ft_updated</th>\n",
       "      <th>walkscore</th>\n",
       "      <th>Unique Features</th>\n",
       "      <th>Pet Policy</th>\n",
       "      <th>...</th>\n",
       "      <th>Features</th>\n",
       "      <th>Kitchen</th>\n",
       "      <th>Living Space</th>\n",
       "      <th>Security</th>\n",
       "      <th>Outdoor Space</th>\n",
       "      <th>sq_ft_range</th>\n",
       "      <th>rent_range</th>\n",
       "      <th>min_rent</th>\n",
       "      <th>max_rent</th>\n",
       "      <th>rent_updated</th>\n",
       "    </tr>\n",
       "  </thead>\n",
       "  <tbody>\n",
       "    <tr>\n",
       "      <th>20903</th>\n",
       "      <td>https://www.apartments.com/122-rio-del-mar-blv...</td>\n",
       "      <td>122 Rio Del Mar Blvd Unit 122</td>\n",
       "      <td>Aptos</td>\n",
       "      <td>$29,990</td>\n",
       "      <td>4 beds</td>\n",
       "      <td>3 baths</td>\n",
       "      <td>1563.0</td>\n",
       "      <td>54</td>\n",
       "      <td>NaN</td>\n",
       "      <td>Dogs and Cats Allowed</td>\n",
       "      <td>...</td>\n",
       "      <td>•Washer/Dryer - In Unit\\n•Smoke Free</td>\n",
       "      <td>NaN</td>\n",
       "      <td>•Furnished</td>\n",
       "      <td>NaN</td>\n",
       "      <td>NaN</td>\n",
       "      <td>0</td>\n",
       "      <td>0</td>\n",
       "      <td>29990</td>\n",
       "      <td>29990</td>\n",
       "      <td>29990.0</td>\n",
       "    </tr>\n",
       "  </tbody>\n",
       "</table>\n",
       "<p>1 rows × 26 columns</p>\n",
       "</div>"
      ],
      "text/plain": [
       "                                                     url  \\\n",
       "20903  https://www.apartments.com/122-rio-del-mar-blv...   \n",
       "\n",
       "                       property_name   city     rent     bed     bath  \\\n",
       "20903  122 Rio Del Mar Blvd Unit 122  Aptos  $29,990  4 beds  3 baths   \n",
       "\n",
       "       sq_ft_updated walkscore Unique Features             Pet Policy  ...  \\\n",
       "20903         1563.0        54             NaN  Dogs and Cats Allowed  ...   \n",
       "\n",
       "                                   Features Kitchen Living Space Security  \\\n",
       "20903  •Washer/Dryer - In Unit\\n•Smoke Free     NaN   •Furnished      NaN   \n",
       "\n",
       "      Outdoor Space sq_ft_range rent_range min_rent max_rent rent_updated  \n",
       "20903           NaN           0          0    29990    29990      29990.0  \n",
       "\n",
       "[1 rows x 26 columns]"
      ]
     },
     "metadata": {},
     "output_type": "display_data"
    }
   ],
   "source": [
    "display(data_4[(data_4['city'] == 'Aptos') & (data_4['bed'] == '4 beds')])\n",
    "index_3 = data_4[(data_4['city'] == 'Aptos') & (data_4['bed'] == '4 beds')].index"
   ]
  },
  {
   "cell_type": "code",
   "execution_count": 141,
   "metadata": {},
   "outputs": [],
   "source": [
    "data_5 = data_4.drop(index = [index_1[0], index_2[0], index_3[0]])[['url', 'property_name', 'city', 'rent_updated', 'bed', 'bath', 'sq_ft_updated',\n",
    "       'walkscore', 'Unique Features', 'Pet Policy', 'Parking',\n",
    "       'Property Information', 'Lease Length', 'Services', 'Interior',\n",
    "       'Fitness & Recreation', 'Features', 'Kitchen', 'Living Space',\n",
    "       'Security', 'Outdoor Space', 'rent_range', 'sq_ft_range']]"
   ]
  },
  {
   "cell_type": "code",
   "execution_count": 282,
   "metadata": {},
   "outputs": [
    {
     "name": "stdout",
     "output_type": "stream",
     "text": [
      "1 bed\n",
      "['1 bath' '1.5 baths' '2 baths' '1.25 baths' '3 baths' '0.5 bath'\n",
      " '2.5 baths']\n",
      "\n",
      "2 beds\n",
      "['2 baths' '1 bath' '2.5 baths' '1.25 baths' '1.5 baths' '3 baths'\n",
      " '2.75 baths' '1.75 baths' '4 baths']\n",
      "\n",
      "3 beds\n",
      "['2 baths' '2.5 baths' '1 bath' '3 baths' '1.5 baths' '3.5 baths'\n",
      " '4 baths' '1.75 baths' '4.5 baths']\n",
      "\n",
      "4 beds\n",
      "['4 baths' '2 baths' '2.5 baths' '3 baths' '4.5 baths' '1.5 baths'\n",
      " '3.5 baths' '1 bath' '5 baths']\n",
      "\n",
      "5 beds\n",
      "['4 baths' '3 baths' '3.5 baths' '2.5 baths' '6 baths' '2 baths' '5 baths'\n",
      " '5.5 baths' '4.5 baths']\n",
      "\n",
      "6 beds\n",
      "['3 baths' '4 baths' '5.5 baths' '4.5 baths' '2 baths' '3.5 baths']\n",
      "\n",
      "7 beds\n",
      "['4 baths']\n",
      "\n",
      "Studio\n",
      "['1 bath' '1.5 baths' '2 baths' '0.5 bath']\n",
      "\n"
     ]
    }
   ],
   "source": [
    "bed_group = data_5.groupby('bed')\n",
    "\n",
    "for bed_num, bed_data in bed_group:\n",
    "    print(bed_num)\n",
    "    print(bed_data.bath.unique())\n",
    "    print(\"\")"
   ]
  },
  {
   "cell_type": "code",
   "execution_count": 271,
   "metadata": {},
   "outputs": [],
   "source": [
    "bed_group = data_5.groupby('bed')\n",
    "\n",
    "names = []\n",
    "bed_mean = []\n",
    "bed_std = []\n",
    "\n",
    "for bed_num, bed_data in bed_group:\n",
    "    names.append(bed_num)\n",
    "    bed_mean.append(bed_data.rent_updated.mean())\n",
    "    bed_std.append(bed_data.rent_updated.std())"
   ]
  },
  {
   "cell_type": "code",
   "execution_count": 257,
   "metadata": {},
   "outputs": [
    {
     "data": {
      "text/plain": [
       "['1 Bedroom',\n",
       " '2 Bedrooms',\n",
       " '3 Bedrooms',\n",
       " '4 Bedrooms',\n",
       " '5 Bedrooms',\n",
       " '6 Bedrooms',\n",
       " '7 Bedrooms',\n",
       " 'Studio']"
      ]
     },
     "execution_count": 257,
     "metadata": {},
     "output_type": "execute_result"
    }
   ],
   "source": [
    "for i, name in enumerate(names):\n",
    "    names[i] = name.replace('beds', 'Bedrooms')\n",
    "names[0] = '1 Bedroom'\n",
    "names"
   ]
  },
  {
   "cell_type": "code",
   "execution_count": 272,
   "metadata": {},
   "outputs": [
    {
     "data": {
      "text/plain": [
       "['Studio', '1 bed', '2 beds', '3 beds', '4 beds', '5 beds', '6 beds', '7 beds']"
      ]
     },
     "execution_count": 272,
     "metadata": {},
     "output_type": "execute_result"
    }
   ],
   "source": [
    "names = [names[-1]] + names[0:-1]\n",
    "names"
   ]
  },
  {
   "cell_type": "code",
   "execution_count": 273,
   "metadata": {},
   "outputs": [],
   "source": [
    "bed_mean = [bed_mean[-1]] + bed_mean[0:-1]\n",
    "bed_std = [bed_std[-1]] + bed_std[0:-1]"
   ]
  },
  {
   "cell_type": "code",
   "execution_count": 275,
   "metadata": {},
   "outputs": [
    {
     "data": {
      "text/plain": [
       "<matplotlib.legend.Legend at 0x7f86c2fa9550>"
      ]
     },
     "execution_count": 275,
     "metadata": {},
     "output_type": "execute_result"
    },
    {
     "data": {
      "image/png": "[encoded data removed]",
      "text/plain": [
       "<Figure size 576x360 with 1 Axes>"
      ]
     },
     "metadata": {
      "needs_background": "light"
     },
     "output_type": "display_data"
    }
   ],
   "source": [
    "fig, ax = plt.subplots(figsize = (8,5))\n",
    "\n",
    "x = np.arange(8)\n",
    "ax.plot(x, bed_mean, label = 'Mean')\n",
    "ax.scatter(x, bed_mean)\n",
    "ax.plot(x, bed_std, label = 'Standard Deviation')\n",
    "ax.scatter(x, bed_std)\n",
    "ax.yaxis.set_major_formatter('${x:1.2f}')\n",
    "ax.set_ylabel('Price')\n",
    "ax.set_xticks(np.arange(8))\n",
    "ax.set_xticklabels(names)\n",
    "ax.legend()"
   ]
  },
  {
   "cell_type": "code",
   "execution_count": 183,
   "metadata": {},
   "outputs": [],
   "source": [
    "x = data_5.bed.value_counts()"
   ]
  },
  {
   "cell_type": "code",
   "execution_count": 184,
   "metadata": {},
   "outputs": [
    {
     "data": {
      "text/plain": [
       "2 beds    6375\n",
       "1 bed     5908\n",
       "Studio    1625\n",
       "3 beds    1382\n",
       "4 beds     221\n",
       "5 beds      62\n",
       "6 beds      14\n",
       "7 beds       1\n",
       "Name: bed, dtype: int64"
      ]
     },
     "execution_count": 184,
     "metadata": {},
     "output_type": "execute_result"
    }
   ],
   "source": [
    "x"
   ]
  },
  {
   "cell_type": "code",
   "execution_count": 186,
   "metadata": {},
   "outputs": [
    {
     "data": {
      "text/plain": [
       "2 beds    6375\n",
       "1 bed     5908\n",
       "Studio    1625\n",
       "3 beds    1382\n",
       "4 beds     298\n",
       "Name: bed, dtype: int64"
      ]
     },
     "execution_count": 186,
     "metadata": {},
     "output_type": "execute_result"
    }
   ],
   "source": [
    "x_1 = x[:5]\n",
    "x_1[4] = (221+62+14+1)"
   ]
  },
  {
   "cell_type": "code",
   "execution_count": 190,
   "metadata": {},
   "outputs": [
    {
     "data": {
      "text/plain": [
       "2 beds    0.408968\n",
       "1 bed     0.379009\n",
       "Studio    0.104247\n",
       "3 beds    0.088658\n",
       "4 beds    0.019117\n",
       "Name: bed, dtype: float64"
      ]
     },
     "execution_count": 190,
     "metadata": {},
     "output_type": "execute_result"
    }
   ],
   "source": [
    "x_2 = x_1/sum(x_1)\n",
    "x_2"
   ]
  },
  {
   "cell_type": "code",
   "execution_count": 276,
   "metadata": {},
   "outputs": [
    {
     "data": {
      "text/plain": [
       "Text(0.5, 1.0, 'Number of Bedrooms Distribution')"
      ]
     },
     "execution_count": 276,
     "metadata": {},
     "output_type": "execute_result"
    },
    {
     "data": {
      "image/png": "[encoded data removed]",
      "text/plain": [
       "<Figure size 576x360 with 1 Axes>"
      ]
     },
     "metadata": {
      "needs_background": "light"
     },
     "output_type": "display_data"
    }
   ],
   "source": [
    "fig, ax = plt.subplots(figsize = (8,5))\n",
    "labels = np.array(['2 beds', '1 bed', 'Studio', '3 beds', ' 4 or more'])\n",
    "ax.bar(labels[[2,1,0,3,4]], x_2[[2,1,0,3,4]], width = 0.6)\n",
    "ax.set_ylabel('Frequency')\n",
    "ax.set_title('Number of Bedrooms Distribution')"
   ]
  },
  {
   "cell_type": "code",
   "execution_count": null,
   "metadata": {},
   "outputs": [],
   "source": []
  },
  {
   "cell_type": "code",
   "execution_count": 435,
   "metadata": {},
   "outputs": [
    {
     "data": {
      "text/html": [
       "<div>\n",
       "<style scoped>\n",
       "    .dataframe tbody tr th:only-of-type {\n",
       "        vertical-align: middle;\n",
       "    }\n",
       "\n",
       "    .dataframe tbody tr th {\n",
       "        vertical-align: top;\n",
       "    }\n",
       "\n",
       "    .dataframe thead th {\n",
       "        text-align: right;\n",
       "    }\n",
       "</style>\n",
       "<table border=\"1\" class=\"dataframe\">\n",
       "  <thead>\n",
       "    <tr style=\"text-align: right;\">\n",
       "      <th></th>\n",
       "      <th>url</th>\n",
       "      <th>property_name</th>\n",
       "      <th>city</th>\n",
       "      <th>rent_updated</th>\n",
       "      <th>bed</th>\n",
       "      <th>bath</th>\n",
       "      <th>sq_ft_updated</th>\n",
       "      <th>walkscore</th>\n",
       "      <th>Unique Features</th>\n",
       "      <th>Pet Policy</th>\n",
       "      <th>...</th>\n",
       "      <th>Property Information</th>\n",
       "      <th>Lease Length</th>\n",
       "      <th>Services</th>\n",
       "      <th>Interior</th>\n",
       "      <th>Fitness &amp; Recreation</th>\n",
       "      <th>Features</th>\n",
       "      <th>Kitchen</th>\n",
       "      <th>Living Space</th>\n",
       "      <th>Security</th>\n",
       "      <th>Outdoor Space</th>\n",
       "    </tr>\n",
       "  </thead>\n",
       "  <tbody>\n",
       "    <tr>\n",
       "      <th>0</th>\n",
       "      <td>https://www.apartments.com/aya-fremont-ca/wxez...</td>\n",
       "      <td>AYA</td>\n",
       "      <td>Fremont</td>\n",
       "      <td>2545.0</td>\n",
       "      <td>Studio</td>\n",
       "      <td>1 bath</td>\n",
       "      <td>576.0</td>\n",
       "      <td>22</td>\n",
       "      <td>•BBQ Grills\\n•Ceramic Kitchen Tile Surround\\n•...</td>\n",
       "      <td>Dogs and Cats Allowed:\\n•Restrictions: We welc...</td>\n",
       "      <td>...</td>\n",
       "      <td>•Built in 2020\\n•302 Units/5 Stories</td>\n",
       "      <td>Available months 12,13,14,15</td>\n",
       "      <td>•24 Hour Availability\\n•Pet Washing Station\\n•...</td>\n",
       "      <td>•Elevator\\n•Business Center\\n•Lounge\\n•Multi U...</td>\n",
       "      <td>•Fitness Center\\n•Pool\\n•Bike Storage</td>\n",
       "      <td>•High Speed Internet Access\\n•Wi-Fi\\n•Washer/D...</td>\n",
       "      <td>•Dishwasher\\n•Disposal\\n•Ice Maker\\n•Stainless...</td>\n",
       "      <td>•Den\\n•Views\\n•Walk-In Closets</td>\n",
       "      <td>•Controlled Access\\n•Property Manager on Site</td>\n",
       "      <td>NaN</td>\n",
       "    </tr>\n",
       "    <tr>\n",
       "      <th>1</th>\n",
       "      <td>https://www.apartments.com/aya-fremont-ca/wxez...</td>\n",
       "      <td>AYA</td>\n",
       "      <td>Fremont</td>\n",
       "      <td>2648.5</td>\n",
       "      <td>1 bed</td>\n",
       "      <td>1 bath</td>\n",
       "      <td>655.0</td>\n",
       "      <td>22</td>\n",
       "      <td>•BBQ Grills\\n•Ceramic Kitchen Tile Surround\\n•...</td>\n",
       "      <td>Dogs and Cats Allowed:\\n•Restrictions: We welc...</td>\n",
       "      <td>...</td>\n",
       "      <td>•Built in 2020\\n•302 Units/5 Stories</td>\n",
       "      <td>Available months 12,13,14,15</td>\n",
       "      <td>•24 Hour Availability\\n•Pet Washing Station\\n•...</td>\n",
       "      <td>•Elevator\\n•Business Center\\n•Lounge\\n•Multi U...</td>\n",
       "      <td>•Fitness Center\\n•Pool\\n•Bike Storage</td>\n",
       "      <td>•High Speed Internet Access\\n•Wi-Fi\\n•Washer/D...</td>\n",
       "      <td>•Dishwasher\\n•Disposal\\n•Ice Maker\\n•Stainless...</td>\n",
       "      <td>•Den\\n•Views\\n•Walk-In Closets</td>\n",
       "      <td>•Controlled Access\\n•Property Manager on Site</td>\n",
       "      <td>NaN</td>\n",
       "    </tr>\n",
       "    <tr>\n",
       "      <th>2</th>\n",
       "      <td>https://www.apartments.com/aya-fremont-ca/wxez...</td>\n",
       "      <td>AYA</td>\n",
       "      <td>Fremont</td>\n",
       "      <td>2644.0</td>\n",
       "      <td>1 bed</td>\n",
       "      <td>1 bath</td>\n",
       "      <td>721.0</td>\n",
       "      <td>22</td>\n",
       "      <td>•BBQ Grills\\n•Ceramic Kitchen Tile Surround\\n•...</td>\n",
       "      <td>Dogs and Cats Allowed:\\n•Restrictions: We welc...</td>\n",
       "      <td>...</td>\n",
       "      <td>•Built in 2020\\n•302 Units/5 Stories</td>\n",
       "      <td>Available months 12,13,14,15</td>\n",
       "      <td>•24 Hour Availability\\n•Pet Washing Station\\n•...</td>\n",
       "      <td>•Elevator\\n•Business Center\\n•Lounge\\n•Multi U...</td>\n",
       "      <td>•Fitness Center\\n•Pool\\n•Bike Storage</td>\n",
       "      <td>•High Speed Internet Access\\n•Wi-Fi\\n•Washer/D...</td>\n",
       "      <td>•Dishwasher\\n•Disposal\\n•Ice Maker\\n•Stainless...</td>\n",
       "      <td>•Den\\n•Views\\n•Walk-In Closets</td>\n",
       "      <td>•Controlled Access\\n•Property Manager on Site</td>\n",
       "      <td>NaN</td>\n",
       "    </tr>\n",
       "    <tr>\n",
       "      <th>3</th>\n",
       "      <td>https://www.apartments.com/aya-fremont-ca/wxez...</td>\n",
       "      <td>AYA</td>\n",
       "      <td>Fremont</td>\n",
       "      <td>2736.5</td>\n",
       "      <td>1 bed</td>\n",
       "      <td>1 bath</td>\n",
       "      <td>710.0</td>\n",
       "      <td>22</td>\n",
       "      <td>•BBQ Grills\\n•Ceramic Kitchen Tile Surround\\n•...</td>\n",
       "      <td>Dogs and Cats Allowed:\\n•Restrictions: We welc...</td>\n",
       "      <td>...</td>\n",
       "      <td>•Built in 2020\\n•302 Units/5 Stories</td>\n",
       "      <td>Available months 12,13,14,15</td>\n",
       "      <td>•24 Hour Availability\\n•Pet Washing Station\\n•...</td>\n",
       "      <td>•Elevator\\n•Business Center\\n•Lounge\\n•Multi U...</td>\n",
       "      <td>•Fitness Center\\n•Pool\\n•Bike Storage</td>\n",
       "      <td>•High Speed Internet Access\\n•Wi-Fi\\n•Washer/D...</td>\n",
       "      <td>•Dishwasher\\n•Disposal\\n•Ice Maker\\n•Stainless...</td>\n",
       "      <td>•Den\\n•Views\\n•Walk-In Closets</td>\n",
       "      <td>•Controlled Access\\n•Property Manager on Site</td>\n",
       "      <td>NaN</td>\n",
       "    </tr>\n",
       "    <tr>\n",
       "      <th>4</th>\n",
       "      <td>https://www.apartments.com/aya-fremont-ca/wxez...</td>\n",
       "      <td>AYA</td>\n",
       "      <td>Fremont</td>\n",
       "      <td>2737.5</td>\n",
       "      <td>1 bed</td>\n",
       "      <td>1 bath</td>\n",
       "      <td>691.0</td>\n",
       "      <td>22</td>\n",
       "      <td>•BBQ Grills\\n•Ceramic Kitchen Tile Surround\\n•...</td>\n",
       "      <td>Dogs and Cats Allowed:\\n•Restrictions: We welc...</td>\n",
       "      <td>...</td>\n",
       "      <td>•Built in 2020\\n•302 Units/5 Stories</td>\n",
       "      <td>Available months 12,13,14,15</td>\n",
       "      <td>•24 Hour Availability\\n•Pet Washing Station\\n•...</td>\n",
       "      <td>•Elevator\\n•Business Center\\n•Lounge\\n•Multi U...</td>\n",
       "      <td>•Fitness Center\\n•Pool\\n•Bike Storage</td>\n",
       "      <td>•High Speed Internet Access\\n•Wi-Fi\\n•Washer/D...</td>\n",
       "      <td>•Dishwasher\\n•Disposal\\n•Ice Maker\\n•Stainless...</td>\n",
       "      <td>•Den\\n•Views\\n•Walk-In Closets</td>\n",
       "      <td>•Controlled Access\\n•Property Manager on Site</td>\n",
       "      <td>NaN</td>\n",
       "    </tr>\n",
       "  </tbody>\n",
       "</table>\n",
       "<p>5 rows × 21 columns</p>\n",
       "</div>"
      ],
      "text/plain": [
       "                                                 url property_name     city  \\\n",
       "0  https://www.apartments.com/aya-fremont-ca/wxez...           AYA  Fremont   \n",
       "1  https://www.apartments.com/aya-fremont-ca/wxez...           AYA  Fremont   \n",
       "2  https://www.apartments.com/aya-fremont-ca/wxez...           AYA  Fremont   \n",
       "3  https://www.apartments.com/aya-fremont-ca/wxez...           AYA  Fremont   \n",
       "4  https://www.apartments.com/aya-fremont-ca/wxez...           AYA  Fremont   \n",
       "\n",
       "   rent_updated     bed    bath  sq_ft_updated walkscore  \\\n",
       "0        2545.0  Studio  1 bath          576.0        22   \n",
       "1        2648.5   1 bed  1 bath          655.0        22   \n",
       "2        2644.0   1 bed  1 bath          721.0        22   \n",
       "3        2736.5   1 bed  1 bath          710.0        22   \n",
       "4        2737.5   1 bed  1 bath          691.0        22   \n",
       "\n",
       "                                     Unique Features  \\\n",
       "0  •BBQ Grills\\n•Ceramic Kitchen Tile Surround\\n•...   \n",
       "1  •BBQ Grills\\n•Ceramic Kitchen Tile Surround\\n•...   \n",
       "2  •BBQ Grills\\n•Ceramic Kitchen Tile Surround\\n•...   \n",
       "3  •BBQ Grills\\n•Ceramic Kitchen Tile Surround\\n•...   \n",
       "4  •BBQ Grills\\n•Ceramic Kitchen Tile Surround\\n•...   \n",
       "\n",
       "                                          Pet Policy  ...  \\\n",
       "0  Dogs and Cats Allowed:\\n•Restrictions: We welc...  ...   \n",
       "1  Dogs and Cats Allowed:\\n•Restrictions: We welc...  ...   \n",
       "2  Dogs and Cats Allowed:\\n•Restrictions: We welc...  ...   \n",
       "3  Dogs and Cats Allowed:\\n•Restrictions: We welc...  ...   \n",
       "4  Dogs and Cats Allowed:\\n•Restrictions: We welc...  ...   \n",
       "\n",
       "                   Property Information                  Lease Length  \\\n",
       "0  •Built in 2020\\n•302 Units/5 Stories  Available months 12,13,14,15   \n",
       "1  •Built in 2020\\n•302 Units/5 Stories  Available months 12,13,14,15   \n",
       "2  •Built in 2020\\n•302 Units/5 Stories  Available months 12,13,14,15   \n",
       "3  •Built in 2020\\n•302 Units/5 Stories  Available months 12,13,14,15   \n",
       "4  •Built in 2020\\n•302 Units/5 Stories  Available months 12,13,14,15   \n",
       "\n",
       "                                            Services  \\\n",
       "0  •24 Hour Availability\\n•Pet Washing Station\\n•...   \n",
       "1  •24 Hour Availability\\n•Pet Washing Station\\n•...   \n",
       "2  •24 Hour Availability\\n•Pet Washing Station\\n•...   \n",
       "3  •24 Hour Availability\\n•Pet Washing Station\\n•...   \n",
       "4  •24 Hour Availability\\n•Pet Washing Station\\n•...   \n",
       "\n",
       "                                            Interior  \\\n",
       "0  •Elevator\\n•Business Center\\n•Lounge\\n•Multi U...   \n",
       "1  •Elevator\\n•Business Center\\n•Lounge\\n•Multi U...   \n",
       "2  •Elevator\\n•Business Center\\n•Lounge\\n•Multi U...   \n",
       "3  •Elevator\\n•Business Center\\n•Lounge\\n•Multi U...   \n",
       "4  •Elevator\\n•Business Center\\n•Lounge\\n•Multi U...   \n",
       "\n",
       "                    Fitness & Recreation  \\\n",
       "0  •Fitness Center\\n•Pool\\n•Bike Storage   \n",
       "1  •Fitness Center\\n•Pool\\n•Bike Storage   \n",
       "2  •Fitness Center\\n•Pool\\n•Bike Storage   \n",
       "3  •Fitness Center\\n•Pool\\n•Bike Storage   \n",
       "4  •Fitness Center\\n•Pool\\n•Bike Storage   \n",
       "\n",
       "                                            Features  \\\n",
       "0  •High Speed Internet Access\\n•Wi-Fi\\n•Washer/D...   \n",
       "1  •High Speed Internet Access\\n•Wi-Fi\\n•Washer/D...   \n",
       "2  •High Speed Internet Access\\n•Wi-Fi\\n•Washer/D...   \n",
       "3  •High Speed Internet Access\\n•Wi-Fi\\n•Washer/D...   \n",
       "4  •High Speed Internet Access\\n•Wi-Fi\\n•Washer/D...   \n",
       "\n",
       "                                             Kitchen  \\\n",
       "0  •Dishwasher\\n•Disposal\\n•Ice Maker\\n•Stainless...   \n",
       "1  •Dishwasher\\n•Disposal\\n•Ice Maker\\n•Stainless...   \n",
       "2  •Dishwasher\\n•Disposal\\n•Ice Maker\\n•Stainless...   \n",
       "3  •Dishwasher\\n•Disposal\\n•Ice Maker\\n•Stainless...   \n",
       "4  •Dishwasher\\n•Disposal\\n•Ice Maker\\n•Stainless...   \n",
       "\n",
       "                     Living Space  \\\n",
       "0  •Den\\n•Views\\n•Walk-In Closets   \n",
       "1  •Den\\n•Views\\n•Walk-In Closets   \n",
       "2  •Den\\n•Views\\n•Walk-In Closets   \n",
       "3  •Den\\n•Views\\n•Walk-In Closets   \n",
       "4  •Den\\n•Views\\n•Walk-In Closets   \n",
       "\n",
       "                                        Security Outdoor Space  \n",
       "0  •Controlled Access\\n•Property Manager on Site           NaN  \n",
       "1  •Controlled Access\\n•Property Manager on Site           NaN  \n",
       "2  •Controlled Access\\n•Property Manager on Site           NaN  \n",
       "3  •Controlled Access\\n•Property Manager on Site           NaN  \n",
       "4  •Controlled Access\\n•Property Manager on Site           NaN  \n",
       "\n",
       "[5 rows x 21 columns]"
      ]
     },
     "execution_count": 435,
     "metadata": {},
     "output_type": "execute_result"
    }
   ],
   "source": [
    "data_5.head()"
   ]
  },
  {
   "cell_type": "markdown",
   "metadata": {},
   "source": [
    "#### Minimum Lease"
   ]
  },
  {
   "cell_type": "code",
   "execution_count": 388,
   "metadata": {},
   "outputs": [],
   "source": [
    "# Manipulate the data in excel\n",
    "path = '/Users/ivylai/Desktop/Galvanize/apt_scrapper/lease_info.xlsx'\n",
    "pd.DataFrame(data_5['Lease Length'].unique()).to_excel(excel_writer = path)"
   ]
  },
  {
   "cell_type": "code",
   "execution_count": 143,
   "metadata": {},
   "outputs": [],
   "source": [
    "path = '/Users/ivylai/Desktop/Galvanize/W08/CaliforniaRentalValueEstimation/data-cleaning/lease_length.xlsx'\n",
    "minimum_lease = pd.read_excel(path)"
   ]
  },
  {
   "cell_type": "code",
   "execution_count": 144,
   "metadata": {},
   "outputs": [],
   "source": [
    "minimum_lease.drop(columns = 'Unnamed: 0', inplace= True)"
   ]
  },
  {
   "cell_type": "code",
   "execution_count": 145,
   "metadata": {},
   "outputs": [],
   "source": [
    "data_5 = data_5.merge(minimum_lease, on = 'Lease Length')"
   ]
  },
  {
   "cell_type": "code",
   "execution_count": 146,
   "metadata": {},
   "outputs": [
    {
     "data": {
      "text/html": [
       "<div>\n",
       "<style scoped>\n",
       "    .dataframe tbody tr th:only-of-type {\n",
       "        vertical-align: middle;\n",
       "    }\n",
       "\n",
       "    .dataframe tbody tr th {\n",
       "        vertical-align: top;\n",
       "    }\n",
       "\n",
       "    .dataframe thead th {\n",
       "        text-align: right;\n",
       "    }\n",
       "</style>\n",
       "<table border=\"1\" class=\"dataframe\">\n",
       "  <thead>\n",
       "    <tr style=\"text-align: right;\">\n",
       "      <th></th>\n",
       "      <th>Lease Length</th>\n",
       "      <th>minimum_lease</th>\n",
       "    </tr>\n",
       "  </thead>\n",
       "  <tbody>\n",
       "    <tr>\n",
       "      <th>5522</th>\n",
       "      <td>NaN</td>\n",
       "      <td>12</td>\n",
       "    </tr>\n",
       "    <tr>\n",
       "      <th>5523</th>\n",
       "      <td>NaN</td>\n",
       "      <td>12</td>\n",
       "    </tr>\n",
       "    <tr>\n",
       "      <th>5524</th>\n",
       "      <td>NaN</td>\n",
       "      <td>12</td>\n",
       "    </tr>\n",
       "    <tr>\n",
       "      <th>5525</th>\n",
       "      <td>NaN</td>\n",
       "      <td>12</td>\n",
       "    </tr>\n",
       "    <tr>\n",
       "      <th>5526</th>\n",
       "      <td>NaN</td>\n",
       "      <td>12</td>\n",
       "    </tr>\n",
       "    <tr>\n",
       "      <th>...</th>\n",
       "      <td>...</td>\n",
       "      <td>...</td>\n",
       "    </tr>\n",
       "    <tr>\n",
       "      <th>8421</th>\n",
       "      <td>NaN</td>\n",
       "      <td>12</td>\n",
       "    </tr>\n",
       "    <tr>\n",
       "      <th>8422</th>\n",
       "      <td>NaN</td>\n",
       "      <td>12</td>\n",
       "    </tr>\n",
       "    <tr>\n",
       "      <th>8423</th>\n",
       "      <td>NaN</td>\n",
       "      <td>12</td>\n",
       "    </tr>\n",
       "    <tr>\n",
       "      <th>8424</th>\n",
       "      <td>NaN</td>\n",
       "      <td>12</td>\n",
       "    </tr>\n",
       "    <tr>\n",
       "      <th>8425</th>\n",
       "      <td>NaN</td>\n",
       "      <td>12</td>\n",
       "    </tr>\n",
       "  </tbody>\n",
       "</table>\n",
       "<p>2904 rows × 2 columns</p>\n",
       "</div>"
      ],
      "text/plain": [
       "     Lease Length  minimum_lease\n",
       "5522          NaN             12\n",
       "5523          NaN             12\n",
       "5524          NaN             12\n",
       "5525          NaN             12\n",
       "5526          NaN             12\n",
       "...           ...            ...\n",
       "8421          NaN             12\n",
       "8422          NaN             12\n",
       "8423          NaN             12\n",
       "8424          NaN             12\n",
       "8425          NaN             12\n",
       "\n",
       "[2904 rows x 2 columns]"
      ]
     },
     "execution_count": 146,
     "metadata": {},
     "output_type": "execute_result"
    }
   ],
   "source": [
    "data_5[data_5['Lease Length'].isnull()][['Lease Length','minimum_lease']]"
   ]
  },
  {
   "cell_type": "markdown",
   "metadata": {},
   "source": [
    "#### Pet Policy"
   ]
  },
  {
   "cell_type": "code",
   "execution_count": 418,
   "metadata": {},
   "outputs": [],
   "source": [
    "path = '/Users/ivylai/Desktop/Galvanize/apt_scrapper/pt_info.xlsx'\n",
    "pd.DataFrame(data_5['Pet Policy'].unique()).to_excel(excel_writer = path)"
   ]
  },
  {
   "cell_type": "code",
   "execution_count": 147,
   "metadata": {},
   "outputs": [
    {
     "data": {
      "text/html": [
       "<div>\n",
       "<style scoped>\n",
       "    .dataframe tbody tr th:only-of-type {\n",
       "        vertical-align: middle;\n",
       "    }\n",
       "\n",
       "    .dataframe tbody tr th {\n",
       "        vertical-align: top;\n",
       "    }\n",
       "\n",
       "    .dataframe thead th {\n",
       "        text-align: right;\n",
       "    }\n",
       "</style>\n",
       "<table border=\"1\" class=\"dataframe\">\n",
       "  <thead>\n",
       "    <tr style=\"text-align: right;\">\n",
       "      <th></th>\n",
       "      <th>Pet Policy</th>\n",
       "      <th>allow_pet</th>\n",
       "    </tr>\n",
       "  </thead>\n",
       "  <tbody>\n",
       "    <tr>\n",
       "      <th>0</th>\n",
       "      <td>Dogs and Cats Allowed:\\n•Restrictions: We welc...</td>\n",
       "      <td>1</td>\n",
       "    </tr>\n",
       "    <tr>\n",
       "      <th>1</th>\n",
       "      <td>Dogs and Cats Allowed:\\n•Restrictions: We welc...</td>\n",
       "      <td>1</td>\n",
       "    </tr>\n",
       "    <tr>\n",
       "      <th>2</th>\n",
       "      <td>Dogs and Cats Allowed:\\n•Restrictions: We welc...</td>\n",
       "      <td>1</td>\n",
       "    </tr>\n",
       "    <tr>\n",
       "      <th>3</th>\n",
       "      <td>Dogs and Cats Allowed:\\n•Restrictions: We welc...</td>\n",
       "      <td>1</td>\n",
       "    </tr>\n",
       "    <tr>\n",
       "      <th>4</th>\n",
       "      <td>Dogs and Cats Allowed:\\n•Restrictions: Contact...</td>\n",
       "      <td>1</td>\n",
       "    </tr>\n",
       "    <tr>\n",
       "      <th>...</th>\n",
       "      <td>...</td>\n",
       "      <td>...</td>\n",
       "    </tr>\n",
       "    <tr>\n",
       "      <th>1576</th>\n",
       "      <td>Dogs Allowed\\n•Comments: Under 25lbs •$500 Dep...</td>\n",
       "      <td>1</td>\n",
       "    </tr>\n",
       "    <tr>\n",
       "      <th>1577</th>\n",
       "      <td>Dogs and Cats Allowed:\\n•Restrictions: We are ...</td>\n",
       "      <td>1</td>\n",
       "    </tr>\n",
       "    <tr>\n",
       "      <th>1578</th>\n",
       "      <td>Pets NegotiableDogs and Cats Allowed\\n•$500 De...</td>\n",
       "      <td>1</td>\n",
       "    </tr>\n",
       "    <tr>\n",
       "      <th>1579</th>\n",
       "      <td>Dogs and Cats Allowed:\\n•Restrictions: There i...</td>\n",
       "      <td>1</td>\n",
       "    </tr>\n",
       "    <tr>\n",
       "      <th>1580</th>\n",
       "      <td>Dogs and Cats Allowed\\n•$350 Deposit\\n•$50 Mon...</td>\n",
       "      <td>1</td>\n",
       "    </tr>\n",
       "  </tbody>\n",
       "</table>\n",
       "<p>1581 rows × 2 columns</p>\n",
       "</div>"
      ],
      "text/plain": [
       "                                             Pet Policy  allow_pet\n",
       "0     Dogs and Cats Allowed:\\n•Restrictions: We welc...          1\n",
       "1     Dogs and Cats Allowed:\\n•Restrictions: We welc...          1\n",
       "2     Dogs and Cats Allowed:\\n•Restrictions: We welc...          1\n",
       "3     Dogs and Cats Allowed:\\n•Restrictions: We welc...          1\n",
       "4     Dogs and Cats Allowed:\\n•Restrictions: Contact...          1\n",
       "...                                                 ...        ...\n",
       "1576  Dogs Allowed\\n•Comments: Under 25lbs •$500 Dep...          1\n",
       "1577  Dogs and Cats Allowed:\\n•Restrictions: We are ...          1\n",
       "1578  Pets NegotiableDogs and Cats Allowed\\n•$500 De...          1\n",
       "1579  Dogs and Cats Allowed:\\n•Restrictions: There i...          1\n",
       "1580  Dogs and Cats Allowed\\n•$350 Deposit\\n•$50 Mon...          1\n",
       "\n",
       "[1581 rows x 2 columns]"
      ]
     },
     "execution_count": 147,
     "metadata": {},
     "output_type": "execute_result"
    }
   ],
   "source": [
    "path = '/Users/ivylai/Desktop/Galvanize/W08/CaliforniaRentalValueEstimation/data-cleaning/allow_pets.xlsx'\n",
    "allow_pets = pd.read_excel(path)\n",
    "\n",
    "allow_pets"
   ]
  },
  {
   "cell_type": "code",
   "execution_count": 148,
   "metadata": {},
   "outputs": [
    {
     "data": {
      "text/plain": [
       "1    13072\n",
       "0     2516\n",
       "Name: allow_pet, dtype: int64"
      ]
     },
     "execution_count": 148,
     "metadata": {},
     "output_type": "execute_result"
    }
   ],
   "source": [
    "data_6 = data_5.merge(allow_pets, on = 'Pet Policy')\n",
    "\n",
    "data_6.allow_pet.value_counts()"
   ]
  },
  {
   "cell_type": "markdown",
   "metadata": {},
   "source": [
    "#### Parking"
   ]
  },
  {
   "cell_type": "code",
   "execution_count": 149,
   "metadata": {},
   "outputs": [
    {
     "data": {
      "text/plain": [
       "Index(['url', 'property_name', 'city', 'rent_updated', 'bed', 'bath',\n",
       "       'sq_ft_updated', 'walkscore', 'Unique Features', 'Pet Policy',\n",
       "       'Parking', 'Property Information', 'Lease Length', 'Services',\n",
       "       'Interior', 'Fitness & Recreation', 'Features', 'Kitchen',\n",
       "       'Living Space', 'Security', 'Outdoor Space', 'rent_range',\n",
       "       'sq_ft_range', 'minimum_lease', 'allow_pet'],\n",
       "      dtype='object')"
      ]
     },
     "execution_count": 149,
     "metadata": {},
     "output_type": "execute_result"
    }
   ],
   "source": [
    "data_6.columns"
   ]
  },
  {
   "cell_type": "code",
   "execution_count": 150,
   "metadata": {},
   "outputs": [],
   "source": [
    "data_6 = data_6[['url', 'property_name', 'city', 'rent_updated', 'bed', 'bath',\n",
    "       'sq_ft_updated', 'walkscore', 'Unique Features', 'Pet Policy', \n",
    "       'allow_pet','Parking', 'Property Information', 'Lease Length', 'minimum_lease','Services',\n",
    "       'Interior', 'Fitness & Recreation', 'Features', 'Kitchen',\n",
    "       'Living Space', 'Security', 'Outdoor Space', 'rent_range', 'sq_ft_range']]"
   ]
  },
  {
   "cell_type": "code",
   "execution_count": 431,
   "metadata": {},
   "outputs": [],
   "source": [
    "path = '/Users/ivylai/Desktop/Galvanize/apt_scrapper/parking_info.xlsx'\n",
    "pd.DataFrame(data_5['Parking'].unique()).to_excel(excel_writer = path)"
   ]
  },
  {
   "cell_type": "code",
   "execution_count": 151,
   "metadata": {},
   "outputs": [
    {
     "data": {
      "text/html": [
       "<div>\n",
       "<style scoped>\n",
       "    .dataframe tbody tr th:only-of-type {\n",
       "        vertical-align: middle;\n",
       "    }\n",
       "\n",
       "    .dataframe tbody tr th {\n",
       "        vertical-align: top;\n",
       "    }\n",
       "\n",
       "    .dataframe thead th {\n",
       "        text-align: right;\n",
       "    }\n",
       "</style>\n",
       "<table border=\"1\" class=\"dataframe\">\n",
       "  <thead>\n",
       "    <tr style=\"text-align: right;\">\n",
       "      <th></th>\n",
       "      <th>Parking</th>\n",
       "      <th>surface_lot</th>\n",
       "      <th>garage</th>\n",
       "      <th>covered_carport</th>\n",
       "      <th>onsite_parking</th>\n",
       "    </tr>\n",
       "  </thead>\n",
       "  <tbody>\n",
       "    <tr>\n",
       "      <th>0</th>\n",
       "      <td>GarageAssigned Parking. One complimentary assi...</td>\n",
       "      <td>0</td>\n",
       "      <td>1</td>\n",
       "      <td>0</td>\n",
       "      <td>1</td>\n",
       "    </tr>\n",
       "    <tr>\n",
       "      <th>1</th>\n",
       "      <td>Garage1 space; Assigned Parking. \\n  \\n OtherP...</td>\n",
       "      <td>0</td>\n",
       "      <td>1</td>\n",
       "      <td>0</td>\n",
       "      <td>1</td>\n",
       "    </tr>\n",
       "    <tr>\n",
       "      <th>2</th>\n",
       "      <td>OtherOne reserved parking space per apartment ...</td>\n",
       "      <td>0</td>\n",
       "      <td>0</td>\n",
       "      <td>0</td>\n",
       "      <td>0</td>\n",
       "    </tr>\n",
       "    <tr>\n",
       "      <th>3</th>\n",
       "      <td>Surface Lot1 space. \\n  \\n Garage: $951 space;...</td>\n",
       "      <td>1</td>\n",
       "      <td>1</td>\n",
       "      <td>0</td>\n",
       "      <td>1</td>\n",
       "    </tr>\n",
       "    <tr>\n",
       "      <th>4</th>\n",
       "      <td>Surface Lot1 space; Assigned Parking. \\n  \\n C...</td>\n",
       "      <td>1</td>\n",
       "      <td>0</td>\n",
       "      <td>1</td>\n",
       "      <td>1</td>\n",
       "    </tr>\n",
       "    <tr>\n",
       "      <th>...</th>\n",
       "      <td>...</td>\n",
       "      <td>...</td>\n",
       "      <td>...</td>\n",
       "      <td>...</td>\n",
       "      <td>...</td>\n",
       "    </tr>\n",
       "    <tr>\n",
       "      <th>1337</th>\n",
       "      <td>Surface Lot: $25Assigned Parking. \\n  \\n Cover...</td>\n",
       "      <td>1</td>\n",
       "      <td>1</td>\n",
       "      <td>1</td>\n",
       "      <td>1</td>\n",
       "    </tr>\n",
       "    <tr>\n",
       "      <th>1338</th>\n",
       "      <td>Surface Lot: $10\\n Garage: $35Please call our ...</td>\n",
       "      <td>1</td>\n",
       "      <td>1</td>\n",
       "      <td>0</td>\n",
       "      <td>1</td>\n",
       "    </tr>\n",
       "    <tr>\n",
       "      <th>1339</th>\n",
       "      <td>Garage2 spaces; Assigned Parking. and tandem s...</td>\n",
       "      <td>0</td>\n",
       "      <td>1</td>\n",
       "      <td>0</td>\n",
       "      <td>1</td>\n",
       "    </tr>\n",
       "    <tr>\n",
       "      <th>1340</th>\n",
       "      <td>Garage1 space. Must use garage for vehicle and...</td>\n",
       "      <td>0</td>\n",
       "      <td>1</td>\n",
       "      <td>0</td>\n",
       "      <td>1</td>\n",
       "    </tr>\n",
       "    <tr>\n",
       "      <th>1341</th>\n",
       "      <td>Surface LotOpen Lot</td>\n",
       "      <td>1</td>\n",
       "      <td>0</td>\n",
       "      <td>0</td>\n",
       "      <td>1</td>\n",
       "    </tr>\n",
       "  </tbody>\n",
       "</table>\n",
       "<p>1342 rows × 5 columns</p>\n",
       "</div>"
      ],
      "text/plain": [
       "                                                Parking  surface_lot  garage  \\\n",
       "0     GarageAssigned Parking. One complimentary assi...            0       1   \n",
       "1     Garage1 space; Assigned Parking. \\n  \\n OtherP...            0       1   \n",
       "2     OtherOne reserved parking space per apartment ...            0       0   \n",
       "3     Surface Lot1 space. \\n  \\n Garage: $951 space;...            1       1   \n",
       "4     Surface Lot1 space; Assigned Parking. \\n  \\n C...            1       0   \n",
       "...                                                 ...          ...     ...   \n",
       "1337  Surface Lot: $25Assigned Parking. \\n  \\n Cover...            1       1   \n",
       "1338  Surface Lot: $10\\n Garage: $35Please call our ...            1       1   \n",
       "1339  Garage2 spaces; Assigned Parking. and tandem s...            0       1   \n",
       "1340  Garage1 space. Must use garage for vehicle and...            0       1   \n",
       "1341                                Surface LotOpen Lot            1       0   \n",
       "\n",
       "      covered_carport  onsite_parking  \n",
       "0                   0               1  \n",
       "1                   0               1  \n",
       "2                   0               0  \n",
       "3                   0               1  \n",
       "4                   1               1  \n",
       "...               ...             ...  \n",
       "1337                1               1  \n",
       "1338                0               1  \n",
       "1339                0               1  \n",
       "1340                0               1  \n",
       "1341                0               1  \n",
       "\n",
       "[1342 rows x 5 columns]"
      ]
     },
     "execution_count": 151,
     "metadata": {},
     "output_type": "execute_result"
    }
   ],
   "source": [
    "path = '/Users/ivylai/Desktop/Galvanize/W08/CaliforniaRentalValueEstimation/data-cleaning/parking_info.xlsx'\n",
    "parking_info = pd.read_excel(path)\n",
    "\n",
    "parking_info"
   ]
  },
  {
   "cell_type": "code",
   "execution_count": 152,
   "metadata": {},
   "outputs": [
    {
     "data": {
      "text/plain": [
       "1    11973\n",
       "0     3615\n",
       "Name: onsite_parking, dtype: int64"
      ]
     },
     "execution_count": 152,
     "metadata": {},
     "output_type": "execute_result"
    }
   ],
   "source": [
    "data_7 = data_6.merge(parking_info, on = 'Parking')\n",
    "\n",
    "data_7['onsite_parking'].value_counts()"
   ]
  },
  {
   "cell_type": "code",
   "execution_count": 54,
   "metadata": {},
   "outputs": [
    {
     "data": {
      "text/plain": [
       "Index(['url', 'property_name', 'city', 'rent_updated', 'bed', 'bath',\n",
       "       'sq_ft_updated', 'walkscore', 'Unique Features', 'Pet Policy',\n",
       "       'allow_pet', 'Parking', 'Property Information', 'Lease Length',\n",
       "       'minimum_lease', 'Services', 'Interior', 'Fitness & Recreation',\n",
       "       'Features', 'Kitchen', 'Living Space', 'Security', 'Outdoor Space',\n",
       "       'surface_lot', 'garage', 'covered_carport', 'onsite_parking'],\n",
       "      dtype='object')"
      ]
     },
     "execution_count": 54,
     "metadata": {},
     "output_type": "execute_result"
    }
   ],
   "source": [
    "data_7.columns"
   ]
  },
  {
   "cell_type": "code",
   "execution_count": 153,
   "metadata": {},
   "outputs": [],
   "source": [
    "data_7 = data_7[['url', 'property_name', 'city', 'rent_updated', 'bed', 'bath',\n",
    "       'sq_ft_updated', 'walkscore', 'Unique Features', 'Pet Policy',\n",
    "       'allow_pet', 'Parking',\n",
    "       'surface_lot', 'garage', 'covered_carport', 'onsite_parking', 'Property Information', 'Lease Length',\n",
    "       'minimum_lease', 'Services', 'Interior', 'Fitness & Recreation',\n",
    "       'Features', 'Kitchen', 'Living Space', 'Security', 'Outdoor Space', 'rent_range', 'sq_ft_range']]"
   ]
  },
  {
   "cell_type": "code",
   "execution_count": 154,
   "metadata": {},
   "outputs": [
    {
     "name": "stdout",
     "output_type": "stream",
     "text": [
      "<class 'pandas.core.frame.DataFrame'>\n",
      "Int64Index: 15588 entries, 0 to 15587\n",
      "Data columns (total 29 columns):\n",
      " #   Column                Non-Null Count  Dtype  \n",
      "---  ------                --------------  -----  \n",
      " 0   url                   15588 non-null  object \n",
      " 1   property_name         15588 non-null  object \n",
      " 2   city                  15588 non-null  object \n",
      " 3   rent_updated          15588 non-null  float64\n",
      " 4   bed                   15588 non-null  object \n",
      " 5   bath                  15588 non-null  object \n",
      " 6   sq_ft_updated         15588 non-null  float64\n",
      " 7   walkscore             15588 non-null  object \n",
      " 8   Unique Features       12986 non-null  object \n",
      " 9   Pet Policy            14615 non-null  object \n",
      " 10  allow_pet             15588 non-null  int64  \n",
      " 11  Parking               13537 non-null  object \n",
      " 12  surface_lot           15588 non-null  int64  \n",
      " 13  garage                15588 non-null  int64  \n",
      " 14  covered_carport       15588 non-null  int64  \n",
      " 15  onsite_parking        15588 non-null  int64  \n",
      " 16  Property Information  14593 non-null  object \n",
      " 17  Lease Length          12684 non-null  object \n",
      " 18  minimum_lease         15588 non-null  int64  \n",
      " 19  Services              13014 non-null  object \n",
      " 20  Interior              12056 non-null  object \n",
      " 21  Fitness & Recreation  13216 non-null  object \n",
      " 22  Features              14865 non-null  object \n",
      " 23  Kitchen               14101 non-null  object \n",
      " 24  Living Space          13138 non-null  object \n",
      " 25  Security              11063 non-null  object \n",
      " 26  Outdoor Space         13413 non-null  object \n",
      " 27  rent_range            15588 non-null  int64  \n",
      " 28  sq_ft_range           15588 non-null  int64  \n",
      "dtypes: float64(2), int64(8), object(19)\n",
      "memory usage: 3.6+ MB\n"
     ]
    }
   ],
   "source": [
    "data_7.info()"
   ]
  },
  {
   "cell_type": "markdown",
   "metadata": {},
   "source": [
    "#### Bed & Bath"
   ]
  },
  {
   "cell_type": "code",
   "execution_count": 57,
   "metadata": {},
   "outputs": [
    {
     "data": {
      "text/plain": [
       "2 beds    6375\n",
       "1 bed     5908\n",
       "Studio    1625\n",
       "3 beds    1382\n",
       "4 beds     221\n",
       "5 beds      62\n",
       "6 beds      14\n",
       "7 beds       1\n",
       "Name: bed, dtype: int64"
      ]
     },
     "execution_count": 57,
     "metadata": {},
     "output_type": "execute_result"
    }
   ],
   "source": [
    "data_7.bed.value_counts()"
   ]
  },
  {
   "cell_type": "code",
   "execution_count": 155,
   "metadata": {},
   "outputs": [
    {
     "data": {
      "text/plain": [
       "bed     n_bed\n",
       "2 beds  2        6375\n",
       "1 bed   1        5908\n",
       "Studio  0        1625\n",
       "3 beds  3        1382\n",
       "4 beds  4         221\n",
       "5 beds  5          62\n",
       "6 beds  6          14\n",
       "7 beds  7           1\n",
       "dtype: int64"
      ]
     },
     "execution_count": 155,
     "metadata": {},
     "output_type": "execute_result"
    }
   ],
   "source": [
    "data_7['n_bed'] = data_7['bed'].transform(lambda x: 0 if str(x) == 'Studio' else int(str(x)[0]))\n",
    "data_7[['bed','n_bed']].value_counts()"
   ]
  },
  {
   "cell_type": "code",
   "execution_count": 59,
   "metadata": {},
   "outputs": [
    {
     "data": {
      "text/plain": [
       "1 bath        8626\n",
       "2 baths       5629\n",
       "2.5 baths      464\n",
       "1.5 baths      411\n",
       "3 baths        328\n",
       "3.5 baths       51\n",
       "4 baths         45\n",
       "5 baths         11\n",
       "4.5 baths        9\n",
       "5.5 baths        4\n",
       "1.25 baths       3\n",
       "0.5 bath         3\n",
       "1.75 baths       2\n",
       "6 baths          1\n",
       "2.75 baths       1\n",
       "Name: bath, dtype: int64"
      ]
     },
     "execution_count": 59,
     "metadata": {},
     "output_type": "execute_result"
    }
   ],
   "source": [
    "data_7.bath.value_counts()"
   ]
  },
  {
   "cell_type": "code",
   "execution_count": 156,
   "metadata": {},
   "outputs": [
    {
     "data": {
      "text/plain": [
       "bath        n_bath\n",
       "1 bath      1.00      8626\n",
       "2 baths     2.00      5629\n",
       "2.5 baths   2.50       464\n",
       "1.5 baths   1.50       411\n",
       "3 baths     3.00       328\n",
       "3.5 baths   3.50        51\n",
       "4 baths     4.00        45\n",
       "5 baths     5.00        11\n",
       "4.5 baths   4.50         9\n",
       "5.5 baths   5.50         4\n",
       "1.25 baths  1.25         3\n",
       "0.5 bath    0.50         3\n",
       "1.75 baths  1.75         2\n",
       "6 baths     6.00         1\n",
       "2.75 baths  2.75         1\n",
       "dtype: int64"
      ]
     },
     "execution_count": 156,
     "metadata": {},
     "output_type": "execute_result"
    }
   ],
   "source": [
    "data_7['n_bath'] = data_7['bath'].transform(lambda x: float(str(x).replace(\" bath\", \"\").replace(\"s\", \"\")))\n",
    "data_7[['bath','n_bath']].value_counts()"
   ]
  },
  {
   "cell_type": "markdown",
   "metadata": {},
   "source": [
    "#### Pool & Fitness Center"
   ]
  },
  {
   "cell_type": "code",
   "execution_count": 157,
   "metadata": {},
   "outputs": [],
   "source": [
    "data_7['pool'] = data_7['Fitness & Recreation'].apply(lambda x: 1 if 'Pool' in str(x) else 0)\n",
    "data_7['fitness_center'] = data_7['Fitness & Recreation'].apply(lambda x: 1 if 'Fitness Center' in str(x) else 0)"
   ]
  },
  {
   "cell_type": "code",
   "execution_count": 62,
   "metadata": {},
   "outputs": [
    {
     "data": {
      "text/plain": [
       "1    10741\n",
       "0     4847\n",
       "Name: fitness_center, dtype: int64"
      ]
     },
     "execution_count": 62,
     "metadata": {},
     "output_type": "execute_result"
    }
   ],
   "source": [
    "data_7['fitness_center'].value_counts()"
   ]
  },
  {
   "cell_type": "markdown",
   "metadata": {},
   "source": [
    "#### Interior"
   ]
  },
  {
   "cell_type": "code",
   "execution_count": 158,
   "metadata": {},
   "outputs": [],
   "source": [
    "data_7['elevator'] = data_7['Interior'].apply(lambda x: 1 if 'Elevator' in str(x) else 0)"
   ]
  },
  {
   "cell_type": "code",
   "execution_count": 64,
   "metadata": {},
   "outputs": [
    {
     "data": {
      "text/plain": [
       "0    8718\n",
       "1    6870\n",
       "Name: elevator, dtype: int64"
      ]
     },
     "execution_count": 64,
     "metadata": {},
     "output_type": "execute_result"
    }
   ],
   "source": [
    "data_7['elevator'].value_counts()"
   ]
  },
  {
   "cell_type": "markdown",
   "metadata": {},
   "source": [
    "#### Kitchen"
   ]
  },
  {
   "cell_type": "code",
   "execution_count": 159,
   "metadata": {},
   "outputs": [],
   "source": [
    "data_7['kitchen_features'] = data_7['Kitchen'].apply(lambda x: str(x).count('•'))"
   ]
  },
  {
   "cell_type": "code",
   "execution_count": 66,
   "metadata": {},
   "outputs": [
    {
     "data": {
      "text/plain": [
       "0     1487\n",
       "4     1316\n",
       "9     1290\n",
       "10    1274\n",
       "1     1125\n",
       "8     1101\n",
       "7     1040\n",
       "11    1002\n",
       "12     983\n",
       "3      959\n",
       "6      949\n",
       "5      920\n",
       "2      836\n",
       "13     691\n",
       "14     385\n",
       "15     119\n",
       "16      81\n",
       "17      26\n",
       "18       4\n",
       "Name: kitchen_features, dtype: int64"
      ]
     },
     "execution_count": 66,
     "metadata": {},
     "output_type": "execute_result"
    }
   ],
   "source": [
    "data_7['kitchen_features'].value_counts()"
   ]
  },
  {
   "cell_type": "markdown",
   "metadata": {},
   "source": [
    "#### Security"
   ]
  },
  {
   "cell_type": "code",
   "execution_count": 160,
   "metadata": {},
   "outputs": [],
   "source": [
    "data_7['security_system'] = 1\n",
    "data_7['security_system'][data_7['Security'].isnull()] = 0"
   ]
  },
  {
   "cell_type": "code",
   "execution_count": 68,
   "metadata": {},
   "outputs": [
    {
     "data": {
      "text/plain": [
       "1    11063\n",
       "0     4525\n",
       "Name: security_system, dtype: int64"
      ]
     },
     "execution_count": 68,
     "metadata": {},
     "output_type": "execute_result"
    }
   ],
   "source": [
    "data_7['security_system'].value_counts()"
   ]
  },
  {
   "cell_type": "markdown",
   "metadata": {},
   "source": [
    "#### Features"
   ]
  },
  {
   "cell_type": "code",
   "execution_count": 161,
   "metadata": {},
   "outputs": [
    {
     "data": {
      "text/plain": [
       "1    10432\n",
       "0     5156\n",
       "Name: washer_dryer, dtype: int64"
      ]
     },
     "execution_count": 161,
     "metadata": {},
     "output_type": "execute_result"
    }
   ],
   "source": [
    "# Washer/Dryer\n",
    "data_7['washer_dryer'] = data_7['Unique Features']\n",
    "data_7['washer_dryer'] = data_7['Features'].apply(lambda x: 1 if 'washer/dryer' in str(x).lower() else 0)\n",
    "data_7['washer_dryer'] = data_7['washer_dryer'].apply(lambda x: 1 if 'washer/dryer' in str(x).lower() else x)\n",
    "data_7.washer_dryer.value_counts()"
   ]
  },
  {
   "cell_type": "code",
   "execution_count": 162,
   "metadata": {},
   "outputs": [
    {
     "data": {
      "text/plain": [
       "1    10735\n",
       "0     4853\n",
       "Name: internet, dtype: int64"
      ]
     },
     "execution_count": 162,
     "metadata": {},
     "output_type": "execute_result"
    }
   ],
   "source": [
    "#High Speed Internet\n",
    "data_7['internet'] = data_7['Unique Features']\n",
    "data_7['internet'] = data_7['Features'].apply(lambda x: 1 if ('internet' or 'wifi' or 'wi-fi') in str(x).lower() else 0)\n",
    "data_7['internet'] = data_7['internet'].apply(lambda x: 1 if ('internet' or 'wifi' or 'wi-fi') in str(x).lower() else x)\n",
    "data_7.internet.value_counts()"
   ]
  },
  {
   "cell_type": "code",
   "execution_count": 163,
   "metadata": {},
   "outputs": [
    {
     "data": {
      "text/plain": [
       "1    9819\n",
       "0    5769\n",
       "Name: air_conditioning, dtype: int64"
      ]
     },
     "execution_count": 163,
     "metadata": {},
     "output_type": "execute_result"
    }
   ],
   "source": [
    "#Air Conditioning\n",
    "data_7['air_conditioning'] = data_7['Unique Features']\n",
    "data_7['air_conditioning'] = data_7['Features'].apply(lambda x: 1 if 'air conditioning' in str(x).lower() else 0)\n",
    "data_7['air_conditioning'] = data_7['air_conditioning'].apply(lambda x: 1 if 'air conditioning' in str(x).lower() else x)\n",
    "data_7.air_conditioning.value_counts()"
   ]
  },
  {
   "cell_type": "markdown",
   "metadata": {},
   "source": [
    "#### Furnished"
   ]
  },
  {
   "cell_type": "code",
   "execution_count": 164,
   "metadata": {},
   "outputs": [
    {
     "data": {
      "text/plain": [
       "0    14599\n",
       "1      989\n",
       "Name: furnished, dtype: int64"
      ]
     },
     "execution_count": 164,
     "metadata": {},
     "output_type": "execute_result"
    }
   ],
   "source": [
    "# From property info, services, living space\n",
    "data_7['furnished'] = data_7['Property Information']\n",
    "data_7['furnished'] = data_7['Living Space'].apply(lambda x: 1 if 'furnished' in str(x).lower() else 0)\n",
    "data_7['furnished'] = data_7['furnished'].apply(lambda x: 1 if 'furnished' in str(x).lower() else x)\n",
    "data_7.furnished.value_counts()"
   ]
  },
  {
   "cell_type": "markdown",
   "metadata": {},
   "source": [
    "#### Walkscore"
   ]
  },
  {
   "cell_type": "code",
   "execution_count": 165,
   "metadata": {},
   "outputs": [],
   "source": [
    "data_7['walkscore'] = data_7['walkscore'].apply(lambda x: int(x) if x != '-' else x)\n",
    "\n",
    "avg = np.mean(data_7['walkscore'][data_7['walkscore'] != '-'])\n",
    "\n",
    "data_7['walkscore'] = data_7['walkscore'].apply(lambda x: avg if x == '-' else x)"
   ]
  },
  {
   "cell_type": "code",
   "execution_count": 74,
   "metadata": {},
   "outputs": [
    {
     "data": {
      "text/plain": [
       "count    15588.000000\n",
       "mean        73.160990\n",
       "std         23.187239\n",
       "min          0.000000\n",
       "25%         58.000000\n",
       "50%         79.000000\n",
       "75%         93.000000\n",
       "max        100.000000\n",
       "Name: walkscore, dtype: float64"
      ]
     },
     "execution_count": 74,
     "metadata": {},
     "output_type": "execute_result"
    }
   ],
   "source": [
    "data_7['walkscore'].describe()"
   ]
  },
  {
   "cell_type": "markdown",
   "metadata": {},
   "source": [
    "## Export Clean Data"
   ]
  },
  {
   "cell_type": "code",
   "execution_count": 166,
   "metadata": {},
   "outputs": [
    {
     "data": {
      "text/plain": [
       "Index(['url', 'property_name', 'city', 'rent_updated', 'bed', 'bath',\n",
       "       'sq_ft_updated', 'walkscore', 'Unique Features', 'Pet Policy',\n",
       "       'allow_pet', 'Parking', 'surface_lot', 'garage', 'covered_carport',\n",
       "       'onsite_parking', 'Property Information', 'Lease Length',\n",
       "       'minimum_lease', 'Services', 'Interior', 'Fitness & Recreation',\n",
       "       'Features', 'Kitchen', 'Living Space', 'Security', 'Outdoor Space',\n",
       "       'rent_range', 'sq_ft_range', 'n_bed', 'n_bath', 'pool',\n",
       "       'fitness_center', 'elevator', 'kitchen_features', 'security_system',\n",
       "       'washer_dryer', 'internet', 'air_conditioning', 'furnished'],\n",
       "      dtype='object')"
      ]
     },
     "execution_count": 166,
     "metadata": {},
     "output_type": "execute_result"
    }
   ],
   "source": [
    "data_7.columns"
   ]
  },
  {
   "cell_type": "code",
   "execution_count": 167,
   "metadata": {},
   "outputs": [],
   "source": [
    "clean_data = data_7[['url', 'property_name', 'city', 'rent_updated', 'n_bed','n_bath',\n",
    "       'sq_ft_updated', 'walkscore', \n",
    "       'allow_pet', \n",
    "       'minimum_lease', \n",
    "      'onsite_parking', \n",
    "        'pool', 'fitness_center', 'elevator', 'kitchen_features',\n",
    "       'security_system', 'washer_dryer', 'internet', 'air_conditioning',\n",
    "       'furnished', 'rent_range', 'sq_ft_range']]"
   ]
  },
  {
   "cell_type": "code",
   "execution_count": 168,
   "metadata": {},
   "outputs": [],
   "source": [
    "clean_data_exact = data_7[['url', 'property_name', 'city', 'rent_updated', 'n_bed','n_bath',\n",
    "       'sq_ft_updated', 'walkscore', \n",
    "       'allow_pet', \n",
    "       'minimum_lease', \n",
    "      'onsite_parking', \n",
    "        'pool', 'fitness_center', 'elevator', 'kitchen_features',\n",
    "       'security_system', 'washer_dryer', 'internet', 'air_conditioning',\n",
    "       'furnished', 'rent_range', 'sq_ft_range']][(data_7['rent_range'] == 0) & (data_7['sq_ft_range'] == 0)]"
   ]
  },
  {
   "cell_type": "code",
   "execution_count": 169,
   "metadata": {},
   "outputs": [
    {
     "name": "stdout",
     "output_type": "stream",
     "text": [
      "<class 'pandas.core.frame.DataFrame'>\n",
      "Int64Index: 7122 entries, 0 to 15579\n",
      "Data columns (total 22 columns):\n",
      " #   Column            Non-Null Count  Dtype  \n",
      "---  ------            --------------  -----  \n",
      " 0   url               7122 non-null   object \n",
      " 1   property_name     7122 non-null   object \n",
      " 2   city              7122 non-null   object \n",
      " 3   rent_updated      7122 non-null   float64\n",
      " 4   n_bed             7122 non-null   int64  \n",
      " 5   n_bath            7122 non-null   float64\n",
      " 6   sq_ft_updated     7122 non-null   float64\n",
      " 7   walkscore         7122 non-null   float64\n",
      " 8   allow_pet         7122 non-null   int64  \n",
      " 9   minimum_lease     7122 non-null   int64  \n",
      " 10  onsite_parking    7122 non-null   int64  \n",
      " 11  pool              7122 non-null   int64  \n",
      " 12  fitness_center    7122 non-null   int64  \n",
      " 13  elevator          7122 non-null   int64  \n",
      " 14  kitchen_features  7122 non-null   int64  \n",
      " 15  security_system   7122 non-null   int64  \n",
      " 16  washer_dryer      7122 non-null   int64  \n",
      " 17  internet          7122 non-null   int64  \n",
      " 18  air_conditioning  7122 non-null   int64  \n",
      " 19  furnished         7122 non-null   int64  \n",
      " 20  rent_range        7122 non-null   int64  \n",
      " 21  sq_ft_range       7122 non-null   int64  \n",
      "dtypes: float64(4), int64(15), object(3)\n",
      "memory usage: 1.2+ MB\n"
     ]
    }
   ],
   "source": [
    "clean_data_exact.info()"
   ]
  },
  {
   "cell_type": "code",
   "execution_count": 77,
   "metadata": {},
   "outputs": [
    {
     "name": "stdout",
     "output_type": "stream",
     "text": [
      "<class 'pandas.core.frame.DataFrame'>\n",
      "Int64Index: 15588 entries, 0 to 15587\n",
      "Data columns (total 20 columns):\n",
      " #   Column            Non-Null Count  Dtype  \n",
      "---  ------            --------------  -----  \n",
      " 0   url               15588 non-null  object \n",
      " 1   property_name     15588 non-null  object \n",
      " 2   city              15588 non-null  object \n",
      " 3   rent_updated      15588 non-null  float64\n",
      " 4   n_bed             15588 non-null  int64  \n",
      " 5   n_bath            15588 non-null  float64\n",
      " 6   sq_ft_updated     15588 non-null  float64\n",
      " 7   walkscore         15588 non-null  float64\n",
      " 8   allow_pet         15588 non-null  int64  \n",
      " 9   minimum_lease     15588 non-null  int64  \n",
      " 10  onsite_parking    15588 non-null  int64  \n",
      " 11  pool              15588 non-null  int64  \n",
      " 12  fitness_center    15588 non-null  int64  \n",
      " 13  elevator          15588 non-null  int64  \n",
      " 14  kitchen_features  15588 non-null  int64  \n",
      " 15  security_system   15588 non-null  int64  \n",
      " 16  washer_dryer      15588 non-null  int64  \n",
      " 17  internet          15588 non-null  int64  \n",
      " 18  air_conditioning  15588 non-null  int64  \n",
      " 19  furnished         15588 non-null  int64  \n",
      "dtypes: float64(4), int64(13), object(3)\n",
      "memory usage: 2.5+ MB\n"
     ]
    }
   ],
   "source": [
    "clean_data.info()"
   ]
  },
  {
   "cell_type": "code",
   "execution_count": 80,
   "metadata": {},
   "outputs": [],
   "source": [
    "path = '/Users/ivylai/Desktop/Galvanize/clean_apt_data.csv'\n",
    "clean_data.to_csv(path)"
   ]
  },
  {
   "cell_type": "code",
   "execution_count": 171,
   "metadata": {},
   "outputs": [],
   "source": [
    "path = '/Users/ivylai/Desktop/Galvanize/clean_apt_data_norange.csv'\n",
    "clean_data_exact.to_csv(path)"
   ]
  }
 ],
 "metadata": {
  "kernelspec": {
   "display_name": "Python 3",
   "language": "python",
   "name": "python3"
  },
  "language_info": {
   "codemirror_mode": {
    "name": "ipython",
    "version": 3
   },
   "file_extension": ".py",
   "mimetype": "text/x-python",
   "name": "python",
   "nbconvert_exporter": "python",
   "pygments_lexer": "ipython3",
   "version": "3.8.5"
  }
 },
 "nbformat": 4,
 "nbformat_minor": 4
}
