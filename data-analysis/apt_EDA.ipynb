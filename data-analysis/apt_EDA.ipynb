{
 "cells": [
  {
   "cell_type": "code",
   "execution_count": 348,
   "metadata": {},
   "outputs": [],
   "source": [
    "import pandas as pd\n",
    "import numpy as np\n",
    "import matplotlib.pyplot as plt\n",
    "import seaborn as sns\n",
    "import requests\n",
    "from bs4 import BeautifulSoup as soup\n",
    "import json\n",
    "import time\n",
    "\n",
    "from sklearn.linear_model import LinearRegression, Ridge, RidgeCV\n",
    "from sklearn.model_selection import train_test_split, KFold, GridSearchCV\n",
    "from sklearn.metrics import mean_squared_error\n",
    "from sklearn.preprocessing import StandardScaler\n",
    "from sklearn.tree import DecisionTreeRegressor\n",
    "from sklearn.ensemble import RandomForestRegressor\n",
    "from sklearn.ensemble import GradientBoostingRegressor\n",
    "\n",
    "import statsmodels.api as sm\n",
    "import statsmodels.formula.api as smf\n",
    "\n",
    "import warnings\n",
    "warnings.filterwarnings('ignore')\n",
    "\n",
    "plt.style.use('ggplot')"
   ]
  },
  {
   "cell_type": "code",
   "execution_count": 38,
   "metadata": {},
   "outputs": [],
   "source": [
    "path = '/Users/ivylai/Desktop/Galvanize/clean_apt_data.csv'\n",
    "data = pd.read_csv(path)"
   ]
  },
  {
   "cell_type": "code",
   "execution_count": 108,
   "metadata": {},
   "outputs": [],
   "source": [
    "path = '/Users/ivylai/Desktop/Galvanize/clean_apt_data_norange.csv'\n",
    "data_norange = pd.read_csv(path)"
   ]
  },
  {
   "cell_type": "code",
   "execution_count": 109,
   "metadata": {},
   "outputs": [
    {
     "name": "stdout",
     "output_type": "stream",
     "text": [
      "<class 'pandas.core.frame.DataFrame'>\n",
      "RangeIndex: 7122 entries, 0 to 7121\n",
      "Data columns (total 20 columns):\n",
      " #   Column            Non-Null Count  Dtype  \n",
      "---  ------            --------------  -----  \n",
      " 0   url               7122 non-null   object \n",
      " 1   property_name     7122 non-null   object \n",
      " 2   city              7122 non-null   object \n",
      " 3   rent_updated      7122 non-null   float64\n",
      " 4   n_bed             7122 non-null   int64  \n",
      " 5   n_bath            7122 non-null   float64\n",
      " 6   sq_ft_updated     7122 non-null   float64\n",
      " 7   walkscore         7122 non-null   float64\n",
      " 8   allow_pet         7122 non-null   int64  \n",
      " 9   minimum_lease     7122 non-null   int64  \n",
      " 10  onsite_parking    7122 non-null   int64  \n",
      " 11  pool              7122 non-null   int64  \n",
      " 12  fitness_center    7122 non-null   int64  \n",
      " 13  elevator          7122 non-null   int64  \n",
      " 14  kitchen_features  7122 non-null   int64  \n",
      " 15  security_system   7122 non-null   int64  \n",
      " 16  washer_dryer      7122 non-null   int64  \n",
      " 17  internet          7122 non-null   int64  \n",
      " 18  air_conditioning  7122 non-null   int64  \n",
      " 19  furnished         7122 non-null   int64  \n",
      "dtypes: float64(4), int64(13), object(3)\n",
      "memory usage: 1.1+ MB\n"
     ]
    }
   ],
   "source": [
    "# data_norange.drop(columns = ['Unnamed: 0','rent_range','sq_ft_range'], inplace = True)\n",
    "data_norange.info()"
   ]
  },
  {
   "cell_type": "code",
   "execution_count": 111,
   "metadata": {},
   "outputs": [
    {
     "data": {
      "text/plain": [
       "count     7122.000000\n",
       "mean      3083.947065\n",
       "std       2118.194388\n",
       "min        500.000000\n",
       "25%       2030.750000\n",
       "50%       2725.000000\n",
       "75%       3550.000000\n",
       "max      65000.000000\n",
       "Name: rent_updated, dtype: float64"
      ]
     },
     "execution_count": 111,
     "metadata": {},
     "output_type": "execute_result"
    }
   ],
   "source": [
    "data_norange.rent_updated.describe()"
   ]
  },
  {
   "cell_type": "code",
   "execution_count": 112,
   "metadata": {},
   "outputs": [
    {
     "name": "stdout",
     "output_type": "stream",
     "text": [
      "4176.0\n",
      "1370.0\n"
     ]
    }
   ],
   "source": [
    "print(np.percentile(data_norange.rent_updated, 85))\n",
    "print(np.percentile(data_norange.rent_updated, 5))"
   ]
  },
  {
   "cell_type": "code",
   "execution_count": 39,
   "metadata": {},
   "outputs": [
    {
     "name": "stdout",
     "output_type": "stream",
     "text": [
      "<class 'pandas.core.frame.DataFrame'>\n",
      "RangeIndex: 15588 entries, 0 to 15587\n",
      "Data columns (total 20 columns):\n",
      " #   Column            Non-Null Count  Dtype  \n",
      "---  ------            --------------  -----  \n",
      " 0   url               15588 non-null  object \n",
      " 1   property_name     15588 non-null  object \n",
      " 2   city              15588 non-null  object \n",
      " 3   rent_updated      15588 non-null  float64\n",
      " 4   n_bed             15588 non-null  int64  \n",
      " 5   n_bath            15588 non-null  float64\n",
      " 6   sq_ft_updated     15588 non-null  float64\n",
      " 7   walkscore         15588 non-null  float64\n",
      " 8   allow_pet         15588 non-null  int64  \n",
      " 9   minimum_lease     15588 non-null  int64  \n",
      " 10  onsite_parking    15588 non-null  int64  \n",
      " 11  pool              15588 non-null  int64  \n",
      " 12  fitness_center    15588 non-null  int64  \n",
      " 13  elevator          15588 non-null  int64  \n",
      " 14  kitchen_features  15588 non-null  int64  \n",
      " 15  security_system   15588 non-null  int64  \n",
      " 16  washer_dryer      15588 non-null  int64  \n",
      " 17  internet          15588 non-null  int64  \n",
      " 18  air_conditioning  15588 non-null  int64  \n",
      " 19  furnished         15588 non-null  int64  \n",
      "dtypes: float64(4), int64(13), object(3)\n",
      "memory usage: 2.4+ MB\n"
     ]
    }
   ],
   "source": [
    "# data.drop(columns = ['Unnamed: 0'], inplace = True)\n",
    "data.info()"
   ]
  },
  {
   "cell_type": "code",
   "execution_count": 94,
   "metadata": {},
   "outputs": [
    {
     "data": {
      "text/plain": [
       "count    15588.000000\n",
       "mean      3110.892257\n",
       "std       1850.622968\n",
       "min        500.000000\n",
       "25%       2183.375000\n",
       "50%       2799.000000\n",
       "75%       3609.625000\n",
       "max      65000.000000\n",
       "Name: rent_updated, dtype: float64"
      ]
     },
     "execution_count": 94,
     "metadata": {},
     "output_type": "execute_result"
    }
   ],
   "source": [
    "data.rent_updated.describe()"
   ]
  },
  {
   "cell_type": "code",
   "execution_count": 98,
   "metadata": {},
   "outputs": [
    {
     "name": "stdout",
     "output_type": "stream",
     "text": [
      "4170.0\n",
      "1495.0\n"
     ]
    }
   ],
   "source": [
    "print(np.percentile(data.rent_updated, 85))\n",
    "print(np.percentile(data.rent_updated, 5))"
   ]
  },
  {
   "cell_type": "code",
   "execution_count": 335,
   "metadata": {},
   "outputs": [],
   "source": [
    "data_0to3 = data[data.n_bed < 4]"
   ]
  },
  {
   "cell_type": "code",
   "execution_count": 336,
   "metadata": {},
   "outputs": [
    {
     "data": {
      "text/plain": [
       "<matplotlib.legend.Legend at 0x7f7f48bdd520>"
      ]
     },
     "execution_count": 336,
     "metadata": {},
     "output_type": "execute_result"
    },
    {
     "data": {
      "image/png": "[encoded data removed]",
      "text/plain": [
       "<Figure size 720x432 with 1 Axes>"
      ]
     },
     "metadata": {},
     "output_type": "display_data"
    }
   ],
   "source": [
    "fig, ax = plt.subplots(figsize = (10,6))\n",
    "ax.hist(data['rent_updated'], bins = 350, color = 'steelblue',alpha = 0.8, label = 'Rental Price - All')\n",
    "ax.axvline(x = np.mean(data['rent_updated']), c ='red', alpha = 0.5, linestyle = '--', label = 'Mean: Rental Price - All')\n",
    "ax.hist(data_0to3['rent_updated'], bins = 350, color = 'yellow',alpha = 0.8, label = 'Rental Price - <4')\n",
    "ax.axvline(x = np.mean(data_0to3['rent_updated']), c ='green', alpha = 0.5, linestyle = '--', label = 'Mean: Rental Price - <4')\n",
    "ax.hist(data_norange['rent_updated'], bins = 350, color = 'orange',  alpha = 0.8, label = 'Rental Price - Exact')\n",
    "ax.axvline(x = np.mean(data_norange['rent_updated']), c ='purple', alpha = 0.5, linestyle = '--', label = 'Mean: Rental Price - Exact')\n",
    "ax.set_xlim(left = 0, right = 8000)\n",
    "ax.xaxis.set_major_formatter('${x:1.2f}')\n",
    "ax.set_xlabel('Rental Price')\n",
    "ax.set_ylabel('Frequency')\n",
    "ax.set_title('Rental Price Distribution')\n",
    "ax.legend()"
   ]
  },
  {
   "cell_type": "code",
   "execution_count": null,
   "metadata": {},
   "outputs": [],
   "source": []
  },
  {
   "cell_type": "code",
   "execution_count": 89,
   "metadata": {},
   "outputs": [
    {
     "data": {
      "text/plain": [
       "Text(0.5, 1.0, 'Top 5 Cities with the Most Listings')"
      ]
     },
     "execution_count": 89,
     "metadata": {},
     "output_type": "execute_result"
    },
    {
     "data": {
      "image/png": "[encoded data removed]",
      "text/plain": [
       "<Figure size 576x360 with 1 Axes>"
      ]
     },
     "metadata": {},
     "output_type": "display_data"
    }
   ],
   "source": [
    "city_lst = []\n",
    "cities, count = np.unique(data['city'].to_numpy(), return_counts = True)\n",
    "for city, n in zip(cities, count):\n",
    "    city_lst.append((city, n))\n",
    "    \n",
    "sorted_city = sorted(city_lst,key=lambda x: x[1], reverse=True)\n",
    "top5_cities = [x[0] for x in sorted_city[:5]][::-1]\n",
    "top5_n = [x[1] for x in sorted_city[:5]][::-1]\n",
    "\n",
    "fig, ax = plt.subplots(figsize = (8,5))\n",
    "ax.barh(top5_cities, top5_n, color = 'steelblue')\n",
    "ax.set_xlabel('Number of Listings')\n",
    "\n",
    "ax.set_title('Top 5 Cities with the Most Listings')"
   ]
  },
  {
   "cell_type": "code",
   "execution_count": 117,
   "metadata": {},
   "outputs": [
    {
     "data": {
      "text/plain": [
       "Text(0.5, 1.0, 'Top 5 Cities with the Most Listings')"
      ]
     },
     "execution_count": 117,
     "metadata": {},
     "output_type": "execute_result"
    },
    {
     "data": {
      "image/png": "[encoded data removed]",
      "text/plain": [
       "<Figure size 576x360 with 1 Axes>"
      ]
     },
     "metadata": {},
     "output_type": "display_data"
    }
   ],
   "source": [
    "city_lst = []\n",
    "cities, count = np.unique(data_norange['city'].to_numpy(), return_counts = True)\n",
    "for city, n in zip(cities, count):\n",
    "    city_lst.append((city, n))\n",
    "    \n",
    "sorted_city = sorted(city_lst,key=lambda x: x[1], reverse=True)\n",
    "top5_cities = [x[0] for x in sorted_city[:5]][::-1]\n",
    "top5_n = [x[1] for x in sorted_city[:5]][::-1]\n",
    "\n",
    "fig, ax = plt.subplots(figsize = (8,5))\n",
    "ax.barh(top5_cities, top5_n, color = 'steelblue')\n",
    "ax.set_xlabel('Number of Listings')\n",
    "\n",
    "ax.set_title('Top 5 Cities with the Most Listings')"
   ]
  },
  {
   "cell_type": "code",
   "execution_count": 24,
   "metadata": {},
   "outputs": [],
   "source": [
    "# Manually get the top 5 average\n",
    "\n",
    "header = {\"User-Agent\": \"Mozilla/5.0 (X11; CrOS x86_64 12871.102.0) AppleWebKit/537.36 (KHTML, like Gecko) Chrome/81.0.4044.141 Safari/537.36\"}\n",
    "city_page_url = 'https://www.apartments.com/oakland-ca/'\n",
    "\n",
    "r = requests.get(city_page_url, timeout = 30, headers = header)\n",
    "if r.status_code == 200:\n",
    "    page_soup = soup(r.content, 'html.parser')\n",
    "    script = page_soup.find('script',type='application/ld+json')\n",
    "        \n",
    "    script_json = json.loads(str(script)[41:-11])\n",
    "\n",
    "# script_json"
   ]
  },
  {
   "cell_type": "code",
   "execution_count": 26,
   "metadata": {},
   "outputs": [
    {
     "data": {
      "text/html": [
       "<div>\n",
       "<style scoped>\n",
       "    .dataframe tbody tr th:only-of-type {\n",
       "        vertical-align: middle;\n",
       "    }\n",
       "\n",
       "    .dataframe tbody tr th {\n",
       "        vertical-align: top;\n",
       "    }\n",
       "\n",
       "    .dataframe thead th {\n",
       "        text-align: right;\n",
       "    }\n",
       "</style>\n",
       "<table border=\"1\" class=\"dataframe\">\n",
       "  <thead>\n",
       "    <tr style=\"text-align: right;\">\n",
       "      <th></th>\n",
       "      <th>Studio</th>\n",
       "      <th>1 Bedroom</th>\n",
       "      <th>2 Bedroom</th>\n",
       "      <th>3 Bedroom</th>\n",
       "    </tr>\n",
       "  </thead>\n",
       "  <tbody>\n",
       "    <tr>\n",
       "      <th>Los Angeles</th>\n",
       "      <td>1183</td>\n",
       "      <td>1891</td>\n",
       "      <td>2427</td>\n",
       "      <td>3988</td>\n",
       "    </tr>\n",
       "    <tr>\n",
       "      <th>San Diego</th>\n",
       "      <td>1585</td>\n",
       "      <td>1340</td>\n",
       "      <td>1707</td>\n",
       "      <td>3112</td>\n",
       "    </tr>\n",
       "    <tr>\n",
       "      <th>San Francisco</th>\n",
       "      <td>2660</td>\n",
       "      <td>2626</td>\n",
       "      <td>3743</td>\n",
       "      <td>3948</td>\n",
       "    </tr>\n",
       "    <tr>\n",
       "      <th>San Jose</th>\n",
       "      <td>1889</td>\n",
       "      <td>2156</td>\n",
       "      <td>2885</td>\n",
       "      <td>4032</td>\n",
       "    </tr>\n",
       "    <tr>\n",
       "      <th>Oakland</th>\n",
       "      <td>1408</td>\n",
       "      <td>1559</td>\n",
       "      <td>1835</td>\n",
       "      <td>2479</td>\n",
       "    </tr>\n",
       "    <tr>\n",
       "      <th>Overall Average</th>\n",
       "      <td>2209</td>\n",
       "      <td>2662</td>\n",
       "      <td>3399</td>\n",
       "      <td>4284</td>\n",
       "    </tr>\n",
       "  </tbody>\n",
       "</table>\n",
       "</div>"
      ],
      "text/plain": [
       "                 Studio  1 Bedroom  2 Bedroom  3 Bedroom\n",
       "Los Angeles        1183       1891       2427       3988\n",
       "San Diego          1585       1340       1707       3112\n",
       "San Francisco      2660       2626       3743       3948\n",
       "San Jose           1889       2156       2885       4032\n",
       "Oakland            1408       1559       1835       2479\n",
       "Overall Average    2209       2662       3399       4284"
      ]
     },
     "execution_count": 26,
     "metadata": {},
     "output_type": "execute_result"
    }
   ],
   "source": [
    "sf_avg_rent = {'Studio': '$2,660', '1 Bedroom': '$2,626', '2 Bedroom': '$3,743', '3 Bedroom': '$3,948'}\n",
    "la_avg_rent = {'Studio': '$1,183', '1 Bedroom': '$1,891', '2 Bedroom': '$2,427', '3 Bedroom': '$3,988'}\n",
    "sd_avg_rent = {'Studio': '$1,585', '1 Bedroom': '$1,340', '2 Bedroom': '$1,707', '3 Bedroom': '$3,112'}\n",
    "sj_avg_rent = {'Studio': '$1,889', '1 Bedroom': '$2,156', '2 Bedroom': '$2,885', '3 Bedroom': '$4,032'}\n",
    "okl_avg_rent = {'Studio': '$1,408', '1 Bedroom': '$1,559', '2 Bedroom': '$1,835', '3 Bedroom': '$2,479'}\n",
    "total_avg_rent = {'Studio': '$2,209', '1 Bedroom': '$2,662', '2 Bedroom': '$3,399', '3 Bedroom': '$4,284'}\n",
    "\n",
    "sf = pd.DataFrame([sf_avg_rent], index = ['San Francisco'])\n",
    "la = pd.DataFrame([la_avg_rent], index = ['Los Angeles'])\n",
    "sd = pd.DataFrame([sd_avg_rent], index = ['San Diego'])\n",
    "sj = pd.DataFrame([sj_avg_rent], index = ['San Jose'])\n",
    "oak = pd.DataFrame([okl_avg_rent], index = ['Oakland'])\n",
    "avg = pd.DataFrame([total_avg_rent], index = ['Overall Average'])\n",
    "\n",
    "top5_avg = pd.concat([la,sd,sf,sj,oak, avg])\n",
    "top5_avg_numeric = top5_avg.replace('[\\$\\,\\.]',\"\",regex=True).astype(int)\n",
    "top5_avg_numeric"
   ]
  },
  {
   "cell_type": "code",
   "execution_count": 120,
   "metadata": {},
   "outputs": [
    {
     "data": {
      "text/plain": [
       "<matplotlib.legend.Legend at 0x7f7f6dc879d0>"
      ]
     },
     "execution_count": 120,
     "metadata": {},
     "output_type": "execute_result"
    },
    {
     "data": {
      "image/png": "[encoded data removed]",
      "text/plain": [
       "<Figure size 720x432 with 1 Axes>"
      ]
     },
     "metadata": {},
     "output_type": "display_data"
    }
   ],
   "source": [
    "fig, ax = plt.subplots(figsize = (10,6))\n",
    "x = [1,2,3,4]\n",
    "ax.plot(x, top5_avg_numeric.loc['Los Angeles'], label = 'Los Angeles')\n",
    "ax.scatter(x, top5_avg_numeric.loc['Los Angeles'])\n",
    "ax.plot(x, top5_avg_numeric.loc['San Diego'], label = 'San Diego')\n",
    "ax.scatter(x, top5_avg_numeric.loc['San Diego'])\n",
    "ax.plot(x, top5_avg_numeric.loc['San Francisco'], label = 'San Francisco')\n",
    "ax.scatter(x, top5_avg_numeric.loc['San Francisco'])\n",
    "# ax.plot(x, top5_avg_numeric.loc['San Jose'], label = 'San Jose')\n",
    "# ax.scatter(x, top5_avg_numeric.loc['San Jose'])\n",
    "# ax.plot(x, top5_avg_numeric.loc['Oakland'], label = 'Oakland')\n",
    "# ax.scatter(x, top5_avg_numeric.loc['Oakland'])\n",
    "ax.plot(x, top5_avg_numeric.loc['Overall Average'], label = 'Overall Average')\n",
    "ax.scatter(x, top5_avg_numeric.loc['Overall Average'])\n",
    "ax.set_xticks(np.arange(1,5))\n",
    "ax.set_xticklabels(top5_avg_numeric.columns)\n",
    "ax.yaxis.set_major_formatter('${x:1.2f}')\n",
    "ax.set_title(\"Rental Price per City\")\n",
    "\n",
    "ax.legend()"
   ]
  },
  {
   "cell_type": "code",
   "execution_count": 35,
   "metadata": {},
   "outputs": [],
   "source": [
    "city_dummies = pd.get_dummies(data['city'])\n",
    "top5_city_dunnies = city_dummies[['Los Angeles', 'San Diego', 'San Francisco', 'San Jose', 'Oakland']]"
   ]
  },
  {
   "cell_type": "code",
   "execution_count": 40,
   "metadata": {
    "scrolled": true
   },
   "outputs": [
    {
     "data": {
      "text/html": [
       "<div>\n",
       "<style scoped>\n",
       "    .dataframe tbody tr th:only-of-type {\n",
       "        vertical-align: middle;\n",
       "    }\n",
       "\n",
       "    .dataframe tbody tr th {\n",
       "        vertical-align: top;\n",
       "    }\n",
       "\n",
       "    .dataframe thead th {\n",
       "        text-align: right;\n",
       "    }\n",
       "</style>\n",
       "<table border=\"1\" class=\"dataframe\">\n",
       "  <thead>\n",
       "    <tr style=\"text-align: right;\">\n",
       "      <th></th>\n",
       "      <th>url</th>\n",
       "      <th>property_name</th>\n",
       "      <th>city</th>\n",
       "      <th>rent_updated</th>\n",
       "      <th>n_bed</th>\n",
       "      <th>n_bath</th>\n",
       "      <th>sq_ft_updated</th>\n",
       "      <th>walkscore</th>\n",
       "      <th>allow_pet</th>\n",
       "      <th>minimum_lease</th>\n",
       "      <th>...</th>\n",
       "      <th>security_system</th>\n",
       "      <th>washer_dryer</th>\n",
       "      <th>internet</th>\n",
       "      <th>air_conditioning</th>\n",
       "      <th>furnished</th>\n",
       "      <th>Los Angeles</th>\n",
       "      <th>San Diego</th>\n",
       "      <th>San Francisco</th>\n",
       "      <th>San Jose</th>\n",
       "      <th>Oakland</th>\n",
       "    </tr>\n",
       "  </thead>\n",
       "  <tbody>\n",
       "    <tr>\n",
       "      <th>108</th>\n",
       "      <td>https://www.apartments.com/mark-hopkins-san-fr...</td>\n",
       "      <td>MARK HOPKINS</td>\n",
       "      <td>San Francisco</td>\n",
       "      <td>2250.0</td>\n",
       "      <td>0</td>\n",
       "      <td>1.0</td>\n",
       "      <td>300.0</td>\n",
       "      <td>98.0</td>\n",
       "      <td>0</td>\n",
       "      <td>1</td>\n",
       "      <td>...</td>\n",
       "      <td>1</td>\n",
       "      <td>0</td>\n",
       "      <td>1</td>\n",
       "      <td>0</td>\n",
       "      <td>0</td>\n",
       "      <td>0</td>\n",
       "      <td>0</td>\n",
       "      <td>1</td>\n",
       "      <td>0</td>\n",
       "      <td>0</td>\n",
       "    </tr>\n",
       "    <tr>\n",
       "      <th>109</th>\n",
       "      <td>https://www.apartments.com/mark-hopkins-san-fr...</td>\n",
       "      <td>MARK HOPKINS</td>\n",
       "      <td>San Francisco</td>\n",
       "      <td>2800.0</td>\n",
       "      <td>1</td>\n",
       "      <td>1.0</td>\n",
       "      <td>465.0</td>\n",
       "      <td>98.0</td>\n",
       "      <td>0</td>\n",
       "      <td>1</td>\n",
       "      <td>...</td>\n",
       "      <td>1</td>\n",
       "      <td>0</td>\n",
       "      <td>1</td>\n",
       "      <td>0</td>\n",
       "      <td>0</td>\n",
       "      <td>0</td>\n",
       "      <td>0</td>\n",
       "      <td>1</td>\n",
       "      <td>0</td>\n",
       "      <td>0</td>\n",
       "    </tr>\n",
       "    <tr>\n",
       "      <th>128</th>\n",
       "      <td>https://www.apartments.com/1995-chestnut-stree...</td>\n",
       "      <td>1995 Chestnut Street Apartments</td>\n",
       "      <td>San Francisco</td>\n",
       "      <td>3000.0</td>\n",
       "      <td>1</td>\n",
       "      <td>1.0</td>\n",
       "      <td>650.0</td>\n",
       "      <td>98.0</td>\n",
       "      <td>0</td>\n",
       "      <td>12</td>\n",
       "      <td>...</td>\n",
       "      <td>1</td>\n",
       "      <td>0</td>\n",
       "      <td>0</td>\n",
       "      <td>1</td>\n",
       "      <td>0</td>\n",
       "      <td>0</td>\n",
       "      <td>0</td>\n",
       "      <td>1</td>\n",
       "      <td>0</td>\n",
       "      <td>0</td>\n",
       "    </tr>\n",
       "    <tr>\n",
       "      <th>129</th>\n",
       "      <td>https://www.apartments.com/1995-chestnut-stree...</td>\n",
       "      <td>1995 Chestnut Street Apartments</td>\n",
       "      <td>San Francisco</td>\n",
       "      <td>3500.0</td>\n",
       "      <td>2</td>\n",
       "      <td>1.0</td>\n",
       "      <td>950.0</td>\n",
       "      <td>98.0</td>\n",
       "      <td>0</td>\n",
       "      <td>12</td>\n",
       "      <td>...</td>\n",
       "      <td>1</td>\n",
       "      <td>0</td>\n",
       "      <td>0</td>\n",
       "      <td>1</td>\n",
       "      <td>0</td>\n",
       "      <td>0</td>\n",
       "      <td>0</td>\n",
       "      <td>1</td>\n",
       "      <td>0</td>\n",
       "      <td>0</td>\n",
       "    </tr>\n",
       "    <tr>\n",
       "      <th>360</th>\n",
       "      <td>https://www.apartments.com/24-franklin-san-fra...</td>\n",
       "      <td>24 Franklin</td>\n",
       "      <td>San Francisco</td>\n",
       "      <td>2665.0</td>\n",
       "      <td>0</td>\n",
       "      <td>1.0</td>\n",
       "      <td>580.0</td>\n",
       "      <td>99.0</td>\n",
       "      <td>0</td>\n",
       "      <td>12</td>\n",
       "      <td>...</td>\n",
       "      <td>0</td>\n",
       "      <td>1</td>\n",
       "      <td>0</td>\n",
       "      <td>0</td>\n",
       "      <td>0</td>\n",
       "      <td>0</td>\n",
       "      <td>0</td>\n",
       "      <td>1</td>\n",
       "      <td>0</td>\n",
       "      <td>0</td>\n",
       "    </tr>\n",
       "    <tr>\n",
       "      <th>...</th>\n",
       "      <td>...</td>\n",
       "      <td>...</td>\n",
       "      <td>...</td>\n",
       "      <td>...</td>\n",
       "      <td>...</td>\n",
       "      <td>...</td>\n",
       "      <td>...</td>\n",
       "      <td>...</td>\n",
       "      <td>...</td>\n",
       "      <td>...</td>\n",
       "      <td>...</td>\n",
       "      <td>...</td>\n",
       "      <td>...</td>\n",
       "      <td>...</td>\n",
       "      <td>...</td>\n",
       "      <td>...</td>\n",
       "      <td>...</td>\n",
       "      <td>...</td>\n",
       "      <td>...</td>\n",
       "      <td>...</td>\n",
       "      <td>...</td>\n",
       "    </tr>\n",
       "    <tr>\n",
       "      <th>15318</th>\n",
       "      <td>https://www.apartments.com/avalon-hayes-valley...</td>\n",
       "      <td>Avalon Hayes Valley</td>\n",
       "      <td>San Francisco</td>\n",
       "      <td>3375.0</td>\n",
       "      <td>1</td>\n",
       "      <td>1.0</td>\n",
       "      <td>768.0</td>\n",
       "      <td>99.0</td>\n",
       "      <td>1</td>\n",
       "      <td>8</td>\n",
       "      <td>...</td>\n",
       "      <td>0</td>\n",
       "      <td>1</td>\n",
       "      <td>1</td>\n",
       "      <td>1</td>\n",
       "      <td>0</td>\n",
       "      <td>0</td>\n",
       "      <td>0</td>\n",
       "      <td>1</td>\n",
       "      <td>0</td>\n",
       "      <td>0</td>\n",
       "    </tr>\n",
       "    <tr>\n",
       "      <th>15319</th>\n",
       "      <td>https://www.apartments.com/avalon-hayes-valley...</td>\n",
       "      <td>Avalon Hayes Valley</td>\n",
       "      <td>San Francisco</td>\n",
       "      <td>3900.0</td>\n",
       "      <td>1</td>\n",
       "      <td>1.0</td>\n",
       "      <td>609.0</td>\n",
       "      <td>99.0</td>\n",
       "      <td>1</td>\n",
       "      <td>8</td>\n",
       "      <td>...</td>\n",
       "      <td>0</td>\n",
       "      <td>1</td>\n",
       "      <td>1</td>\n",
       "      <td>1</td>\n",
       "      <td>0</td>\n",
       "      <td>0</td>\n",
       "      <td>0</td>\n",
       "      <td>1</td>\n",
       "      <td>0</td>\n",
       "      <td>0</td>\n",
       "    </tr>\n",
       "    <tr>\n",
       "      <th>15320</th>\n",
       "      <td>https://www.apartments.com/avalon-hayes-valley...</td>\n",
       "      <td>Avalon Hayes Valley</td>\n",
       "      <td>San Francisco</td>\n",
       "      <td>4290.0</td>\n",
       "      <td>2</td>\n",
       "      <td>2.0</td>\n",
       "      <td>1010.0</td>\n",
       "      <td>99.0</td>\n",
       "      <td>1</td>\n",
       "      <td>8</td>\n",
       "      <td>...</td>\n",
       "      <td>0</td>\n",
       "      <td>1</td>\n",
       "      <td>1</td>\n",
       "      <td>1</td>\n",
       "      <td>0</td>\n",
       "      <td>0</td>\n",
       "      <td>0</td>\n",
       "      <td>1</td>\n",
       "      <td>0</td>\n",
       "      <td>0</td>\n",
       "    </tr>\n",
       "    <tr>\n",
       "      <th>15321</th>\n",
       "      <td>https://www.apartments.com/avalon-hayes-valley...</td>\n",
       "      <td>Avalon Hayes Valley</td>\n",
       "      <td>San Francisco</td>\n",
       "      <td>4385.0</td>\n",
       "      <td>2</td>\n",
       "      <td>2.0</td>\n",
       "      <td>1127.0</td>\n",
       "      <td>99.0</td>\n",
       "      <td>1</td>\n",
       "      <td>8</td>\n",
       "      <td>...</td>\n",
       "      <td>0</td>\n",
       "      <td>1</td>\n",
       "      <td>1</td>\n",
       "      <td>1</td>\n",
       "      <td>0</td>\n",
       "      <td>0</td>\n",
       "      <td>0</td>\n",
       "      <td>1</td>\n",
       "      <td>0</td>\n",
       "      <td>0</td>\n",
       "    </tr>\n",
       "    <tr>\n",
       "      <th>15322</th>\n",
       "      <td>https://www.apartments.com/avalon-hayes-valley...</td>\n",
       "      <td>Avalon Hayes Valley</td>\n",
       "      <td>San Francisco</td>\n",
       "      <td>4425.0</td>\n",
       "      <td>2</td>\n",
       "      <td>2.0</td>\n",
       "      <td>1107.0</td>\n",
       "      <td>99.0</td>\n",
       "      <td>1</td>\n",
       "      <td>8</td>\n",
       "      <td>...</td>\n",
       "      <td>0</td>\n",
       "      <td>1</td>\n",
       "      <td>1</td>\n",
       "      <td>1</td>\n",
       "      <td>0</td>\n",
       "      <td>0</td>\n",
       "      <td>0</td>\n",
       "      <td>1</td>\n",
       "      <td>0</td>\n",
       "      <td>0</td>\n",
       "    </tr>\n",
       "  </tbody>\n",
       "</table>\n",
       "<p>1216 rows × 25 columns</p>\n",
       "</div>"
      ],
      "text/plain": [
       "                                                     url  \\\n",
       "108    https://www.apartments.com/mark-hopkins-san-fr...   \n",
       "109    https://www.apartments.com/mark-hopkins-san-fr...   \n",
       "128    https://www.apartments.com/1995-chestnut-stree...   \n",
       "129    https://www.apartments.com/1995-chestnut-stree...   \n",
       "360    https://www.apartments.com/24-franklin-san-fra...   \n",
       "...                                                  ...   \n",
       "15318  https://www.apartments.com/avalon-hayes-valley...   \n",
       "15319  https://www.apartments.com/avalon-hayes-valley...   \n",
       "15320  https://www.apartments.com/avalon-hayes-valley...   \n",
       "15321  https://www.apartments.com/avalon-hayes-valley...   \n",
       "15322  https://www.apartments.com/avalon-hayes-valley...   \n",
       "\n",
       "                         property_name           city  rent_updated  n_bed  \\\n",
       "108                       MARK HOPKINS  San Francisco        2250.0      0   \n",
       "109                       MARK HOPKINS  San Francisco        2800.0      1   \n",
       "128    1995 Chestnut Street Apartments  San Francisco        3000.0      1   \n",
       "129    1995 Chestnut Street Apartments  San Francisco        3500.0      2   \n",
       "360                        24 Franklin  San Francisco        2665.0      0   \n",
       "...                                ...            ...           ...    ...   \n",
       "15318              Avalon Hayes Valley  San Francisco        3375.0      1   \n",
       "15319              Avalon Hayes Valley  San Francisco        3900.0      1   \n",
       "15320              Avalon Hayes Valley  San Francisco        4290.0      2   \n",
       "15321              Avalon Hayes Valley  San Francisco        4385.0      2   \n",
       "15322              Avalon Hayes Valley  San Francisco        4425.0      2   \n",
       "\n",
       "       n_bath  sq_ft_updated  walkscore  allow_pet  minimum_lease  ...  \\\n",
       "108       1.0          300.0       98.0          0              1  ...   \n",
       "109       1.0          465.0       98.0          0              1  ...   \n",
       "128       1.0          650.0       98.0          0             12  ...   \n",
       "129       1.0          950.0       98.0          0             12  ...   \n",
       "360       1.0          580.0       99.0          0             12  ...   \n",
       "...       ...            ...        ...        ...            ...  ...   \n",
       "15318     1.0          768.0       99.0          1              8  ...   \n",
       "15319     1.0          609.0       99.0          1              8  ...   \n",
       "15320     2.0         1010.0       99.0          1              8  ...   \n",
       "15321     2.0         1127.0       99.0          1              8  ...   \n",
       "15322     2.0         1107.0       99.0          1              8  ...   \n",
       "\n",
       "       security_system  washer_dryer  internet  air_conditioning  furnished  \\\n",
       "108                  1             0         1                 0          0   \n",
       "109                  1             0         1                 0          0   \n",
       "128                  1             0         0                 1          0   \n",
       "129                  1             0         0                 1          0   \n",
       "360                  0             1         0                 0          0   \n",
       "...                ...           ...       ...               ...        ...   \n",
       "15318                0             1         1                 1          0   \n",
       "15319                0             1         1                 1          0   \n",
       "15320                0             1         1                 1          0   \n",
       "15321                0             1         1                 1          0   \n",
       "15322                0             1         1                 1          0   \n",
       "\n",
       "       Los Angeles  San Diego  San Francisco  San Jose  Oakland  \n",
       "108              0          0              1         0        0  \n",
       "109              0          0              1         0        0  \n",
       "128              0          0              1         0        0  \n",
       "129              0          0              1         0        0  \n",
       "360              0          0              1         0        0  \n",
       "...            ...        ...            ...       ...      ...  \n",
       "15318            0          0              1         0        0  \n",
       "15319            0          0              1         0        0  \n",
       "15320            0          0              1         0        0  \n",
       "15321            0          0              1         0        0  \n",
       "15322            0          0              1         0        0  \n",
       "\n",
       "[1216 rows x 25 columns]"
      ]
     },
     "execution_count": 40,
     "metadata": {},
     "output_type": "execute_result"
    }
   ],
   "source": [
    "data1 = pd.concat([data, top5_city_dunnies], axis=1)\n",
    "data1[data1['city'] == 'San Francisco']"
   ]
  },
  {
   "cell_type": "code",
   "execution_count": 42,
   "metadata": {},
   "outputs": [
    {
     "data": {
      "text/plain": [
       "Index(['url', 'property_name', 'city', 'rent_updated', 'n_bed', 'n_bath',\n",
       "       'sq_ft_updated', 'walkscore', 'allow_pet', 'minimum_lease',\n",
       "       'onsite_parking', 'pool', 'fitness_center', 'elevator',\n",
       "       'kitchen_features', 'security_system', 'washer_dryer', 'internet',\n",
       "       'air_conditioning', 'furnished', 'Los Angeles', 'San Diego',\n",
       "       'San Francisco', 'San Jose', 'Oakland'],\n",
       "      dtype='object')"
      ]
     },
     "execution_count": 42,
     "metadata": {},
     "output_type": "execute_result"
    }
   ],
   "source": [
    "data1.columns"
   ]
  },
  {
   "cell_type": "code",
   "execution_count": 49,
   "metadata": {},
   "outputs": [],
   "source": [
    "data2 = data1[['rent_updated', 'n_bed', 'n_bath','sq_ft_updated', 'Los Angeles', 'San Diego',\n",
    "       'San Francisco', 'San Jose', 'Oakland', 'walkscore', 'minimum_lease', 'kitchen_features', \n",
    "        'washer_dryer', 'internet','air_conditioning', \n",
    "       'onsite_parking','elevator', 'pool', 'fitness_center', 'allow_pet',\n",
    "       'security_system', 'furnished']]"
   ]
  },
  {
   "cell_type": "code",
   "execution_count": 50,
   "metadata": {},
   "outputs": [
    {
     "data": {
      "text/plain": [
       "Index(['rent_updated', 'n_bed', 'n_bath', 'sq_ft_updated', 'Los Angeles',\n",
       "       'San Diego', 'San Francisco', 'San Jose', 'Oakland', 'walkscore',\n",
       "       'minimum_lease', 'kitchen_features', 'washer_dryer', 'internet',\n",
       "       'air_conditioning', 'onsite_parking', 'elevator', 'pool',\n",
       "       'fitness_center', 'allow_pet', 'security_system', 'furnished'],\n",
       "      dtype='object')"
      ]
     },
     "execution_count": 50,
     "metadata": {},
     "output_type": "execute_result"
    }
   ],
   "source": [
    "data2.columns"
   ]
  },
  {
   "cell_type": "code",
   "execution_count": 101,
   "metadata": {},
   "outputs": [
    {
     "data": {
      "text/plain": [
       "[Text(0.5, 0, 'Rental Price'),\n",
       " Text(1.5, 0, 'Number of Beds'),\n",
       " Text(2.5, 0, 'Number of Baths'),\n",
       " Text(3.5, 0, 'SQ-FT'),\n",
       " Text(4.5, 0, 'Los Angeles'),\n",
       " Text(5.5, 0, 'San Diego'),\n",
       " Text(6.5, 0, 'San Francisco'),\n",
       " Text(7.5, 0, 'San Jose'),\n",
       " Text(8.5, 0, 'Oakland'),\n",
       " Text(9.5, 0, 'walkscore'),\n",
       " Text(10.5, 0, 'Minimum Lease Length'),\n",
       " Text(11.5, 0, 'Number of Kitchen Features'),\n",
       " Text(12.5, 0, 'Washer/Dryer'),\n",
       " Text(13.5, 0, 'WiFi'),\n",
       " Text(14.5, 0, 'Air Conditioning'),\n",
       " Text(15.5, 0, 'Onsite Parking'),\n",
       " Text(16.5, 0, 'Elevator'),\n",
       " Text(17.5, 0, 'Pool'),\n",
       " Text(18.5, 0, 'Fitness Center'),\n",
       " Text(19.5, 0, 'Allow Pets'),\n",
       " Text(20.5, 0, 'Security System'),\n",
       " Text(21.5, 0, 'Furnished')]"
      ]
     },
     "execution_count": 101,
     "metadata": {},
     "output_type": "execute_result"
    },
    {
     "data": {
      "image/png": "[encoded data removed]",
      "text/plain": [
       "<Figure size 1080x1080 with 2 Axes>"
      ]
     },
     "metadata": {},
     "output_type": "display_data"
    }
   ],
   "source": [
    "data2.rename(columns = {'rent_updated':'Rental Price','n_bed':'Number of Beds','n_bath':'Number of Baths',\n",
    "                        'sq_ft_updated':'SQ-FT','allow_pet':'Allow Pets','minimum_lease':'Minimum Lease Length',\n",
    "                        'onsite_parking':'Onsite Parking','pool':'Pool','fitness_center':'Fitness Center', \n",
    "                        'elevator':'Elevator', 'kitchen_features': 'Number of Kitchen Features', \n",
    "                        'security_system':'Security System','washer_dryer':'Washer/Dryer', 'internet':'WiFi', \n",
    "                        'air_conditioning':'Air Conditioning', 'furnished':'Furnished'},inplace=True)\n",
    "\n",
    "fig, ax = plt.subplots(figsize=(15,15))\n",
    "chart = sns.heatmap(data2.corr(),annot=True,ax=ax, square=True, fmt='0.0%')\n",
    "chart.set_xticklabels(chart.get_xticklabels(), rotation=45, horizontalalignment='right')"
   ]
  },
  {
   "cell_type": "code",
   "execution_count": 102,
   "metadata": {},
   "outputs": [
    {
     "data": {
      "text/plain": [
       "Index(['Rental Price', 'Number of Beds', 'Number of Baths', 'SQ-FT',\n",
       "       'Los Angeles', 'San Diego', 'San Francisco', 'San Jose', 'Oakland',\n",
       "       'walkscore', 'Minimum Lease Length', 'Number of Kitchen Features',\n",
       "       'Washer/Dryer', 'WiFi', 'Air Conditioning', 'Onsite Parking',\n",
       "       'Elevator', 'Pool', 'Fitness Center', 'Allow Pets', 'Security System',\n",
       "       'Furnished'],\n",
       "      dtype='object')"
      ]
     },
     "execution_count": 102,
     "metadata": {},
     "output_type": "execute_result"
    }
   ],
   "source": [
    "data2.columns"
   ]
  },
  {
   "cell_type": "code",
   "execution_count": 323,
   "metadata": {},
   "outputs": [
    {
     "data": {
      "text/plain": [
       "[Text(0.5, 0, 'Rental Price'),\n",
       " Text(1.5, 0, 'Number of Beds'),\n",
       " Text(2.5, 0, 'Number of Baths'),\n",
       " Text(3.5, 0, 'SQ-FT')]"
      ]
     },
     "execution_count": 323,
     "metadata": {},
     "output_type": "execute_result"
    },
    {
     "data": {
      "image/png": "[encoded data removed]",
      "text/plain": [
       "<Figure size 360x360 with 2 Axes>"
      ]
     },
     "metadata": {},
     "output_type": "display_data"
    }
   ],
   "source": [
    "data3 = data2[['Rental Price', 'Number of Beds', 'Number of Baths', 'SQ-FT']]\n",
    "              \n",
    "fig, ax = plt.subplots(figsize=(5,5))\n",
    "chart = sns.heatmap(data3.corr(),annot=True,ax=ax, square=True, fmt='0.0%')\n",
    "chart.set_xticklabels(chart.get_xticklabels(), rotation=45, horizontalalignment='right')"
   ]
  },
  {
   "cell_type": "code",
   "execution_count": 326,
   "metadata": {},
   "outputs": [
    {
     "data": {
      "text/plain": [
       "array([[<AxesSubplot:xlabel='Rental Price', ylabel='Rental Price'>,\n",
       "        <AxesSubplot:xlabel='Number of Beds', ylabel='Rental Price'>,\n",
       "        <AxesSubplot:xlabel='Number of Baths', ylabel='Rental Price'>,\n",
       "        <AxesSubplot:xlabel='SQ-FT', ylabel='Rental Price'>],\n",
       "       [<AxesSubplot:xlabel='Rental Price', ylabel='Number of Beds'>,\n",
       "        <AxesSubplot:xlabel='Number of Beds', ylabel='Number of Beds'>,\n",
       "        <AxesSubplot:xlabel='Number of Baths', ylabel='Number of Beds'>,\n",
       "        <AxesSubplot:xlabel='SQ-FT', ylabel='Number of Beds'>],\n",
       "       [<AxesSubplot:xlabel='Rental Price', ylabel='Number of Baths'>,\n",
       "        <AxesSubplot:xlabel='Number of Beds', ylabel='Number of Baths'>,\n",
       "        <AxesSubplot:xlabel='Number of Baths', ylabel='Number of Baths'>,\n",
       "        <AxesSubplot:xlabel='SQ-FT', ylabel='Number of Baths'>],\n",
       "       [<AxesSubplot:xlabel='Rental Price', ylabel='SQ-FT'>,\n",
       "        <AxesSubplot:xlabel='Number of Beds', ylabel='SQ-FT'>,\n",
       "        <AxesSubplot:xlabel='Number of Baths', ylabel='SQ-FT'>,\n",
       "        <AxesSubplot:xlabel='SQ-FT', ylabel='SQ-FT'>]], dtype=object)"
      ]
     },
     "execution_count": 326,
     "metadata": {},
     "output_type": "execute_result"
    },
    {
     "data": {
      "image/png": "[encoded data removed]",
      "text/plain": [
       "<Figure size 576x576 with 16 Axes>"
      ]
     },
     "metadata": {},
     "output_type": "display_data"
    }
   ],
   "source": [
    "pd.plotting.scatter_matrix(data3, figsize = (8,8), color = 'steelblue')"
   ]
  },
  {
   "cell_type": "code",
   "execution_count": 283,
   "metadata": {},
   "outputs": [
    {
     "data": {
      "text/plain": [
       "1.00    8626\n",
       "2.00    5629\n",
       "2.50     464\n",
       "1.50     411\n",
       "3.00     328\n",
       "3.50      51\n",
       "4.00      45\n",
       "5.00      11\n",
       "4.50       9\n",
       "5.50       4\n",
       "1.25       3\n",
       "0.50       3\n",
       "1.75       2\n",
       "2.75       1\n",
       "6.00       1\n",
       "Name: n_bath, dtype: int64"
      ]
     },
     "execution_count": 283,
     "metadata": {},
     "output_type": "execute_result"
    }
   ],
   "source": [
    "data.n_bath.value_counts()"
   ]
  },
  {
   "cell_type": "markdown",
   "metadata": {},
   "source": [
    "## Modeling"
   ]
  },
  {
   "cell_type": "code",
   "execution_count": 123,
   "metadata": {},
   "outputs": [
    {
     "data": {
      "text/plain": [
       "Index(['url', 'property_name', 'city', 'rent_updated', 'n_bed', 'n_bath',\n",
       "       'sq_ft_updated', 'walkscore', 'allow_pet', 'minimum_lease',\n",
       "       'onsite_parking', 'pool', 'fitness_center', 'elevator',\n",
       "       'kitchen_features', 'security_system', 'washer_dryer', 'internet',\n",
       "       'air_conditioning', 'furnished', 'Los Angeles', 'San Diego',\n",
       "       'San Francisco', 'San Jose', 'Oakland'],\n",
       "      dtype='object')"
      ]
     },
     "execution_count": 123,
     "metadata": {},
     "output_type": "execute_result"
    }
   ],
   "source": [
    "# train test split\n",
    "data1.columns"
   ]
  },
  {
   "cell_type": "code",
   "execution_count": 124,
   "metadata": {},
   "outputs": [],
   "source": [
    "X_all = data1[[ 'n_bed', 'n_bath',\n",
    "       'sq_ft_updated', 'walkscore', 'allow_pet', 'minimum_lease',\n",
    "       'onsite_parking', 'pool', 'fitness_center', 'elevator',\n",
    "       'kitchen_features', 'security_system', 'washer_dryer', 'internet',\n",
    "       'air_conditioning', 'furnished', 'Los Angeles', 'San Diego',\n",
    "       'San Francisco', 'San Jose', 'Oakland']]\n",
    "\n",
    "y_all = data1['rent_updated']"
   ]
  },
  {
   "cell_type": "code",
   "execution_count": 344,
   "metadata": {},
   "outputs": [],
   "source": [
    "X_train, X_test, y_train, y_test = train_test_split(X_all, y_all)"
   ]
  },
  {
   "cell_type": "code",
   "execution_count": 275,
   "metadata": {},
   "outputs": [],
   "source": [
    "def cross_val(X_train, y_train, k, regression = None):\n",
    "    kf = KFold(n_splits=k, shuffle=True)\n",
    "    scores = []\n",
    "    \n",
    "    if regression != None:\n",
    "        scaler = StandardScaler()\n",
    "        X_std = scaler.fit_transform(X_train)\n",
    "        model = regression\n",
    "        for train, test in kf.split(X_std):\n",
    "            model.fit(X_std[train], y_train.iloc[train])\n",
    "            y_pred = model.predict(X_std[test])\n",
    "            scores.append(mean_squared_error(y_train.iloc[test], y_pred))\n",
    "            \n",
    "    else:\n",
    "        for train, test in kf.split(X_train):\n",
    "            y_pred = np.full(y_train.iloc[test].shape, np.mean(y_train.iloc[train]))\n",
    "            scores.append(mean_squared_error(y_train.iloc[test], y_pred))\n",
    "        \n",
    "    return np.sqrt(np.mean(scores))"
   ]
  },
  {
   "cell_type": "code",
   "execution_count": 341,
   "metadata": {},
   "outputs": [],
   "source": [
    "def final_testing(X_train, X_test, y_train, y_test, model):\n",
    "    model.fit(X_train, y_train)\n",
    "    y_pred = model.predict(X_test)\n",
    "    return np.sqrt(mean_squared_error(y_test,y_pred))"
   ]
  },
  {
   "cell_type": "code",
   "execution_count": 345,
   "metadata": {},
   "outputs": [
    {
     "data": {
      "text/plain": [
       "1837.926842090853"
      ]
     },
     "execution_count": 345,
     "metadata": {},
     "output_type": "execute_result"
    }
   ],
   "source": [
    "# Baseline\n",
    "cross_val(X_train, y_train, k = 10, regression = None)"
   ]
  },
  {
   "cell_type": "code",
   "execution_count": 346,
   "metadata": {},
   "outputs": [
    {
     "data": {
      "text/plain": [
       "1425.552470042"
      ]
     },
     "execution_count": 346,
     "metadata": {},
     "output_type": "execute_result"
    }
   ],
   "source": [
    "# Linear Regression\n",
    "linear_regression = LinearRegression()\n",
    "cross_val(X_train, y_train, k = 10, regression = linear_regression)"
   ]
  },
  {
   "cell_type": "code",
   "execution_count": 347,
   "metadata": {},
   "outputs": [
    {
     "data": {
      "text/plain": [
       "1431.709373433622"
      ]
     },
     "execution_count": 347,
     "metadata": {},
     "output_type": "execute_result"
    }
   ],
   "source": [
    "final_testing(X_train, X_test, y_train, y_test, linear_regression)"
   ]
  },
  {
   "cell_type": "code",
   "execution_count": null,
   "metadata": {},
   "outputs": [],
   "source": []
  },
  {
   "cell_type": "code",
   "execution_count": 291,
   "metadata": {},
   "outputs": [
    {
     "data": {
      "text/plain": [
       "Index(['n_bed', 'n_bath', 'sq_ft_updated', 'walkscore', 'allow_pet',\n",
       "       'minimum_lease', 'onsite_parking', 'pool', 'fitness_center', 'elevator',\n",
       "       'kitchen_features', 'security_system', 'washer_dryer', 'internet',\n",
       "       'air_conditioning', 'furnished', 'Los Angeles', 'San Diego',\n",
       "       'San Francisco', 'San Jose', 'Oakland'],\n",
       "      dtype='object')"
      ]
     },
     "execution_count": 291,
     "metadata": {},
     "output_type": "execute_result"
    }
   ],
   "source": [
    "X_train.columns"
   ]
  },
  {
   "cell_type": "code",
   "execution_count": 294,
   "metadata": {},
   "outputs": [],
   "source": [
    "X_train_updated = X_train[['n_bed', 'n_bath', 'sq_ft_updated', 'walkscore', 'allow_pet',\n",
    "       'minimum_lease', 'onsite_parking', 'pool', 'fitness_center', 'elevator',\n",
    "        'washer_dryer', 'internet',\n",
    "       'air_conditioning', 'furnished', 'Los Angeles', \n",
    "       'San Francisco']]"
   ]
  },
  {
   "cell_type": "code",
   "execution_count": 295,
   "metadata": {},
   "outputs": [
    {
     "data": {
      "text/html": [
       "<table class=\"simpletable\">\n",
       "<caption>OLS Regression Results</caption>\n",
       "<tr>\n",
       "  <th>Dep. Variable:</th>      <td>rent_updated</td>   <th>  R-squared (uncentered):</th>       <td>   0.858</td>  \n",
       "</tr>\n",
       "<tr>\n",
       "  <th>Model:</th>                   <td>OLS</td>       <th>  Adj. R-squared (uncentered):</th>  <td>   0.857</td>  \n",
       "</tr>\n",
       "<tr>\n",
       "  <th>Method:</th>             <td>Least Squares</td>  <th>  F-statistic:       </th>           <td>   4395.</td>  \n",
       "</tr>\n",
       "<tr>\n",
       "  <th>Date:</th>             <td>Thu, 01 Apr 2021</td> <th>  Prob (F-statistic):</th>            <td>  0.00</td>   \n",
       "</tr>\n",
       "<tr>\n",
       "  <th>Time:</th>                 <td>10:33:23</td>     <th>  Log-Likelihood:    </th>          <td>-1.0089e+05</td>\n",
       "</tr>\n",
       "<tr>\n",
       "  <th>No. Observations:</th>      <td> 11691</td>      <th>  AIC:               </th>           <td>2.018e+05</td> \n",
       "</tr>\n",
       "<tr>\n",
       "  <th>Df Residuals:</th>          <td> 11675</td>      <th>  BIC:               </th>           <td>2.019e+05</td> \n",
       "</tr>\n",
       "<tr>\n",
       "  <th>Df Model:</th>              <td>    16</td>      <th>                     </th>               <td> </td>     \n",
       "</tr>\n",
       "<tr>\n",
       "  <th>Covariance Type:</th>      <td>nonrobust</td>    <th>                     </th>               <td> </td>     \n",
       "</tr>\n",
       "</table>\n",
       "<table class=\"simpletable\">\n",
       "<tr>\n",
       "          <td></td>            <th>coef</th>     <th>std err</th>      <th>t</th>      <th>P>|t|</th>  <th>[0.025</th>    <th>0.975]</th>  \n",
       "</tr>\n",
       "<tr>\n",
       "  <th>n_bed</th>            <td> -238.4589</td> <td>   25.158</td> <td>   -9.479</td> <td> 0.000</td> <td> -287.772</td> <td> -189.146</td>\n",
       "</tr>\n",
       "<tr>\n",
       "  <th>n_bath</th>           <td>  147.2429</td> <td>   36.898</td> <td>    3.991</td> <td> 0.000</td> <td>   74.917</td> <td>  219.569</td>\n",
       "</tr>\n",
       "<tr>\n",
       "  <th>sq_ft_updated</th>    <td>    2.7682</td> <td>    0.051</td> <td>   54.414</td> <td> 0.000</td> <td>    2.668</td> <td>    2.868</td>\n",
       "</tr>\n",
       "<tr>\n",
       "  <th>walkscore</th>        <td>   10.3892</td> <td>    0.494</td> <td>   21.039</td> <td> 0.000</td> <td>    9.421</td> <td>   11.357</td>\n",
       "</tr>\n",
       "<tr>\n",
       "  <th>allow_pet</th>        <td>  201.1690</td> <td>   38.553</td> <td>    5.218</td> <td> 0.000</td> <td>  125.598</td> <td>  276.740</td>\n",
       "</tr>\n",
       "<tr>\n",
       "  <th>minimum_lease</th>    <td>  -28.0124</td> <td>    2.952</td> <td>   -9.490</td> <td> 0.000</td> <td>  -33.798</td> <td>  -22.227</td>\n",
       "</tr>\n",
       "<tr>\n",
       "  <th>onsite_parking</th>   <td> -402.2140</td> <td>   30.979</td> <td>  -12.983</td> <td> 0.000</td> <td> -462.938</td> <td> -341.490</td>\n",
       "</tr>\n",
       "<tr>\n",
       "  <th>pool</th>             <td>  -96.0926</td> <td>   32.409</td> <td>   -2.965</td> <td> 0.003</td> <td> -159.620</td> <td>  -32.565</td>\n",
       "</tr>\n",
       "<tr>\n",
       "  <th>fitness_center</th>   <td>  166.7194</td> <td>   34.637</td> <td>    4.813</td> <td> 0.000</td> <td>   98.824</td> <td>  234.615</td>\n",
       "</tr>\n",
       "<tr>\n",
       "  <th>elevator</th>         <td>  243.6021</td> <td>   29.111</td> <td>    8.368</td> <td> 0.000</td> <td>  186.539</td> <td>  300.665</td>\n",
       "</tr>\n",
       "<tr>\n",
       "  <th>washer_dryer</th>     <td>  180.2401</td> <td>   30.883</td> <td>    5.836</td> <td> 0.000</td> <td>  119.704</td> <td>  240.777</td>\n",
       "</tr>\n",
       "<tr>\n",
       "  <th>internet</th>         <td>   70.7727</td> <td>   30.908</td> <td>    2.290</td> <td> 0.022</td> <td>   10.187</td> <td>  131.358</td>\n",
       "</tr>\n",
       "<tr>\n",
       "  <th>air_conditioning</th> <td> -204.2347</td> <td>   29.677</td> <td>   -6.882</td> <td> 0.000</td> <td> -262.406</td> <td> -146.064</td>\n",
       "</tr>\n",
       "<tr>\n",
       "  <th>furnished</th>        <td>  479.6868</td> <td>   52.072</td> <td>    9.212</td> <td> 0.000</td> <td>  377.616</td> <td>  581.757</td>\n",
       "</tr>\n",
       "<tr>\n",
       "  <th>Los Angeles</th>      <td>  347.1019</td> <td>   37.430</td> <td>    9.273</td> <td> 0.000</td> <td>  273.732</td> <td>  420.471</td>\n",
       "</tr>\n",
       "<tr>\n",
       "  <th>San Francisco</th>    <td>  279.1094</td> <td>   52.972</td> <td>    5.269</td> <td> 0.000</td> <td>  175.276</td> <td>  382.943</td>\n",
       "</tr>\n",
       "</table>\n",
       "<table class=\"simpletable\">\n",
       "<tr>\n",
       "  <th>Omnibus:</th>       <td>16718.441</td> <th>  Durbin-Watson:     </th>   <td>   1.980</td>  \n",
       "</tr>\n",
       "<tr>\n",
       "  <th>Prob(Omnibus):</th>  <td> 0.000</td>   <th>  Jarque-Bera (JB):  </th> <td>19530243.469</td>\n",
       "</tr>\n",
       "<tr>\n",
       "  <th>Skew:</th>           <td> 7.995</td>   <th>  Prob(JB):          </th>   <td>    0.00</td>  \n",
       "</tr>\n",
       "<tr>\n",
       "  <th>Kurtosis:</th>       <td>202.593</td>  <th>  Cond. No.          </th>   <td>4.61e+03</td>  \n",
       "</tr>\n",
       "</table><br/><br/>Notes:<br/>[1] R² is computed without centering (uncentered) since the model does not contain a constant.<br/>[2] Standard Errors assume that the covariance matrix of the errors is correctly specified.<br/>[3] The condition number is large, 4.61e+03. This might indicate that there are<br/>strong multicollinearity or other numerical problems."
      ],
      "text/plain": [
       "<class 'statsmodels.iolib.summary.Summary'>\n",
       "\"\"\"\n",
       "                                 OLS Regression Results                                \n",
       "=======================================================================================\n",
       "Dep. Variable:           rent_updated   R-squared (uncentered):                   0.858\n",
       "Model:                            OLS   Adj. R-squared (uncentered):              0.857\n",
       "Method:                 Least Squares   F-statistic:                              4395.\n",
       "Date:                Thu, 01 Apr 2021   Prob (F-statistic):                        0.00\n",
       "Time:                        10:33:23   Log-Likelihood:                     -1.0089e+05\n",
       "No. Observations:               11691   AIC:                                  2.018e+05\n",
       "Df Residuals:                   11675   BIC:                                  2.019e+05\n",
       "Df Model:                          16                                                  \n",
       "Covariance Type:            nonrobust                                                  \n",
       "====================================================================================\n",
       "                       coef    std err          t      P>|t|      [0.025      0.975]\n",
       "------------------------------------------------------------------------------------\n",
       "n_bed             -238.4589     25.158     -9.479      0.000    -287.772    -189.146\n",
       "n_bath             147.2429     36.898      3.991      0.000      74.917     219.569\n",
       "sq_ft_updated        2.7682      0.051     54.414      0.000       2.668       2.868\n",
       "walkscore           10.3892      0.494     21.039      0.000       9.421      11.357\n",
       "allow_pet          201.1690     38.553      5.218      0.000     125.598     276.740\n",
       "minimum_lease      -28.0124      2.952     -9.490      0.000     -33.798     -22.227\n",
       "onsite_parking    -402.2140     30.979    -12.983      0.000    -462.938    -341.490\n",
       "pool               -96.0926     32.409     -2.965      0.003    -159.620     -32.565\n",
       "fitness_center     166.7194     34.637      4.813      0.000      98.824     234.615\n",
       "elevator           243.6021     29.111      8.368      0.000     186.539     300.665\n",
       "washer_dryer       180.2401     30.883      5.836      0.000     119.704     240.777\n",
       "internet            70.7727     30.908      2.290      0.022      10.187     131.358\n",
       "air_conditioning  -204.2347     29.677     -6.882      0.000    -262.406    -146.064\n",
       "furnished          479.6868     52.072      9.212      0.000     377.616     581.757\n",
       "Los Angeles        347.1019     37.430      9.273      0.000     273.732     420.471\n",
       "San Francisco      279.1094     52.972      5.269      0.000     175.276     382.943\n",
       "==============================================================================\n",
       "Omnibus:                    16718.441   Durbin-Watson:                   1.980\n",
       "Prob(Omnibus):                  0.000   Jarque-Bera (JB):         19530243.469\n",
       "Skew:                           7.995   Prob(JB):                         0.00\n",
       "Kurtosis:                     202.593   Cond. No.                     4.61e+03\n",
       "==============================================================================\n",
       "\n",
       "Notes:\n",
       "[1] R² is computed without centering (uncentered) since the model does not contain a constant.\n",
       "[2] Standard Errors assume that the covariance matrix of the errors is correctly specified.\n",
       "[3] The condition number is large, 4.61e+03. This might indicate that there are\n",
       "strong multicollinearity or other numerical problems.\n",
       "\"\"\""
      ]
     },
     "execution_count": 295,
     "metadata": {},
     "output_type": "execute_result"
    }
   ],
   "source": [
    "result_p = sm.OLS(y_train, X_train_updated).fit()\n",
    "result_p.summary()"
   ]
  },
  {
   "cell_type": "code",
   "execution_count": 296,
   "metadata": {},
   "outputs": [
    {
     "data": {
      "text/plain": [
       "1355.7905674457575"
      ]
     },
     "execution_count": 296,
     "metadata": {},
     "output_type": "execute_result"
    }
   ],
   "source": [
    "cross_val(X_train_updated, y_train, k = 10, regression = linear_regression)"
   ]
  },
  {
   "cell_type": "code",
   "execution_count": 293,
   "metadata": {},
   "outputs": [
    {
     "data": {
      "text/html": [
       "<table class=\"simpletable\">\n",
       "<caption>OLS Regression Results</caption>\n",
       "<tr>\n",
       "  <th>Dep. Variable:</th>      <td>rent_updated</td>   <th>  R-squared (uncentered):</th>       <td>   0.858</td>  \n",
       "</tr>\n",
       "<tr>\n",
       "  <th>Model:</th>                   <td>OLS</td>       <th>  Adj. R-squared (uncentered):</th>  <td>   0.857</td>  \n",
       "</tr>\n",
       "<tr>\n",
       "  <th>Method:</th>             <td>Least Squares</td>  <th>  F-statistic:       </th>           <td>   3349.</td>  \n",
       "</tr>\n",
       "<tr>\n",
       "  <th>Date:</th>             <td>Thu, 01 Apr 2021</td> <th>  Prob (F-statistic):</th>            <td>  0.00</td>   \n",
       "</tr>\n",
       "<tr>\n",
       "  <th>Time:</th>                 <td>10:30:50</td>     <th>  Log-Likelihood:    </th>          <td>-1.0089e+05</td>\n",
       "</tr>\n",
       "<tr>\n",
       "  <th>No. Observations:</th>      <td> 11691</td>      <th>  AIC:               </th>           <td>2.018e+05</td> \n",
       "</tr>\n",
       "<tr>\n",
       "  <th>Df Residuals:</th>          <td> 11670</td>      <th>  BIC:               </th>           <td>2.020e+05</td> \n",
       "</tr>\n",
       "<tr>\n",
       "  <th>Df Model:</th>              <td>    21</td>      <th>                     </th>               <td> </td>     \n",
       "</tr>\n",
       "<tr>\n",
       "  <th>Covariance Type:</th>      <td>nonrobust</td>    <th>                     </th>               <td> </td>     \n",
       "</tr>\n",
       "</table>\n",
       "<table class=\"simpletable\">\n",
       "<tr>\n",
       "          <td></td>            <th>coef</th>     <th>std err</th>      <th>t</th>      <th>P>|t|</th>  <th>[0.025</th>    <th>0.975]</th>  \n",
       "</tr>\n",
       "<tr>\n",
       "  <th>n_bed</th>            <td> -235.7430</td> <td>   25.235</td> <td>   -9.342</td> <td> 0.000</td> <td> -285.208</td> <td> -186.278</td>\n",
       "</tr>\n",
       "<tr>\n",
       "  <th>n_bath</th>           <td>  145.9023</td> <td>   36.925</td> <td>    3.951</td> <td> 0.000</td> <td>   73.523</td> <td>  218.281</td>\n",
       "</tr>\n",
       "<tr>\n",
       "  <th>sq_ft_updated</th>    <td>    2.7651</td> <td>    0.051</td> <td>   54.177</td> <td> 0.000</td> <td>    2.665</td> <td>    2.865</td>\n",
       "</tr>\n",
       "<tr>\n",
       "  <th>walkscore</th>        <td>   10.3209</td> <td>    0.514</td> <td>   20.065</td> <td> 0.000</td> <td>    9.313</td> <td>   11.329</td>\n",
       "</tr>\n",
       "<tr>\n",
       "  <th>allow_pet</th>        <td>  196.8379</td> <td>   38.825</td> <td>    5.070</td> <td> 0.000</td> <td>  120.734</td> <td>  272.942</td>\n",
       "</tr>\n",
       "<tr>\n",
       "  <th>minimum_lease</th>    <td>  -28.1529</td> <td>    2.962</td> <td>   -9.506</td> <td> 0.000</td> <td>  -33.958</td> <td>  -22.348</td>\n",
       "</tr>\n",
       "<tr>\n",
       "  <th>onsite_parking</th>   <td> -397.3850</td> <td>   31.260</td> <td>  -12.712</td> <td> 0.000</td> <td> -458.659</td> <td> -336.111</td>\n",
       "</tr>\n",
       "<tr>\n",
       "  <th>pool</th>             <td> -100.2538</td> <td>   33.889</td> <td>   -2.958</td> <td> 0.003</td> <td> -166.682</td> <td>  -33.826</td>\n",
       "</tr>\n",
       "<tr>\n",
       "  <th>fitness_center</th>   <td>  158.6503</td> <td>   35.072</td> <td>    4.524</td> <td> 0.000</td> <td>   89.902</td> <td>  227.398</td>\n",
       "</tr>\n",
       "<tr>\n",
       "  <th>elevator</th>         <td>  239.8262</td> <td>   29.910</td> <td>    8.018</td> <td> 0.000</td> <td>  181.197</td> <td>  298.456</td>\n",
       "</tr>\n",
       "<tr>\n",
       "  <th>kitchen_features</th> <td>   -6.0572</td> <td>    3.871</td> <td>   -1.565</td> <td> 0.118</td> <td>  -13.645</td> <td>    1.530</td>\n",
       "</tr>\n",
       "<tr>\n",
       "  <th>security_system</th>  <td>   33.8849</td> <td>   36.295</td> <td>    0.934</td> <td> 0.351</td> <td>  -37.259</td> <td>  105.029</td>\n",
       "</tr>\n",
       "<tr>\n",
       "  <th>washer_dryer</th>     <td>  188.1052</td> <td>   32.132</td> <td>    5.854</td> <td> 0.000</td> <td>  125.122</td> <td>  251.089</td>\n",
       "</tr>\n",
       "<tr>\n",
       "  <th>internet</th>         <td>   79.5963</td> <td>   32.476</td> <td>    2.451</td> <td> 0.014</td> <td>   15.939</td> <td>  143.254</td>\n",
       "</tr>\n",
       "<tr>\n",
       "  <th>air_conditioning</th> <td> -193.8760</td> <td>   31.165</td> <td>   -6.221</td> <td> 0.000</td> <td> -254.965</td> <td> -132.787</td>\n",
       "</tr>\n",
       "<tr>\n",
       "  <th>furnished</th>        <td>  492.6315</td> <td>   52.897</td> <td>    9.313</td> <td> 0.000</td> <td>  388.945</td> <td>  596.318</td>\n",
       "</tr>\n",
       "<tr>\n",
       "  <th>Los Angeles</th>      <td>  363.6750</td> <td>   39.560</td> <td>    9.193</td> <td> 0.000</td> <td>  286.131</td> <td>  441.219</td>\n",
       "</tr>\n",
       "<tr>\n",
       "  <th>San Diego</th>        <td>   66.2025</td> <td>   44.471</td> <td>    1.489</td> <td> 0.137</td> <td>  -20.968</td> <td>  153.373</td>\n",
       "</tr>\n",
       "<tr>\n",
       "  <th>San Francisco</th>    <td>  295.4805</td> <td>   55.346</td> <td>    5.339</td> <td> 0.000</td> <td>  186.992</td> <td>  403.969</td>\n",
       "</tr>\n",
       "<tr>\n",
       "  <th>San Jose</th>         <td>   35.8485</td> <td>   54.029</td> <td>    0.664</td> <td> 0.507</td> <td>  -70.058</td> <td>  141.755</td>\n",
       "</tr>\n",
       "<tr>\n",
       "  <th>Oakland</th>          <td>   26.5578</td> <td>   65.762</td> <td>    0.404</td> <td> 0.686</td> <td> -102.346</td> <td>  155.462</td>\n",
       "</tr>\n",
       "</table>\n",
       "<table class=\"simpletable\">\n",
       "<tr>\n",
       "  <th>Omnibus:</th>       <td>16707.800</td> <th>  Durbin-Watson:     </th>   <td>   1.981</td>  \n",
       "</tr>\n",
       "<tr>\n",
       "  <th>Prob(Omnibus):</th>  <td> 0.000</td>   <th>  Jarque-Bera (JB):  </th> <td>19447263.539</td>\n",
       "</tr>\n",
       "<tr>\n",
       "  <th>Skew:</th>           <td> 7.986</td>   <th>  Prob(JB):          </th>   <td>    0.00</td>  \n",
       "</tr>\n",
       "<tr>\n",
       "  <th>Kurtosis:</th>       <td>202.167</td>  <th>  Cond. No.          </th>   <td>6.08e+03</td>  \n",
       "</tr>\n",
       "</table><br/><br/>Notes:<br/>[1] R² is computed without centering (uncentered) since the model does not contain a constant.<br/>[2] Standard Errors assume that the covariance matrix of the errors is correctly specified.<br/>[3] The condition number is large, 6.08e+03. This might indicate that there are<br/>strong multicollinearity or other numerical problems."
      ],
      "text/plain": [
       "<class 'statsmodels.iolib.summary.Summary'>\n",
       "\"\"\"\n",
       "                                 OLS Regression Results                                \n",
       "=======================================================================================\n",
       "Dep. Variable:           rent_updated   R-squared (uncentered):                   0.858\n",
       "Model:                            OLS   Adj. R-squared (uncentered):              0.857\n",
       "Method:                 Least Squares   F-statistic:                              3349.\n",
       "Date:                Thu, 01 Apr 2021   Prob (F-statistic):                        0.00\n",
       "Time:                        10:30:50   Log-Likelihood:                     -1.0089e+05\n",
       "No. Observations:               11691   AIC:                                  2.018e+05\n",
       "Df Residuals:                   11670   BIC:                                  2.020e+05\n",
       "Df Model:                          21                                                  \n",
       "Covariance Type:            nonrobust                                                  \n",
       "====================================================================================\n",
       "                       coef    std err          t      P>|t|      [0.025      0.975]\n",
       "------------------------------------------------------------------------------------\n",
       "n_bed             -235.7430     25.235     -9.342      0.000    -285.208    -186.278\n",
       "n_bath             145.9023     36.925      3.951      0.000      73.523     218.281\n",
       "sq_ft_updated        2.7651      0.051     54.177      0.000       2.665       2.865\n",
       "walkscore           10.3209      0.514     20.065      0.000       9.313      11.329\n",
       "allow_pet          196.8379     38.825      5.070      0.000     120.734     272.942\n",
       "minimum_lease      -28.1529      2.962     -9.506      0.000     -33.958     -22.348\n",
       "onsite_parking    -397.3850     31.260    -12.712      0.000    -458.659    -336.111\n",
       "pool              -100.2538     33.889     -2.958      0.003    -166.682     -33.826\n",
       "fitness_center     158.6503     35.072      4.524      0.000      89.902     227.398\n",
       "elevator           239.8262     29.910      8.018      0.000     181.197     298.456\n",
       "kitchen_features    -6.0572      3.871     -1.565      0.118     -13.645       1.530\n",
       "security_system     33.8849     36.295      0.934      0.351     -37.259     105.029\n",
       "washer_dryer       188.1052     32.132      5.854      0.000     125.122     251.089\n",
       "internet            79.5963     32.476      2.451      0.014      15.939     143.254\n",
       "air_conditioning  -193.8760     31.165     -6.221      0.000    -254.965    -132.787\n",
       "furnished          492.6315     52.897      9.313      0.000     388.945     596.318\n",
       "Los Angeles        363.6750     39.560      9.193      0.000     286.131     441.219\n",
       "San Diego           66.2025     44.471      1.489      0.137     -20.968     153.373\n",
       "San Francisco      295.4805     55.346      5.339      0.000     186.992     403.969\n",
       "San Jose            35.8485     54.029      0.664      0.507     -70.058     141.755\n",
       "Oakland             26.5578     65.762      0.404      0.686    -102.346     155.462\n",
       "==============================================================================\n",
       "Omnibus:                    16707.800   Durbin-Watson:                   1.981\n",
       "Prob(Omnibus):                  0.000   Jarque-Bera (JB):         19447263.539\n",
       "Skew:                           7.986   Prob(JB):                         0.00\n",
       "Kurtosis:                     202.167   Cond. No.                     6.08e+03\n",
       "==============================================================================\n",
       "\n",
       "Notes:\n",
       "[1] R² is computed without centering (uncentered) since the model does not contain a constant.\n",
       "[2] Standard Errors assume that the covariance matrix of the errors is correctly specified.\n",
       "[3] The condition number is large, 6.08e+03. This might indicate that there are\n",
       "strong multicollinearity or other numerical problems.\n",
       "\"\"\""
      ]
     },
     "execution_count": 293,
     "metadata": {},
     "output_type": "execute_result"
    }
   ],
   "source": [
    "result_p = sm.OLS(y_train, X_train).fit()\n",
    "result_p.summary()"
   ]
  },
  {
   "cell_type": "code",
   "execution_count": 290,
   "metadata": {},
   "outputs": [
    {
     "data": {
      "text/plain": [
       "array([-2.19480497e+02,  1.15726250e+02,  1.20902878e+03,  3.41243202e+02,\n",
       "        1.04847906e+02, -3.43257822e+01, -1.31714897e+02,  2.64902118e+00,\n",
       "        8.10801911e+01,  8.27261733e+01,  7.89708192e-03,  1.26959104e+01,\n",
       "        9.03655370e+01,  4.55169143e+01, -8.10582110e+01,  1.27603094e+02,\n",
       "        1.12776980e+02,  1.60971844e+01,  8.46573697e+01,  1.38191289e+01,\n",
       "       -1.80474886e-01])"
      ]
     },
     "execution_count": 290,
     "metadata": {},
     "output_type": "execute_result"
    }
   ],
   "source": [
    "linear_regression.coef_"
   ]
  },
  {
   "cell_type": "code",
   "execution_count": 349,
   "metadata": {},
   "outputs": [
    {
     "data": {
      "text/plain": [
       "150.0"
      ]
     },
     "execution_count": 349,
     "metadata": {},
     "output_type": "execute_result"
    }
   ],
   "source": [
    "# Ridge Regression\n",
    "alphas = np.linspace(150, 300, 1000)\n",
    "scaler = StandardScaler()\n",
    "X_std = scaler.fit_transform(X_train)\n",
    "regr_cv = RidgeCV(alphas=alphas)\n",
    "model_cv = regr_cv.fit(X_std, y_train)\n",
    "model_cv.alpha_"
   ]
  },
  {
   "cell_type": "code",
   "execution_count": 350,
   "metadata": {},
   "outputs": [
    {
     "data": {
      "text/plain": [
       "1427.309531146673"
      ]
     },
     "execution_count": 350,
     "metadata": {},
     "output_type": "execute_result"
    }
   ],
   "source": [
    "ridge_regression = Ridge(alpha = 150)\n",
    "cross_val(X_train, y_train, k = 10, regression = ridge_regression)"
   ]
  },
  {
   "cell_type": "code",
   "execution_count": 351,
   "metadata": {},
   "outputs": [
    {
     "data": {
      "text/plain": [
       "1432.1236892534432"
      ]
     },
     "execution_count": 351,
     "metadata": {},
     "output_type": "execute_result"
    }
   ],
   "source": [
    "final_testing(X_train, X_test, y_train, y_test, ridge_regression)"
   ]
  },
  {
   "cell_type": "code",
   "execution_count": 201,
   "metadata": {},
   "outputs": [
    {
     "name": "stdout",
     "output_type": "stream",
     "text": [
      "Fitting 5 folds for each of 90 candidates, totalling 450 fits\n"
     ]
    },
    {
     "name": "stderr",
     "output_type": "stream",
     "text": [
      "[Parallel(n_jobs=-1)]: Using backend LokyBackend with 6 concurrent workers.\n",
      "[Parallel(n_jobs=-1)]: Done 100 tasks      | elapsed:    0.3s\n"
     ]
    },
    {
     "name": "stdout",
     "output_type": "stream",
     "text": [
      "best parameters: {'max_depth': None, 'max_features': None, 'min_samples_leaf': 17, 'min_samples_split': 2, 'random_state': 1}\n"
     ]
    },
    {
     "name": "stderr",
     "output_type": "stream",
     "text": [
      "[Parallel(n_jobs=-1)]: Done 450 out of 450 | elapsed:    1.1s finished\n"
     ]
    }
   ],
   "source": [
    "# Decision Tree\n",
    "dt_grid = {'max_depth': [3, None],\n",
    "            'max_features': ['sqrt', 'log2', None],\n",
    "            'min_samples_split': [1, 2, 4],\n",
    "            'min_samples_leaf': [10, 12, 15, 17, 20],\n",
    "            'random_state': [1]}\n",
    "\n",
    "dt_gridsearch = GridSearchCV(DecisionTreeRegressor(),\n",
    "                         dt_grid,\n",
    "                             n_jobs=-1,\n",
    "                             verbose=True,\n",
    "                             scoring='neg_mean_squared_error')\n",
    "dt_gridsearch.fit(X_train, y_train)\n",
    "\n",
    "print(\"best parameters:\", dt_gridsearch.best_params_)\n",
    "\n",
    "best_dt_model = dt_gridsearch.best_estimator_"
   ]
  },
  {
   "cell_type": "code",
   "execution_count": 352,
   "metadata": {},
   "outputs": [],
   "source": [
    "dt_model = DecisionTreeRegressor(max_depth=None,max_features=None, min_samples_leaf=17, min_samples_split=2,random_state=1)"
   ]
  },
  {
   "cell_type": "code",
   "execution_count": 353,
   "metadata": {},
   "outputs": [
    {
     "data": {
      "text/plain": [
       "1334.521890007573"
      ]
     },
     "execution_count": 353,
     "metadata": {},
     "output_type": "execute_result"
    }
   ],
   "source": [
    "cross_val(X_train, y_train, k = 10, regression = dt_model)"
   ]
  },
  {
   "cell_type": "code",
   "execution_count": 354,
   "metadata": {},
   "outputs": [
    {
     "data": {
      "text/plain": [
       "1379.8405927222498"
      ]
     },
     "execution_count": 354,
     "metadata": {},
     "output_type": "execute_result"
    }
   ],
   "source": [
    "final_testing(X_train, X_test, y_train, y_test, dt_model)"
   ]
  },
  {
   "cell_type": "code",
   "execution_count": 219,
   "metadata": {},
   "outputs": [
    {
     "name": "stdout",
     "output_type": "stream",
     "text": [
      "Fitting 5 folds for each of 324 candidates, totalling 1620 fits\n"
     ]
    },
    {
     "name": "stderr",
     "output_type": "stream",
     "text": [
      "[Parallel(n_jobs=-1)]: Using backend LokyBackend with 6 concurrent workers.\n",
      "[Parallel(n_jobs=-1)]: Done  38 tasks      | elapsed:    2.2s\n",
      "[Parallel(n_jobs=-1)]: Done 188 tasks      | elapsed:   10.2s\n",
      "[Parallel(n_jobs=-1)]: Done 438 tasks      | elapsed:   39.9s\n",
      "[Parallel(n_jobs=-1)]: Done 788 tasks      | elapsed:  1.9min\n",
      "[Parallel(n_jobs=-1)]: Done 1238 tasks      | elapsed:  2.8min\n",
      "[Parallel(n_jobs=-1)]: Done 1620 out of 1620 | elapsed:  4.8min finished\n"
     ]
    },
    {
     "name": "stdout",
     "output_type": "stream",
     "text": [
      "best parameters: {'bootstrap': False, 'max_depth': None, 'max_features': 'sqrt', 'min_samples_leaf': 1, 'min_samples_split': 4, 'n_estimators': 100, 'random_state': 1}\n"
     ]
    }
   ],
   "source": [
    "# Random Forest\n",
    "\n",
    "random_forest_grid = {'max_depth': [5, None],\n",
    "                      'max_features': ['sqrt', 'log2', None],\n",
    "                      'min_samples_split': [2, 4, 6],\n",
    "                      'min_samples_leaf': [1, 2, 4],\n",
    "                      'bootstrap': [True, False],\n",
    "                      'n_estimators': [80, 100, 120],\n",
    "                      'random_state': [1]}\n",
    "\n",
    "rf_gridsearch = GridSearchCV(RandomForestRegressor(),\n",
    "                             random_forest_grid,\n",
    "                             n_jobs=-1,\n",
    "                             verbose=True,\n",
    "                             scoring='neg_mean_squared_error')\n",
    "rf_gridsearch.fit(X_train, y_train)\n",
    "\n",
    "print(\"best parameters:\", rf_gridsearch.best_params_)\n",
    "\n",
    "best_rf_model = rf_gridsearch.best_estimator_"
   ]
  },
  {
   "cell_type": "code",
   "execution_count": 355,
   "metadata": {},
   "outputs": [],
   "source": [
    "rf_model = RandomForestRegressor(n_estimators=100,max_depth=None,min_samples_leaf=1,min_samples_split=4,random_state=1)\n"
   ]
  },
  {
   "cell_type": "code",
   "execution_count": 356,
   "metadata": {},
   "outputs": [
    {
     "data": {
      "text/plain": [
       "1111.9854981063997"
      ]
     },
     "execution_count": 356,
     "metadata": {},
     "output_type": "execute_result"
    }
   ],
   "source": [
    "cross_val(X_train, y_train, k = 10, regression = rf_model)"
   ]
  },
  {
   "cell_type": "code",
   "execution_count": 357,
   "metadata": {},
   "outputs": [
    {
     "data": {
      "text/plain": [
       "1189.3572058694456"
      ]
     },
     "execution_count": 357,
     "metadata": {},
     "output_type": "execute_result"
    }
   ],
   "source": [
    "final_testing(X_train, X_test,y_train, y_test, rf_model)"
   ]
  },
  {
   "cell_type": "code",
   "execution_count": 224,
   "metadata": {},
   "outputs": [
    {
     "name": "stdout",
     "output_type": "stream",
     "text": [
      "Fitting 5 folds for each of 192 candidates, totalling 960 fits\n"
     ]
    },
    {
     "name": "stderr",
     "output_type": "stream",
     "text": [
      "[Parallel(n_jobs=-1)]: Using backend LokyBackend with 6 concurrent workers.\n",
      "[Parallel(n_jobs=-1)]: Done  92 tasks      | elapsed:    1.7s\n",
      "[Parallel(n_jobs=-1)]: Done 340 tasks      | elapsed:   19.3s\n",
      "[Parallel(n_jobs=-1)]: Done 726 tasks      | elapsed:   54.7s\n",
      "[Parallel(n_jobs=-1)]: Done 960 out of 960 | elapsed:  1.4min finished\n"
     ]
    },
    {
     "name": "stdout",
     "output_type": "stream",
     "text": [
      "best parameters: {'learning_rate': 0.1, 'max_depth': None, 'max_features': 'sqrt', 'min_samples_leaf': 4, 'n_estimators': 40, 'random_state': 1}\n"
     ]
    }
   ],
   "source": [
    "# Gradient Boosting\n",
    "boost_grid = {'learning_rate': [0.01, 0.03, 0.1, 0.3],\n",
    "              'max_depth': [3, None],\n",
    "              'max_features': ['sqrt', 'log2', None],\n",
    "              'min_samples_leaf': [ 2, 4],\n",
    "              'n_estimators': [10, 20, 40, 80],\n",
    "              'random_state': [1]}\n",
    "\n",
    "gb_gridsearch = GridSearchCV(GradientBoostingRegressor(n_estimators=1000),\n",
    "                             boost_grid,\n",
    "                             n_jobs=-1,\n",
    "                             verbose=True,\n",
    "                             scoring='neg_mean_squared_error')\n",
    "gb_gridsearch.fit(X_train, y_train)\n",
    "\n",
    "print(\"best parameters:\", gb_gridsearch.best_params_)\n",
    "\n",
    "best_gb_model = gb_gridsearch.best_estimator_"
   ]
  },
  {
   "cell_type": "code",
   "execution_count": 360,
   "metadata": {},
   "outputs": [],
   "source": [
    "gb_model = GradientBoostingRegressor(learning_rate=0.1, max_depth=None, max_features='sqrt', min_samples_leaf=4, n_estimators=40, random_state=1)"
   ]
  },
  {
   "cell_type": "code",
   "execution_count": 361,
   "metadata": {},
   "outputs": [
    {
     "data": {
      "text/plain": [
       "1051.7530954017755"
      ]
     },
     "execution_count": 361,
     "metadata": {},
     "output_type": "execute_result"
    }
   ],
   "source": [
    "cross_val(X_train, y_train, k = 10, regression = gb_model)"
   ]
  },
  {
   "cell_type": "code",
   "execution_count": 362,
   "metadata": {},
   "outputs": [
    {
     "data": {
      "text/plain": [
       "1144.7783684868539"
      ]
     },
     "execution_count": 362,
     "metadata": {},
     "output_type": "execute_result"
    }
   ],
   "source": [
    "final_testing(X_train, X_test, y_train, y_test, gb_model)"
   ]
  },
  {
   "cell_type": "code",
   "execution_count": null,
   "metadata": {},
   "outputs": [],
   "source": []
  },
  {
   "cell_type": "code",
   "execution_count": 359,
   "metadata": {},
   "outputs": [
    {
     "data": {
      "text/plain": [
       "1888.6808441884941"
      ]
     },
     "execution_count": 359,
     "metadata": {},
     "output_type": "execute_result"
    }
   ],
   "source": [
    "# Baseline final test score\n",
    "y_mean_pred = np.full(y_test.shape, np.mean(y_train))\n",
    "np.sqrt(mean_squared_error(y_test,y_mean_pred))"
   ]
  },
  {
   "cell_type": "code",
   "execution_count": null,
   "metadata": {},
   "outputs": [],
   "source": []
  },
  {
   "cell_type": "code",
   "execution_count": null,
   "metadata": {},
   "outputs": [],
   "source": []
  },
  {
   "cell_type": "code",
   "execution_count": 278,
   "metadata": {},
   "outputs": [
    {
     "data": {
      "image/png": "[encoded data removed]",
      "text/plain": [
       "<Figure size 1008x576 with 1 Axes>"
      ]
     },
     "metadata": {},
     "output_type": "display_data"
    }
   ],
   "source": [
    "feat_scores = pd.DataFrame({'Fraction of Samples Affected' : gb_model.feature_importances_},\n",
    "                           index=X_train.columns)\n",
    "feat_scores = feat_scores.sort_values(by='Fraction of Samples Affected')\n",
    "feat_scores.plot(kind='barh', figsize = (14,8));"
   ]
  },
  {
   "cell_type": "code",
   "execution_count": 282,
   "metadata": {},
   "outputs": [
    {
     "data": {
      "text/plain": [
       "<AxesSubplot:>"
      ]
     },
     "execution_count": 282,
     "metadata": {},
     "output_type": "execute_result"
    },
    {
     "data": {
      "image/png": "[encoded data removed]",
      "text/plain": [
       "<Figure size 1008x720 with 1 Axes>"
      ]
     },
     "metadata": {},
     "output_type": "display_data"
    }
   ],
   "source": [
    "from sklearn.model_selection import ShuffleSplit\n",
    "from sklearn.metrics import r2_score\n",
    "from collections import defaultdict\n",
    "\n",
    "scores = defaultdict(list)\n",
    "\n",
    "names = X_train.columns\n",
    " \n",
    "# crossvalidate the scores on a number of \n",
    "# different random splits of the data\n",
    "splitter = ShuffleSplit(100, test_size=.3)\n",
    "\n",
    "for train_idx, test_idx in splitter.split(X_train, y_train):\n",
    "    gb_model.fit(X_train.values[train_idx], y_train.values[train_idx])\n",
    "    acc = r2_score(y_train.values[test_idx], gb_model.predict(X_train.values[test_idx]))\n",
    "    for i in range(X_train.shape[1]):\n",
    "        X_t = X_train.values[test_idx].copy()\n",
    "        np.random.shuffle(X_t[:, i])\n",
    "        shuff_acc = r2_score(y_train.values[test_idx], gb_model.predict(X_t))\n",
    "        scores[names[i]].append((acc-shuff_acc)/acc)\n",
    "\n",
    "score_series = pd.DataFrame(scores).mean()\n",
    "scores = pd.DataFrame({'Mean Decrease Accuracy' : score_series})\n",
    "scores.sort_values(by='Mean Decrease Accuracy').plot(kind='barh', figsize = (14,10))"
   ]
  },
  {
   "cell_type": "code",
   "execution_count": null,
   "metadata": {},
   "outputs": [],
   "source": []
  },
  {
   "cell_type": "code",
   "execution_count": null,
   "metadata": {},
   "outputs": [],
   "source": [
    "#show that 3 bedrooms and above are crazy and could affect the performance"
   ]
  },
  {
   "cell_type": "code",
   "execution_count": 309,
   "metadata": {},
   "outputs": [],
   "source": [
    "# Try dropping all the data with bed > 3\n",
    "X_0to3 = data1[[ 'n_bed', 'n_bath',\n",
    "       'sq_ft_updated', 'walkscore', 'allow_pet', 'minimum_lease',\n",
    "       'onsite_parking', 'pool', 'fitness_center', 'elevator',\n",
    "       'kitchen_features', 'security_system', 'washer_dryer', 'internet',\n",
    "       'air_conditioning', 'furnished', 'Los Angeles', 'San Diego',\n",
    "       'San Francisco', 'San Jose', 'Oakland']][data1.n_bed < 4]\n",
    "\n",
    "y_0to3 = data1['rent_updated'][data1.n_bed < 4]\n",
    "\n",
    "X_train1, X_test1, y_train1, y_test1 = train_test_split(X_0to3, y_0to3)"
   ]
  },
  {
   "cell_type": "code",
   "execution_count": 310,
   "metadata": {},
   "outputs": [
    {
     "data": {
      "text/plain": [
       "1716.0731839229293"
      ]
     },
     "execution_count": 310,
     "metadata": {},
     "output_type": "execute_result"
    }
   ],
   "source": [
    "# Baseline\n",
    "cross_val(X_train1, y_train1, k = 10, regression = None)"
   ]
  },
  {
   "cell_type": "code",
   "execution_count": 312,
   "metadata": {},
   "outputs": [
    {
     "data": {
      "text/plain": [
       "1335.3860960282404"
      ]
     },
     "execution_count": 312,
     "metadata": {},
     "output_type": "execute_result"
    }
   ],
   "source": [
    "# Linear Regression\n",
    "linear_regression = LinearRegression()\n",
    "cross_val(X_train1, y_train1, k = 10, regression = linear_regression)"
   ]
  },
  {
   "cell_type": "code",
   "execution_count": 314,
   "metadata": {},
   "outputs": [
    {
     "data": {
      "text/plain": [
       "Index(['n_bed', 'n_bath', 'sq_ft_updated', 'walkscore', 'allow_pet',\n",
       "       'minimum_lease', 'onsite_parking', 'pool', 'fitness_center', 'elevator',\n",
       "       'kitchen_features', 'security_system', 'washer_dryer', 'internet',\n",
       "       'air_conditioning', 'furnished', 'Los Angeles', 'San Diego',\n",
       "       'San Francisco', 'San Jose', 'Oakland'],\n",
       "      dtype='object')"
      ]
     },
     "execution_count": 314,
     "metadata": {},
     "output_type": "execute_result"
    }
   ],
   "source": [
    "X_train1.columns"
   ]
  },
  {
   "cell_type": "code",
   "execution_count": 332,
   "metadata": {},
   "outputs": [],
   "source": [
    "X_train1_updated = X_train1[['sq_ft_updated',  'walkscore', 'allow_pet',\n",
    "       'minimum_lease', 'onsite_parking', 'fitness_center', 'elevator',\n",
    "        'washer_dryer', \n",
    "       'air_conditioning', 'furnished', 'Los Angeles', \n",
    "       'San Francisco', ]]"
   ]
  },
  {
   "cell_type": "code",
   "execution_count": 333,
   "metadata": {},
   "outputs": [
    {
     "data": {
      "text/html": [
       "<table class=\"simpletable\">\n",
       "<caption>OLS Regression Results</caption>\n",
       "<tr>\n",
       "  <th>Dep. Variable:</th>      <td>rent_updated</td>   <th>  R-squared (uncentered):</th>      <td>   0.855</td> \n",
       "</tr>\n",
       "<tr>\n",
       "  <th>Model:</th>                   <td>OLS</td>       <th>  Adj. R-squared (uncentered):</th> <td>   0.855</td> \n",
       "</tr>\n",
       "<tr>\n",
       "  <th>Method:</th>             <td>Least Squares</td>  <th>  F-statistic:       </th>          <td>   5636.</td> \n",
       "</tr>\n",
       "<tr>\n",
       "  <th>Date:</th>             <td>Thu, 01 Apr 2021</td> <th>  Prob (F-statistic):</th>           <td>  0.00</td>  \n",
       "</tr>\n",
       "<tr>\n",
       "  <th>Time:</th>                 <td>11:11:34</td>     <th>  Log-Likelihood:    </th>          <td> -98823.</td> \n",
       "</tr>\n",
       "<tr>\n",
       "  <th>No. Observations:</th>      <td> 11467</td>      <th>  AIC:               </th>          <td>1.977e+05</td>\n",
       "</tr>\n",
       "<tr>\n",
       "  <th>Df Residuals:</th>          <td> 11455</td>      <th>  BIC:               </th>          <td>1.978e+05</td>\n",
       "</tr>\n",
       "<tr>\n",
       "  <th>Df Model:</th>              <td>    12</td>      <th>                     </th>              <td> </td>    \n",
       "</tr>\n",
       "<tr>\n",
       "  <th>Covariance Type:</th>      <td>nonrobust</td>    <th>                     </th>              <td> </td>    \n",
       "</tr>\n",
       "</table>\n",
       "<table class=\"simpletable\">\n",
       "<tr>\n",
       "          <td></td>            <th>coef</th>     <th>std err</th>      <th>t</th>      <th>P>|t|</th>  <th>[0.025</th>    <th>0.975]</th>  \n",
       "</tr>\n",
       "<tr>\n",
       "  <th>sq_ft_updated</th>    <td>    2.6232</td> <td>    0.033</td> <td>   78.720</td> <td> 0.000</td> <td>    2.558</td> <td>    2.689</td>\n",
       "</tr>\n",
       "<tr>\n",
       "  <th>walkscore</th>        <td>   10.0957</td> <td>    0.497</td> <td>   20.327</td> <td> 0.000</td> <td>    9.122</td> <td>   11.069</td>\n",
       "</tr>\n",
       "<tr>\n",
       "  <th>allow_pet</th>        <td>  154.3667</td> <td>   37.808</td> <td>    4.083</td> <td> 0.000</td> <td>   80.257</td> <td>  228.477</td>\n",
       "</tr>\n",
       "<tr>\n",
       "  <th>minimum_lease</th>    <td>  -25.6148</td> <td>    2.921</td> <td>   -8.770</td> <td> 0.000</td> <td>  -31.340</td> <td>  -19.889</td>\n",
       "</tr>\n",
       "<tr>\n",
       "  <th>onsite_parking</th>   <td> -437.9832</td> <td>   28.681</td> <td>  -15.271</td> <td> 0.000</td> <td> -494.203</td> <td> -381.763</td>\n",
       "</tr>\n",
       "<tr>\n",
       "  <th>fitness_center</th>   <td>  171.1037</td> <td>   31.488</td> <td>    5.434</td> <td> 0.000</td> <td>  109.383</td> <td>  232.825</td>\n",
       "</tr>\n",
       "<tr>\n",
       "  <th>elevator</th>         <td>  255.1444</td> <td>   28.341</td> <td>    9.003</td> <td> 0.000</td> <td>  199.590</td> <td>  310.698</td>\n",
       "</tr>\n",
       "<tr>\n",
       "  <th>washer_dryer</th>     <td>  220.9595</td> <td>   30.565</td> <td>    7.229</td> <td> 0.000</td> <td>  161.047</td> <td>  280.872</td>\n",
       "</tr>\n",
       "<tr>\n",
       "  <th>air_conditioning</th> <td> -181.2001</td> <td>   29.136</td> <td>   -6.219</td> <td> 0.000</td> <td> -238.311</td> <td> -124.089</td>\n",
       "</tr>\n",
       "<tr>\n",
       "  <th>furnished</th>        <td>  387.3381</td> <td>   53.962</td> <td>    7.178</td> <td> 0.000</td> <td>  281.564</td> <td>  493.112</td>\n",
       "</tr>\n",
       "<tr>\n",
       "  <th>Los Angeles</th>      <td>  424.4025</td> <td>   36.875</td> <td>   11.509</td> <td> 0.000</td> <td>  352.122</td> <td>  496.683</td>\n",
       "</tr>\n",
       "<tr>\n",
       "  <th>San Francisco</th>    <td>  405.7430</td> <td>   50.869</td> <td>    7.976</td> <td> 0.000</td> <td>  306.032</td> <td>  505.454</td>\n",
       "</tr>\n",
       "</table>\n",
       "<table class=\"simpletable\">\n",
       "<tr>\n",
       "  <th>Omnibus:</th>       <td>17874.944</td> <th>  Durbin-Watson:     </th>   <td>   2.005</td>  \n",
       "</tr>\n",
       "<tr>\n",
       "  <th>Prob(Omnibus):</th>  <td> 0.000</td>   <th>  Jarque-Bera (JB):  </th> <td>24450157.237</td>\n",
       "</tr>\n",
       "<tr>\n",
       "  <th>Skew:</th>           <td> 9.545</td>   <th>  Prob(JB):          </th>   <td>    0.00</td>  \n",
       "</tr>\n",
       "<tr>\n",
       "  <th>Kurtosis:</th>       <td>228.408</td>  <th>  Cond. No.          </th>   <td>4.34e+03</td>  \n",
       "</tr>\n",
       "</table><br/><br/>Notes:<br/>[1] R² is computed without centering (uncentered) since the model does not contain a constant.<br/>[2] Standard Errors assume that the covariance matrix of the errors is correctly specified.<br/>[3] The condition number is large, 4.34e+03. This might indicate that there are<br/>strong multicollinearity or other numerical problems."
      ],
      "text/plain": [
       "<class 'statsmodels.iolib.summary.Summary'>\n",
       "\"\"\"\n",
       "                                 OLS Regression Results                                \n",
       "=======================================================================================\n",
       "Dep. Variable:           rent_updated   R-squared (uncentered):                   0.855\n",
       "Model:                            OLS   Adj. R-squared (uncentered):              0.855\n",
       "Method:                 Least Squares   F-statistic:                              5636.\n",
       "Date:                Thu, 01 Apr 2021   Prob (F-statistic):                        0.00\n",
       "Time:                        11:11:34   Log-Likelihood:                         -98823.\n",
       "No. Observations:               11467   AIC:                                  1.977e+05\n",
       "Df Residuals:                   11455   BIC:                                  1.978e+05\n",
       "Df Model:                          12                                                  \n",
       "Covariance Type:            nonrobust                                                  \n",
       "====================================================================================\n",
       "                       coef    std err          t      P>|t|      [0.025      0.975]\n",
       "------------------------------------------------------------------------------------\n",
       "sq_ft_updated        2.6232      0.033     78.720      0.000       2.558       2.689\n",
       "walkscore           10.0957      0.497     20.327      0.000       9.122      11.069\n",
       "allow_pet          154.3667     37.808      4.083      0.000      80.257     228.477\n",
       "minimum_lease      -25.6148      2.921     -8.770      0.000     -31.340     -19.889\n",
       "onsite_parking    -437.9832     28.681    -15.271      0.000    -494.203    -381.763\n",
       "fitness_center     171.1037     31.488      5.434      0.000     109.383     232.825\n",
       "elevator           255.1444     28.341      9.003      0.000     199.590     310.698\n",
       "washer_dryer       220.9595     30.565      7.229      0.000     161.047     280.872\n",
       "air_conditioning  -181.2001     29.136     -6.219      0.000    -238.311    -124.089\n",
       "furnished          387.3381     53.962      7.178      0.000     281.564     493.112\n",
       "Los Angeles        424.4025     36.875     11.509      0.000     352.122     496.683\n",
       "San Francisco      405.7430     50.869      7.976      0.000     306.032     505.454\n",
       "==============================================================================\n",
       "Omnibus:                    17874.944   Durbin-Watson:                   2.005\n",
       "Prob(Omnibus):                  0.000   Jarque-Bera (JB):         24450157.237\n",
       "Skew:                           9.545   Prob(JB):                         0.00\n",
       "Kurtosis:                     228.408   Cond. No.                     4.34e+03\n",
       "==============================================================================\n",
       "\n",
       "Notes:\n",
       "[1] R² is computed without centering (uncentered) since the model does not contain a constant.\n",
       "[2] Standard Errors assume that the covariance matrix of the errors is correctly specified.\n",
       "[3] The condition number is large, 4.34e+03. This might indicate that there are\n",
       "strong multicollinearity or other numerical problems.\n",
       "\"\"\""
      ]
     },
     "execution_count": 333,
     "metadata": {},
     "output_type": "execute_result"
    }
   ],
   "source": [
    "result_p = sm.OLS(y_train1, X_train1_updated).fit()\n",
    "result_p.summary()"
   ]
  },
  {
   "cell_type": "code",
   "execution_count": 334,
   "metadata": {},
   "outputs": [
    {
     "data": {
      "text/plain": [
       "1336.7549113438356"
      ]
     },
     "execution_count": 334,
     "metadata": {},
     "output_type": "execute_result"
    }
   ],
   "source": [
    "cross_val(X_train1_updated, y_train1, k = 10, regression = linear_regression)"
   ]
  },
  {
   "cell_type": "code",
   "execution_count": 313,
   "metadata": {},
   "outputs": [
    {
     "data": {
      "text/html": [
       "<table class=\"simpletable\">\n",
       "<caption>OLS Regression Results</caption>\n",
       "<tr>\n",
       "  <th>Dep. Variable:</th>      <td>rent_updated</td>   <th>  R-squared (uncentered):</th>      <td>   0.856</td> \n",
       "</tr>\n",
       "<tr>\n",
       "  <th>Model:</th>                   <td>OLS</td>       <th>  Adj. R-squared (uncentered):</th> <td>   0.856</td> \n",
       "</tr>\n",
       "<tr>\n",
       "  <th>Method:</th>             <td>Least Squares</td>  <th>  F-statistic:       </th>          <td>   3237.</td> \n",
       "</tr>\n",
       "<tr>\n",
       "  <th>Date:</th>             <td>Thu, 01 Apr 2021</td> <th>  Prob (F-statistic):</th>           <td>  0.00</td>  \n",
       "</tr>\n",
       "<tr>\n",
       "  <th>Time:</th>                 <td>10:36:19</td>     <th>  Log-Likelihood:    </th>          <td> -98794.</td> \n",
       "</tr>\n",
       "<tr>\n",
       "  <th>No. Observations:</th>      <td> 11467</td>      <th>  AIC:               </th>          <td>1.976e+05</td>\n",
       "</tr>\n",
       "<tr>\n",
       "  <th>Df Residuals:</th>          <td> 11446</td>      <th>  BIC:               </th>          <td>1.978e+05</td>\n",
       "</tr>\n",
       "<tr>\n",
       "  <th>Df Model:</th>              <td>    21</td>      <th>                     </th>              <td> </td>    \n",
       "</tr>\n",
       "<tr>\n",
       "  <th>Covariance Type:</th>      <td>nonrobust</td>    <th>                     </th>              <td> </td>    \n",
       "</tr>\n",
       "</table>\n",
       "<table class=\"simpletable\">\n",
       "<tr>\n",
       "          <td></td>            <th>coef</th>     <th>std err</th>      <th>t</th>      <th>P>|t|</th>  <th>[0.025</th>    <th>0.975]</th>  \n",
       "</tr>\n",
       "<tr>\n",
       "  <th>n_bed</th>            <td> -145.6462</td> <td>   26.447</td> <td>   -5.507</td> <td> 0.000</td> <td> -197.487</td> <td>  -93.806</td>\n",
       "</tr>\n",
       "<tr>\n",
       "  <th>n_bath</th>           <td>  223.5453</td> <td>   38.100</td> <td>    5.867</td> <td> 0.000</td> <td>  148.862</td> <td>  298.228</td>\n",
       "</tr>\n",
       "<tr>\n",
       "  <th>sq_ft_updated</th>    <td>    2.6138</td> <td>    0.060</td> <td>   43.722</td> <td> 0.000</td> <td>    2.497</td> <td>    2.731</td>\n",
       "</tr>\n",
       "<tr>\n",
       "  <th>walkscore</th>        <td>    9.5560</td> <td>    0.522</td> <td>   18.300</td> <td> 0.000</td> <td>    8.532</td> <td>   10.580</td>\n",
       "</tr>\n",
       "<tr>\n",
       "  <th>allow_pet</th>        <td>  152.1359</td> <td>   38.981</td> <td>    3.903</td> <td> 0.000</td> <td>   75.727</td> <td>  228.545</td>\n",
       "</tr>\n",
       "<tr>\n",
       "  <th>minimum_lease</th>    <td>  -26.1529</td> <td>    2.937</td> <td>   -8.905</td> <td> 0.000</td> <td>  -31.910</td> <td>  -20.396</td>\n",
       "</tr>\n",
       "<tr>\n",
       "  <th>onsite_parking</th>   <td> -421.8622</td> <td>   31.197</td> <td>  -13.523</td> <td> 0.000</td> <td> -483.014</td> <td> -360.711</td>\n",
       "</tr>\n",
       "<tr>\n",
       "  <th>pool</th>             <td> -106.1940</td> <td>   33.978</td> <td>   -3.125</td> <td> 0.002</td> <td> -172.796</td> <td>  -39.592</td>\n",
       "</tr>\n",
       "<tr>\n",
       "  <th>fitness_center</th>   <td>  195.4952</td> <td>   34.799</td> <td>    5.618</td> <td> 0.000</td> <td>  127.284</td> <td>  263.707</td>\n",
       "</tr>\n",
       "<tr>\n",
       "  <th>elevator</th>         <td>  232.8344</td> <td>   29.672</td> <td>    7.847</td> <td> 0.000</td> <td>  174.673</td> <td>  290.996</td>\n",
       "</tr>\n",
       "<tr>\n",
       "  <th>kitchen_features</th> <td>    0.8791</td> <td>    3.854</td> <td>    0.228</td> <td> 0.820</td> <td>   -6.675</td> <td>    8.433</td>\n",
       "</tr>\n",
       "<tr>\n",
       "  <th>security_system</th>  <td>  -15.5945</td> <td>   35.964</td> <td>   -0.434</td> <td> 0.665</td> <td>  -86.090</td> <td>   54.901</td>\n",
       "</tr>\n",
       "<tr>\n",
       "  <th>washer_dryer</th>     <td>  204.1530</td> <td>   31.821</td> <td>    6.416</td> <td> 0.000</td> <td>  141.779</td> <td>  266.528</td>\n",
       "</tr>\n",
       "<tr>\n",
       "  <th>internet</th>         <td>   35.8902</td> <td>   32.378</td> <td>    1.108</td> <td> 0.268</td> <td>  -27.577</td> <td>   99.357</td>\n",
       "</tr>\n",
       "<tr>\n",
       "  <th>air_conditioning</th> <td> -183.6203</td> <td>   30.775</td> <td>   -5.967</td> <td> 0.000</td> <td> -243.945</td> <td> -123.296</td>\n",
       "</tr>\n",
       "<tr>\n",
       "  <th>furnished</th>        <td>  361.5286</td> <td>   54.825</td> <td>    6.594</td> <td> 0.000</td> <td>  254.062</td> <td>  468.995</td>\n",
       "</tr>\n",
       "<tr>\n",
       "  <th>Los Angeles</th>      <td>  409.8039</td> <td>   39.128</td> <td>   10.473</td> <td> 0.000</td> <td>  333.107</td> <td>  486.501</td>\n",
       "</tr>\n",
       "<tr>\n",
       "  <th>San Diego</th>        <td>  -33.6456</td> <td>   44.589</td> <td>   -0.755</td> <td> 0.451</td> <td> -121.048</td> <td>   53.756</td>\n",
       "</tr>\n",
       "<tr>\n",
       "  <th>San Francisco</th>    <td>  356.3387</td> <td>   54.803</td> <td>    6.502</td> <td> 0.000</td> <td>  248.915</td> <td>  463.763</td>\n",
       "</tr>\n",
       "<tr>\n",
       "  <th>San Jose</th>         <td>   40.3800</td> <td>   54.079</td> <td>    0.747</td> <td> 0.455</td> <td>  -65.625</td> <td>  146.385</td>\n",
       "</tr>\n",
       "<tr>\n",
       "  <th>Oakland</th>          <td>   31.1796</td> <td>   64.796</td> <td>    0.481</td> <td> 0.630</td> <td>  -95.832</td> <td>  158.191</td>\n",
       "</tr>\n",
       "</table>\n",
       "<table class=\"simpletable\">\n",
       "<tr>\n",
       "  <th>Omnibus:</th>       <td>17844.398</td> <th>  Durbin-Watson:     </th>   <td>   2.004</td>  \n",
       "</tr>\n",
       "<tr>\n",
       "  <th>Prob(Omnibus):</th>  <td> 0.000</td>   <th>  Jarque-Bera (JB):  </th> <td>24413559.075</td>\n",
       "</tr>\n",
       "<tr>\n",
       "  <th>Skew:</th>           <td> 9.509</td>   <th>  Prob(JB):          </th>   <td>    0.00</td>  \n",
       "</tr>\n",
       "<tr>\n",
       "  <th>Kurtosis:</th>       <td>228.244</td>  <th>  Cond. No.          </th>   <td>5.73e+03</td>  \n",
       "</tr>\n",
       "</table><br/><br/>Notes:<br/>[1] R² is computed without centering (uncentered) since the model does not contain a constant.<br/>[2] Standard Errors assume that the covariance matrix of the errors is correctly specified.<br/>[3] The condition number is large, 5.73e+03. This might indicate that there are<br/>strong multicollinearity or other numerical problems."
      ],
      "text/plain": [
       "<class 'statsmodels.iolib.summary.Summary'>\n",
       "\"\"\"\n",
       "                                 OLS Regression Results                                \n",
       "=======================================================================================\n",
       "Dep. Variable:           rent_updated   R-squared (uncentered):                   0.856\n",
       "Model:                            OLS   Adj. R-squared (uncentered):              0.856\n",
       "Method:                 Least Squares   F-statistic:                              3237.\n",
       "Date:                Thu, 01 Apr 2021   Prob (F-statistic):                        0.00\n",
       "Time:                        10:36:19   Log-Likelihood:                         -98794.\n",
       "No. Observations:               11467   AIC:                                  1.976e+05\n",
       "Df Residuals:                   11446   BIC:                                  1.978e+05\n",
       "Df Model:                          21                                                  \n",
       "Covariance Type:            nonrobust                                                  \n",
       "====================================================================================\n",
       "                       coef    std err          t      P>|t|      [0.025      0.975]\n",
       "------------------------------------------------------------------------------------\n",
       "n_bed             -145.6462     26.447     -5.507      0.000    -197.487     -93.806\n",
       "n_bath             223.5453     38.100      5.867      0.000     148.862     298.228\n",
       "sq_ft_updated        2.6138      0.060     43.722      0.000       2.497       2.731\n",
       "walkscore            9.5560      0.522     18.300      0.000       8.532      10.580\n",
       "allow_pet          152.1359     38.981      3.903      0.000      75.727     228.545\n",
       "minimum_lease      -26.1529      2.937     -8.905      0.000     -31.910     -20.396\n",
       "onsite_parking    -421.8622     31.197    -13.523      0.000    -483.014    -360.711\n",
       "pool              -106.1940     33.978     -3.125      0.002    -172.796     -39.592\n",
       "fitness_center     195.4952     34.799      5.618      0.000     127.284     263.707\n",
       "elevator           232.8344     29.672      7.847      0.000     174.673     290.996\n",
       "kitchen_features     0.8791      3.854      0.228      0.820      -6.675       8.433\n",
       "security_system    -15.5945     35.964     -0.434      0.665     -86.090      54.901\n",
       "washer_dryer       204.1530     31.821      6.416      0.000     141.779     266.528\n",
       "internet            35.8902     32.378      1.108      0.268     -27.577      99.357\n",
       "air_conditioning  -183.6203     30.775     -5.967      0.000    -243.945    -123.296\n",
       "furnished          361.5286     54.825      6.594      0.000     254.062     468.995\n",
       "Los Angeles        409.8039     39.128     10.473      0.000     333.107     486.501\n",
       "San Diego          -33.6456     44.589     -0.755      0.451    -121.048      53.756\n",
       "San Francisco      356.3387     54.803      6.502      0.000     248.915     463.763\n",
       "San Jose            40.3800     54.079      0.747      0.455     -65.625     146.385\n",
       "Oakland             31.1796     64.796      0.481      0.630     -95.832     158.191\n",
       "==============================================================================\n",
       "Omnibus:                    17844.398   Durbin-Watson:                   2.004\n",
       "Prob(Omnibus):                  0.000   Jarque-Bera (JB):         24413559.075\n",
       "Skew:                           9.509   Prob(JB):                         0.00\n",
       "Kurtosis:                     228.244   Cond. No.                     5.73e+03\n",
       "==============================================================================\n",
       "\n",
       "Notes:\n",
       "[1] R² is computed without centering (uncentered) since the model does not contain a constant.\n",
       "[2] Standard Errors assume that the covariance matrix of the errors is correctly specified.\n",
       "[3] The condition number is large, 5.73e+03. This might indicate that there are\n",
       "strong multicollinearity or other numerical problems.\n",
       "\"\"\""
      ]
     },
     "execution_count": 313,
     "metadata": {},
     "output_type": "execute_result"
    }
   ],
   "source": [
    "result_p = sm.OLS(y_train1, X_train1).fit()\n",
    "result_p.summary()"
   ]
  },
  {
   "cell_type": "code",
   "execution_count": 238,
   "metadata": {},
   "outputs": [
    {
     "data": {
      "text/plain": [
       "273.5735735735736"
      ]
     },
     "execution_count": 238,
     "metadata": {},
     "output_type": "execute_result"
    }
   ],
   "source": [
    "# Ridge Regression\n",
    "alphas = np.linspace(150, 300, 1000)\n",
    "scaler = StandardScaler()\n",
    "X_std = scaler.fit_transform(X_train)\n",
    "regr_cv = RidgeCV(alphas=alphas)\n",
    "model_cv = regr_cv.fit(X_std, y_train)\n",
    "model_cv.alpha_"
   ]
  },
  {
   "cell_type": "code",
   "execution_count": 239,
   "metadata": {},
   "outputs": [
    {
     "data": {
      "text/plain": [
       "1319.2446150639764"
      ]
     },
     "execution_count": 239,
     "metadata": {},
     "output_type": "execute_result"
    }
   ],
   "source": [
    "ridge_regression = Ridge(alpha = 274)\n",
    "cross_val(X_train, y_train, k = 10, regression = ridge_regression)"
   ]
  },
  {
   "cell_type": "code",
   "execution_count": 240,
   "metadata": {},
   "outputs": [
    {
     "name": "stdout",
     "output_type": "stream",
     "text": [
      "Fitting 5 folds for each of 90 candidates, totalling 450 fits\n"
     ]
    },
    {
     "name": "stderr",
     "output_type": "stream",
     "text": [
      "[Parallel(n_jobs=-1)]: Using backend LokyBackend with 6 concurrent workers.\n",
      "[Parallel(n_jobs=-1)]: Done  40 tasks      | elapsed:    2.1s\n"
     ]
    },
    {
     "name": "stdout",
     "output_type": "stream",
     "text": [
      "best parameters: {'max_depth': None, 'max_features': None, 'min_samples_leaf': 20, 'min_samples_split': 2, 'random_state': 1}\n"
     ]
    },
    {
     "name": "stderr",
     "output_type": "stream",
     "text": [
      "[Parallel(n_jobs=-1)]: Done 450 out of 450 | elapsed:    3.0s finished\n"
     ]
    }
   ],
   "source": [
    "# Decision Tree\n",
    "dt_grid = {'max_depth': [3, None],\n",
    "            'max_features': ['sqrt', 'log2', None],\n",
    "            'min_samples_split': [1, 2, 4],\n",
    "            'min_samples_leaf': [15, 20, 25, 30, 35],\n",
    "            'random_state': [1]}\n",
    "\n",
    "dt_gridsearch = GridSearchCV(DecisionTreeRegressor(),\n",
    "                         dt_grid,\n",
    "                             n_jobs=-1,\n",
    "                             verbose=True,\n",
    "                             scoring='neg_mean_squared_error')\n",
    "dt_gridsearch.fit(X_train, y_train)\n",
    "\n",
    "print(\"best parameters:\", dt_gridsearch.best_params_)\n",
    "\n",
    "best_dt_model = dt_gridsearch.best_estimator_"
   ]
  },
  {
   "cell_type": "code",
   "execution_count": 246,
   "metadata": {},
   "outputs": [
    {
     "data": {
      "text/plain": [
       "1238.7952782841057"
      ]
     },
     "execution_count": 246,
     "metadata": {},
     "output_type": "execute_result"
    }
   ],
   "source": [
    "cross_val(X_train, y_train, k = 10, regression = best_dt_model)"
   ]
  },
  {
   "cell_type": "code",
   "execution_count": 247,
   "metadata": {},
   "outputs": [
    {
     "name": "stdout",
     "output_type": "stream",
     "text": [
      "Fitting 5 folds for each of 216 candidates, totalling 1080 fits\n"
     ]
    },
    {
     "name": "stderr",
     "output_type": "stream",
     "text": [
      "[Parallel(n_jobs=-1)]: Using backend LokyBackend with 6 concurrent workers.\n",
      "[Parallel(n_jobs=-1)]: Done  38 tasks      | elapsed:    3.3s\n",
      "[Parallel(n_jobs=-1)]: Done 188 tasks      | elapsed:   12.2s\n",
      "[Parallel(n_jobs=-1)]: Done 438 tasks      | elapsed:   43.1s\n",
      "[Parallel(n_jobs=-1)]: Done 788 tasks      | elapsed:  1.7min\n",
      "[Parallel(n_jobs=-1)]: Done 1080 out of 1080 | elapsed:  3.0min finished\n"
     ]
    },
    {
     "name": "stdout",
     "output_type": "stream",
     "text": [
      "best parameters: {'bootstrap': False, 'max_depth': None, 'max_features': 'sqrt', 'min_samples_leaf': 2, 'min_samples_split': 2, 'n_estimators': 120, 'random_state': 1}\n"
     ]
    }
   ],
   "source": [
    "# Random Forest\n",
    "\n",
    "random_forest_grid = {'max_depth': [5, None],\n",
    "                      'max_features': ['sqrt', 'log2', None],\n",
    "                      'min_samples_split': [2, 4, 6],\n",
    "                      'min_samples_leaf': [2, 4],\n",
    "                      'bootstrap': [True, False],\n",
    "                      'n_estimators': [80, 100, 120],\n",
    "                      'random_state': [1]}\n",
    "\n",
    "rf_gridsearch = GridSearchCV(RandomForestRegressor(),\n",
    "                             random_forest_grid,\n",
    "                             n_jobs=-1,\n",
    "                             verbose=True,\n",
    "                             scoring='neg_mean_squared_error')\n",
    "rf_gridsearch.fit(X_train, y_train)\n",
    "\n",
    "print(\"best parameters:\", rf_gridsearch.best_params_)\n",
    "\n",
    "best_rf_model = rf_gridsearch.best_estimator_"
   ]
  },
  {
   "cell_type": "code",
   "execution_count": 248,
   "metadata": {},
   "outputs": [
    {
     "data": {
      "text/plain": [
       "1003.7746738741937"
      ]
     },
     "execution_count": 248,
     "metadata": {},
     "output_type": "execute_result"
    }
   ],
   "source": [
    "cross_val(X_train, y_train, k = 10, regression = best_rf_model)"
   ]
  },
  {
   "cell_type": "code",
   "execution_count": 249,
   "metadata": {},
   "outputs": [
    {
     "name": "stdout",
     "output_type": "stream",
     "text": [
      "Fitting 5 folds for each of 432 candidates, totalling 2160 fits\n"
     ]
    },
    {
     "name": "stderr",
     "output_type": "stream",
     "text": [
      "[Parallel(n_jobs=-1)]: Using backend LokyBackend with 6 concurrent workers.\n",
      "[Parallel(n_jobs=-1)]: Done  38 tasks      | elapsed:    2.0s\n",
      "[Parallel(n_jobs=-1)]: Done 188 tasks      | elapsed:    8.7s\n",
      "[Parallel(n_jobs=-1)]: Done 438 tasks      | elapsed:   29.3s\n",
      "[Parallel(n_jobs=-1)]: Done 788 tasks      | elapsed:  1.1min\n",
      "[Parallel(n_jobs=-1)]: Done 1238 tasks      | elapsed:  2.4min\n",
      "[Parallel(n_jobs=-1)]: Done 1788 tasks      | elapsed:  3.4min\n",
      "[Parallel(n_jobs=-1)]: Done 2160 out of 2160 | elapsed:  5.3min finished\n"
     ]
    },
    {
     "name": "stdout",
     "output_type": "stream",
     "text": [
      "best parameters: {'bootstrap': False, 'max_depth': None, 'max_features': 'sqrt', 'min_samples_leaf': 2, 'min_samples_split': 4, 'n_estimators': 150, 'random_state': 1}\n"
     ]
    }
   ],
   "source": [
    "# Random Forest\n",
    "\n",
    "random_forest_grid = {'max_depth': [3, 5, None],\n",
    "                      'max_features': ['sqrt', 'log2', None],\n",
    "                      'min_samples_split': [4, 6, 8],\n",
    "                      'min_samples_leaf': [2, 4],\n",
    "                      'bootstrap': [True, False],\n",
    "                      'n_estimators': [80, 100, 120, 150],\n",
    "                      'random_state': [1]}\n",
    "\n",
    "rf_gridsearch = GridSearchCV(RandomForestRegressor(),\n",
    "                             random_forest_grid,\n",
    "                             n_jobs=-1,\n",
    "                             verbose=True,\n",
    "                             scoring='neg_mean_squared_error')\n",
    "rf_gridsearch.fit(X_train, y_train)\n",
    "\n",
    "print(\"best parameters:\", rf_gridsearch.best_params_)\n",
    "\n",
    "best_rf_model = rf_gridsearch.best_estimator_"
   ]
  },
  {
   "cell_type": "code",
   "execution_count": 250,
   "metadata": {},
   "outputs": [
    {
     "data": {
      "text/plain": [
       "999.3657638133778"
      ]
     },
     "execution_count": 250,
     "metadata": {},
     "output_type": "execute_result"
    }
   ],
   "source": [
    "cross_val(X_train, y_train, k = 10, regression = best_rf_model)"
   ]
  },
  {
   "cell_type": "code",
   "execution_count": 253,
   "metadata": {},
   "outputs": [
    {
     "name": "stdout",
     "output_type": "stream",
     "text": [
      "Fitting 5 folds for each of 216 candidates, totalling 1080 fits\n"
     ]
    },
    {
     "name": "stderr",
     "output_type": "stream",
     "text": [
      "[Parallel(n_jobs=-1)]: Using backend LokyBackend with 6 concurrent workers.\n",
      "[Parallel(n_jobs=-1)]: Done  38 tasks      | elapsed:    3.1s\n",
      "[Parallel(n_jobs=-1)]: Done 188 tasks      | elapsed:   17.8s\n",
      "[Parallel(n_jobs=-1)]: Done 438 tasks      | elapsed:   59.1s\n",
      "[Parallel(n_jobs=-1)]: Done 788 tasks      | elapsed:  2.1min\n",
      "[Parallel(n_jobs=-1)]: Done 1080 out of 1080 | elapsed:  3.8min finished\n"
     ]
    },
    {
     "name": "stdout",
     "output_type": "stream",
     "text": [
      "best parameters: {'learning_rate': 0.05, 'max_depth': None, 'max_features': 'sqrt', 'min_samples_leaf': 4, 'n_estimators': 150, 'random_state': 1}\n"
     ]
    },
    {
     "data": {
      "text/plain": [
       "929.3223732940174"
      ]
     },
     "execution_count": 253,
     "metadata": {},
     "output_type": "execute_result"
    }
   ],
   "source": [
    "# Gradient Boosting\n",
    "\n",
    "boost_grid = {'learning_rate': [0.03, 0.05, 0.1, 0.3],\n",
    "              'max_depth': [3,5, None],\n",
    "              'max_features': ['sqrt', 'log2', None],\n",
    "              'min_samples_leaf': [2, 4],\n",
    "              'n_estimators': [50, 100, 150],\n",
    "              'random_state': [1]}\n",
    "\n",
    "gb_gridsearch = GridSearchCV(GradientBoostingRegressor(n_estimators=500),\n",
    "                             boost_grid,\n",
    "                             n_jobs=-1,\n",
    "                             verbose=True,\n",
    "                             scoring='neg_mean_squared_error')\n",
    "gb_gridsearch.fit(X_train, y_train)\n",
    "\n",
    "print(\"best parameters:\", gb_gridsearch.best_params_)\n",
    "\n",
    "best_gb_model = gb_gridsearch.best_estimator_\n",
    "\n",
    "cross_val(X_train, y_train, k = 10, regression = best_gb_model)"
   ]
  },
  {
   "cell_type": "code",
   "execution_count": 254,
   "metadata": {},
   "outputs": [
    {
     "name": "stdout",
     "output_type": "stream",
     "text": [
      "Fitting 5 folds for each of 96 candidates, totalling 480 fits\n"
     ]
    },
    {
     "name": "stderr",
     "output_type": "stream",
     "text": [
      "[Parallel(n_jobs=-1)]: Using backend LokyBackend with 6 concurrent workers.\n",
      "[Parallel(n_jobs=-1)]: Done  38 tasks      | elapsed:    3.6s\n",
      "[Parallel(n_jobs=-1)]: Done 188 tasks      | elapsed:   58.5s\n",
      "[Parallel(n_jobs=-1)]: Done 438 tasks      | elapsed:  2.8min\n",
      "[Parallel(n_jobs=-1)]: Done 480 out of 480 | elapsed:  3.8min finished\n"
     ]
    },
    {
     "name": "stdout",
     "output_type": "stream",
     "text": [
      "best parameters: {'learning_rate': 0.05, 'max_depth': None, 'max_features': 'sqrt', 'min_samples_leaf': 4, 'n_estimators': 170, 'random_state': 1}\n"
     ]
    },
    {
     "data": {
      "text/plain": [
       "955.0091183066819"
      ]
     },
     "execution_count": 254,
     "metadata": {},
     "output_type": "execute_result"
    }
   ],
   "source": [
    "# Gradient Boosting\n",
    "\n",
    "boost_grid = {'learning_rate': [0.03, 0.05, 0.1, 0.3],\n",
    "              'max_depth': [3, None],\n",
    "              'max_features': ['sqrt',  None],\n",
    "              'min_samples_leaf': [2, 4],\n",
    "              'n_estimators': [100, 150, 170],\n",
    "              'random_state': [1]}\n",
    "\n",
    "gb_gridsearch = GridSearchCV(GradientBoostingRegressor(n_estimators=500),\n",
    "                             boost_grid,\n",
    "                             n_jobs=-1,\n",
    "                             verbose=True,\n",
    "                             scoring='neg_mean_squared_error')\n",
    "gb_gridsearch.fit(X_train, y_train)\n",
    "\n",
    "print(\"best parameters:\", gb_gridsearch.best_params_)\n",
    "\n",
    "best_gb_model = gb_gridsearch.best_estimator_\n",
    "\n",
    "cross_val(X_train, y_train, k = 10, regression = best_gb_model)"
   ]
  },
  {
   "cell_type": "code",
   "execution_count": 257,
   "metadata": {},
   "outputs": [
    {
     "name": "stdout",
     "output_type": "stream",
     "text": [
      "0\n",
      "count    1625.000000\n",
      "mean     2209.293231\n",
      "std       624.331469\n",
      "min       680.000000\n",
      "25%      1795.000000\n",
      "50%      2123.000000\n",
      "75%      2542.500000\n",
      "max      5685.000000\n",
      "Name: rent_updated, dtype: float64\n",
      "1\n",
      "count     5908.000000\n",
      "mean      2661.787407\n",
      "std        933.233566\n",
      "min        500.000000\n",
      "25%       2071.875000\n",
      "50%       2535.250000\n",
      "75%       3100.000000\n",
      "max      21063.000000\n",
      "Name: rent_updated, dtype: float64\n",
      "2\n",
      "count     6375.000000\n",
      "mean      3398.636549\n",
      "std       1691.404001\n",
      "min        725.000000\n",
      "25%       2455.000000\n",
      "50%       3170.000000\n",
      "75%       3972.000000\n",
      "max      32000.000000\n",
      "Name: rent_updated, dtype: float64\n",
      "3\n",
      "count     1382.000000\n",
      "mean      4283.690666\n",
      "std       3264.671819\n",
      "min        750.000000\n",
      "25%       2800.000000\n",
      "50%       3675.000000\n",
      "75%       4926.125000\n",
      "max      48000.000000\n",
      "Name: rent_updated, dtype: float64\n",
      "4\n",
      "count      221.000000\n",
      "mean      5142.296380\n",
      "std       5478.838843\n",
      "min        904.000000\n",
      "25%       3070.000000\n",
      "50%       4100.000000\n",
      "75%       5500.000000\n",
      "max      65000.000000\n",
      "Name: rent_updated, dtype: float64\n",
      "5\n",
      "count       62.000000\n",
      "mean      5779.500000\n",
      "std       4579.776573\n",
      "min        714.500000\n",
      "25%       3496.250000\n",
      "50%       4997.500000\n",
      "75%       6687.500000\n",
      "max      29975.000000\n",
      "Name: rent_updated, dtype: float64\n",
      "6\n",
      "count       14.000000\n",
      "mean      6000.142857\n",
      "std       4687.789324\n",
      "min        662.000000\n",
      "25%       3962.500000\n",
      "50%       4572.500000\n",
      "75%       5600.000000\n",
      "max      18000.000000\n",
      "Name: rent_updated, dtype: float64\n",
      "7\n",
      "count        1.0\n",
      "mean     11500.0\n",
      "std          NaN\n",
      "min      11500.0\n",
      "25%      11500.0\n",
      "50%      11500.0\n",
      "75%      11500.0\n",
      "max      11500.0\n",
      "Name: rent_updated, dtype: float64\n"
     ]
    }
   ],
   "source": [
    "bed_group = data.groupby('n_bed')\n",
    "\n",
    "for bed_num, bed_data in bed_group:\n",
    "    print(bed_num)\n",
    "    print(bed_data.rent_updated.describe())"
   ]
  },
  {
   "cell_type": "code",
   "execution_count": 255,
   "metadata": {},
   "outputs": [
    {
     "data": {
      "text/plain": [
       "Index(['url', 'property_name', 'city', 'rent_updated', 'n_bed', 'n_bath',\n",
       "       'sq_ft_updated', 'walkscore', 'allow_pet', 'minimum_lease',\n",
       "       'onsite_parking', 'pool', 'fitness_center', 'elevator',\n",
       "       'kitchen_features', 'security_system', 'washer_dryer', 'internet',\n",
       "       'air_conditioning', 'furnished'],\n",
       "      dtype='object')"
      ]
     },
     "execution_count": 255,
     "metadata": {},
     "output_type": "execute_result"
    }
   ],
   "source": [
    "data.columns"
   ]
  },
  {
   "cell_type": "code",
   "execution_count": 337,
   "metadata": {},
   "outputs": [],
   "source": [
    "# Exact"
   ]
  },
  {
   "cell_type": "code",
   "execution_count": 340,
   "metadata": {},
   "outputs": [
    {
     "name": "stdout",
     "output_type": "stream",
     "text": [
      "<class 'pandas.core.frame.DataFrame'>\n",
      "RangeIndex: 7122 entries, 0 to 7121\n",
      "Data columns (total 20 columns):\n",
      " #   Column            Non-Null Count  Dtype  \n",
      "---  ------            --------------  -----  \n",
      " 0   url               7122 non-null   object \n",
      " 1   property_name     7122 non-null   object \n",
      " 2   city              7122 non-null   object \n",
      " 3   rent_updated      7122 non-null   float64\n",
      " 4   n_bed             7122 non-null   int64  \n",
      " 5   n_bath            7122 non-null   float64\n",
      " 6   sq_ft_updated     7122 non-null   float64\n",
      " 7   walkscore         7122 non-null   float64\n",
      " 8   allow_pet         7122 non-null   int64  \n",
      " 9   minimum_lease     7122 non-null   int64  \n",
      " 10  onsite_parking    7122 non-null   int64  \n",
      " 11  pool              7122 non-null   int64  \n",
      " 12  fitness_center    7122 non-null   int64  \n",
      " 13  elevator          7122 non-null   int64  \n",
      " 14  kitchen_features  7122 non-null   int64  \n",
      " 15  security_system   7122 non-null   int64  \n",
      " 16  washer_dryer      7122 non-null   int64  \n",
      " 17  internet          7122 non-null   int64  \n",
      " 18  air_conditioning  7122 non-null   int64  \n",
      " 19  furnished         7122 non-null   int64  \n",
      "dtypes: float64(4), int64(13), object(3)\n",
      "memory usage: 1.1+ MB\n"
     ]
    }
   ],
   "source": [
    "data_norange.info()"
   ]
  },
  {
   "cell_type": "code",
   "execution_count": 365,
   "metadata": {},
   "outputs": [],
   "source": [
    "def get_city_dummies(data, n_dummies):\n",
    "    city_dummies = pd.get_dummies(data['city'])\n",
    "    index = data['city'].value_counts().head(n_dummies).index\n",
    "    return pd.concat([data, city_dummies[index]], axis=1)"
   ]
  },
  {
   "cell_type": "code",
   "execution_count": 369,
   "metadata": {},
   "outputs": [],
   "source": [
    "data_nr2 = get_city_dummies(data_norange, 3)"
   ]
  },
  {
   "cell_type": "code",
   "execution_count": 373,
   "metadata": {},
   "outputs": [],
   "source": [
    "X_nr = data_nr2[['n_bed', 'n_bath',\n",
    "       'sq_ft_updated', 'walkscore', 'allow_pet', 'minimum_lease',\n",
    "       'onsite_parking', 'pool', 'fitness_center', 'elevator',\n",
    "       'kitchen_features', 'security_system', 'washer_dryer', 'internet',\n",
    "       'air_conditioning', 'furnished', 'Los Angeles', 'San Diego',\n",
    "       'San Francisco']]\n",
    "y_nr = data_nr2['rent_updated']"
   ]
  },
  {
   "cell_type": "code",
   "execution_count": 401,
   "metadata": {},
   "outputs": [],
   "source": [
    "X_train_nr, X_test_nr, y_train_nr, y_test_nr = train_test_split(X_nr, y_nr)"
   ]
  },
  {
   "cell_type": "code",
   "execution_count": 402,
   "metadata": {},
   "outputs": [
    {
     "data": {
      "text/plain": [
       "2213.294253094405"
      ]
     },
     "execution_count": 402,
     "metadata": {},
     "output_type": "execute_result"
    }
   ],
   "source": [
    "# Baseline\n",
    "cross_val(X_train_nr, y_train_nr, k = 10, regression = None)"
   ]
  },
  {
   "cell_type": "code",
   "execution_count": 403,
   "metadata": {},
   "outputs": [
    {
     "data": {
      "text/plain": [
       "1803.919801267476"
      ]
     },
     "execution_count": 403,
     "metadata": {},
     "output_type": "execute_result"
    }
   ],
   "source": [
    "# Baseline final test score\n",
    "y_nr_mean_pred = np.full(y_test_nr.shape, np.mean(y_train_nr))\n",
    "np.sqrt(mean_squared_error(y_test_nr,y_nr_mean_pred))"
   ]
  },
  {
   "cell_type": "code",
   "execution_count": 404,
   "metadata": {},
   "outputs": [
    {
     "data": {
      "text/plain": [
       "1728.1419715597635"
      ]
     },
     "execution_count": 404,
     "metadata": {},
     "output_type": "execute_result"
    }
   ],
   "source": [
    "# Linear Regression\n",
    "linear_regression = LinearRegression()\n",
    "cross_val(X_train_nr, y_train_nr, k = 10, regression = linear_regression)"
   ]
  },
  {
   "cell_type": "code",
   "execution_count": 405,
   "metadata": {},
   "outputs": [
    {
     "data": {
      "text/plain": [
       "1403.3177812954443"
      ]
     },
     "execution_count": 405,
     "metadata": {},
     "output_type": "execute_result"
    }
   ],
   "source": [
    "final_testing(X_train_nr, X_test_nr, y_train_nr, y_test_nr,linear_regression)"
   ]
  },
  {
   "cell_type": "code",
   "execution_count": 409,
   "metadata": {},
   "outputs": [
    {
     "data": {
      "text/plain": [
       "1722.106994803242"
      ]
     },
     "execution_count": 409,
     "metadata": {},
     "output_type": "execute_result"
    }
   ],
   "source": [
    "# Ridge Regression\n",
    "alphas = np.linspace(150, 300, 1000)\n",
    "scaler = StandardScaler()\n",
    "X_std = scaler.fit_transform(X_train_nr)\n",
    "regr_cv = RidgeCV(alphas=alphas)\n",
    "model_cv = regr_cv.fit(X_std, y_train_nr)\n",
    "ridge_regression = Ridge(alpha = model_cv.alpha_)\n",
    "cross_val(X_train_nr, y_train_nr, k = 10, regression = ridge_regression)"
   ]
  },
  {
   "cell_type": "code",
   "execution_count": 410,
   "metadata": {},
   "outputs": [
    {
     "data": {
      "text/plain": [
       "1405.1531160387033"
      ]
     },
     "execution_count": 410,
     "metadata": {},
     "output_type": "execute_result"
    }
   ],
   "source": [
    "final_testing(X_train_nr, X_test_nr, y_train_nr, y_test_nr,ridge_regression)"
   ]
  },
  {
   "cell_type": "code",
   "execution_count": 411,
   "metadata": {},
   "outputs": [
    {
     "name": "stdout",
     "output_type": "stream",
     "text": [
      "Fitting 5 folds for each of 90 candidates, totalling 450 fits\n"
     ]
    },
    {
     "name": "stderr",
     "output_type": "stream",
     "text": [
      "[Parallel(n_jobs=-1)]: Using backend LokyBackend with 6 concurrent workers.\n",
      "[Parallel(n_jobs=-1)]: Done  40 tasks      | elapsed:    2.1s\n"
     ]
    },
    {
     "name": "stdout",
     "output_type": "stream",
     "text": [
      "best parameters: {'max_depth': None, 'max_features': None, 'min_samples_leaf': 15, 'min_samples_split': 2, 'random_state': 1}\n"
     ]
    },
    {
     "name": "stderr",
     "output_type": "stream",
     "text": [
      "[Parallel(n_jobs=-1)]: Done 450 out of 450 | elapsed:    2.9s finished\n"
     ]
    },
    {
     "data": {
      "text/plain": [
       "1745.167393105931"
      ]
     },
     "execution_count": 411,
     "metadata": {},
     "output_type": "execute_result"
    }
   ],
   "source": [
    "# Decision Tree\n",
    "dt_grid = {'max_depth': [3, None],\n",
    "            'max_features': ['sqrt', 'log2', None],\n",
    "            'min_samples_split': [1, 2, 4],\n",
    "            'min_samples_leaf': [15, 20, 25, 30, 35],\n",
    "            'random_state': [1]}\n",
    "\n",
    "dt_gridsearch = GridSearchCV(DecisionTreeRegressor(),\n",
    "                         dt_grid,\n",
    "                             n_jobs=-1,\n",
    "                             verbose=True,\n",
    "                             scoring='neg_mean_squared_error')\n",
    "dt_gridsearch.fit(X_train_nr, y_train_nr)\n",
    "\n",
    "print(\"best parameters:\", dt_gridsearch.best_params_)\n",
    "\n",
    "best_dt_model = dt_gridsearch.best_estimator_\n",
    "cross_val(X_train_nr, y_train_nr, k = 10, regression = best_dt_model)"
   ]
  },
  {
   "cell_type": "code",
   "execution_count": 412,
   "metadata": {},
   "outputs": [
    {
     "data": {
      "text/plain": [
       "1358.757610494672"
      ]
     },
     "execution_count": 412,
     "metadata": {},
     "output_type": "execute_result"
    }
   ],
   "source": [
    "final_testing(X_train_nr, X_test_nr, y_train_nr, y_test_nr,best_dt_model)"
   ]
  },
  {
   "cell_type": "code",
   "execution_count": 415,
   "metadata": {},
   "outputs": [
    {
     "name": "stdout",
     "output_type": "stream",
     "text": [
      "Fitting 5 folds for each of 432 candidates, totalling 2160 fits\n"
     ]
    },
    {
     "name": "stderr",
     "output_type": "stream",
     "text": [
      "[Parallel(n_jobs=-1)]: Using backend LokyBackend with 6 concurrent workers.\n",
      "[Parallel(n_jobs=-1)]: Done  64 tasks      | elapsed:    2.6s\n",
      "[Parallel(n_jobs=-1)]: Done 364 tasks      | elapsed:   17.2s\n",
      "[Parallel(n_jobs=-1)]: Done 768 tasks      | elapsed:   40.6s\n",
      "[Parallel(n_jobs=-1)]: Done 1118 tasks      | elapsed:  1.3min\n",
      "[Parallel(n_jobs=-1)]: Done 1568 tasks      | elapsed:  1.6min\n",
      "[Parallel(n_jobs=-1)]: Done 2118 tasks      | elapsed:  2.5min\n",
      "[Parallel(n_jobs=-1)]: Done 2160 out of 2160 | elapsed:  2.7min finished\n"
     ]
    },
    {
     "name": "stdout",
     "output_type": "stream",
     "text": [
      "best parameters: {'bootstrap': False, 'max_depth': None, 'max_features': 'sqrt', 'min_samples_leaf': 2, 'min_samples_split': 4, 'n_estimators': 150, 'random_state': 1}\n"
     ]
    },
    {
     "data": {
      "text/plain": [
       "1458.151552310743"
      ]
     },
     "execution_count": 415,
     "metadata": {},
     "output_type": "execute_result"
    }
   ],
   "source": [
    "# Random Forest\n",
    "\n",
    "random_forest_grid = {'max_depth': [3, 5, None],\n",
    "                      'max_features': ['sqrt', 'log2', None],\n",
    "                      'min_samples_split': [4, 6, 8],\n",
    "                      'min_samples_leaf': [2, 4],\n",
    "                      'bootstrap': [True, False],\n",
    "                      'n_estimators': [80, 100, 120, 150],\n",
    "                      'random_state': [1]}\n",
    "\n",
    "rf_gridsearch = GridSearchCV(RandomForestRegressor(),\n",
    "                             random_forest_grid,\n",
    "                             n_jobs=-1,\n",
    "                             verbose=True,\n",
    "                             scoring='neg_mean_squared_error')\n",
    "rf_gridsearch.fit(X_train_nr, y_train_nr)\n",
    "\n",
    "print(\"best parameters:\", rf_gridsearch.best_params_)\n",
    "\n",
    "best_rf_model = rf_gridsearch.best_estimator_\n",
    "cross_val(X_train_nr, y_train_nr, k = 10, regression = best_rf_model)"
   ]
  },
  {
   "cell_type": "code",
   "execution_count": 416,
   "metadata": {},
   "outputs": [
    {
     "data": {
      "text/plain": [
       "995.9876605051234"
      ]
     },
     "execution_count": 416,
     "metadata": {},
     "output_type": "execute_result"
    }
   ],
   "source": [
    "final_testing(X_train_nr, X_test_nr, y_train_nr, y_test_nr,best_rf_model)"
   ]
  },
  {
   "cell_type": "code",
   "execution_count": 417,
   "metadata": {},
   "outputs": [
    {
     "name": "stdout",
     "output_type": "stream",
     "text": [
      "Fitting 5 folds for each of 216 candidates, totalling 1080 fits\n"
     ]
    },
    {
     "name": "stderr",
     "output_type": "stream",
     "text": [
      "[Parallel(n_jobs=-1)]: Using backend LokyBackend with 6 concurrent workers.\n",
      "[Parallel(n_jobs=-1)]: Done  64 tasks      | elapsed:    1.6s\n",
      "[Parallel(n_jobs=-1)]: Done 290 tasks      | elapsed:   20.5s\n",
      "[Parallel(n_jobs=-1)]: Done 540 tasks      | elapsed:   40.3s\n",
      "[Parallel(n_jobs=-1)]: Done 890 tasks      | elapsed:  1.2min\n",
      "[Parallel(n_jobs=-1)]: Done 1080 out of 1080 | elapsed:  1.6min finished\n"
     ]
    },
    {
     "name": "stdout",
     "output_type": "stream",
     "text": [
      "best parameters: {'learning_rate': 0.05, 'max_depth': None, 'max_features': 'sqrt', 'min_samples_leaf': 2, 'n_estimators': 100, 'random_state': 1}\n"
     ]
    },
    {
     "data": {
      "text/plain": [
       "1473.6803036571844"
      ]
     },
     "execution_count": 417,
     "metadata": {},
     "output_type": "execute_result"
    }
   ],
   "source": [
    "# Gradient Boosting\n",
    "\n",
    "boost_grid = {'learning_rate': [0.03, 0.05, 0.1, 0.3],\n",
    "              'max_depth': [3,5, None],\n",
    "              'max_features': ['sqrt', 'log2', None],\n",
    "              'min_samples_leaf': [2, 4],\n",
    "              'n_estimators': [50, 100, 150],\n",
    "              'random_state': [1]}\n",
    "\n",
    "gb_gridsearch = GridSearchCV(GradientBoostingRegressor(n_estimators=500),\n",
    "                             boost_grid,\n",
    "                             n_jobs=-1,\n",
    "                             verbose=True,\n",
    "                             scoring='neg_mean_squared_error')\n",
    "gb_gridsearch.fit(X_train_nr, y_train_nr)\n",
    "\n",
    "print(\"best parameters:\", gb_gridsearch.best_params_)\n",
    "\n",
    "best_gb_model = gb_gridsearch.best_estimator_\n",
    "\n",
    "cross_val(X_train_nr, y_train_nr, k = 10, regression = best_gb_model)"
   ]
  },
  {
   "cell_type": "code",
   "execution_count": 418,
   "metadata": {},
   "outputs": [
    {
     "data": {
      "text/plain": [
       "967.7747926985121"
      ]
     },
     "execution_count": 418,
     "metadata": {},
     "output_type": "execute_result"
    }
   ],
   "source": [
    "final_testing(X_train_nr, X_test_nr, y_train_nr, y_test_nr,best_gb_model)"
   ]
  }
 ],
 "metadata": {
  "kernelspec": {
   "display_name": "Python 3",
   "language": "python",
   "name": "python3"
  },
  "language_info": {
   "codemirror_mode": {
    "name": "ipython",
    "version": 3
   },
   "file_extension": ".py",
   "mimetype": "text/x-python",
   "name": "python",
   "nbconvert_exporter": "python",
   "pygments_lexer": "ipython3",
   "version": "3.8.5"
  }
 },
 "nbformat": 4,
 "nbformat_minor": 4
}
